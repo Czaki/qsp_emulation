{
 "cells": [
  {
   "cell_type": "markdown",
   "id": "751c4f4f",
   "metadata": {},
   "source": [
    "In this notebook we present comparison of [learning curves](https://en.wikipedia.org/wiki/Learning_curve_(machine_learning)) of best performing models trained in notebook `02. Training ML models`.\n",
    "\n",
    "This comparison justifies that using more data wont further improve the estimation errors."
   ]
  },
  {
   "cell_type": "code",
   "execution_count": null,
   "id": "f6450a4b",
   "metadata": {},
   "outputs": [],
   "source": []
  }
 ],
 "metadata": {
  "kernelspec": {
   "display_name": "Python 3 (ipykernel)",
   "language": "python",
   "name": "python3"
  },
  "language_info": {
   "codemirror_mode": {
    "name": "ipython",
    "version": 3
   },
   "file_extension": ".py",
   "mimetype": "text/x-python",
   "name": "python",
   "nbconvert_exporter": "python",
   "pygments_lexer": "ipython3",
   "version": "3.10.9"
  }
 },
 "nbformat": 4,
 "nbformat_minor": 5
}
