{
 "cells": [
  {
   "cell_type": "markdown",
   "metadata": {},
   "source": [
    "# Generate dataset\n",
    "\n",
    "In this notebook dataset consisting of 1000000 patients (both indicators and tumor size charts) are generated using the original QSP model.\n",
    "\n",
    "When for given patient indicators QSP returns an error, another indicators are generated.\n",
    "\n",
    "The result is saved in `./final/dataset.npz`\n",
    "\n",
    "In addition a metadata file (`./final/dataset_metadata.json`) is saved containing total times of generating patients indicators, tumor size time profiles and saving the result file.\n",
    "\n",
    "Note: this notebook requires `R` in which the original QSP model is written. This model also requires package `deSolve` to be installed in `R`."
   ]
  },
  {
   "cell_type": "code",
   "execution_count": 19,
   "metadata": {
    "ExecuteTime": {
     "start_time": "2023-04-02T00:19:50.727152Z",
     "end_time": "2023-04-02T00:19:50.775868Z"
    }
   },
   "outputs": [],
   "source": [
    "from pathlib import Path\n",
    "\n",
    "# number of patients in dataset\n",
    "DATASET_SIZE = 1_000_000\n",
    "\n",
    "MODEL_PATH = Path(\"../qspRPlusC/simulateQSP.R\").resolve()\n",
    "SAVE_PATH = Path(\"../final\")\n",
    "\n",
    "assert MODEL_PATH.exists(), f\"Model file {MODEL_PATH} does not exist\""
   ]
  },
  {
   "cell_type": "code",
   "execution_count": 20,
   "metadata": {
    "ExecuteTime": {
     "start_time": "2023-04-02T00:19:50.769429Z",
     "end_time": "2023-04-02T00:19:50.776412Z"
    }
   },
   "outputs": [
    {
     "name": "stdout",
     "output_type": "stream",
     "text": [
      "Generated 1000 sets of patients indicators in 0.0004506111145019531 seconds\n"
     ]
    }
   ],
   "source": [
    "# generating patient indicators\n",
    "import numpy as np\n",
    "import time\n",
    "\n",
    "DISTRIBUTION_PARAMETERS = np.array(\n",
    "    [\n",
    "        [0.05, 0.5],\n",
    "        [-2.436, 0.62335],\n",
    "        [-2.58098, 0.69689],\n",
    "        [0.2, 0.4],\n",
    "        [0.005, 0.01],\n",
    "        [0.01155, 0.0231],\n",
    "        [0.15, 0.30],\n",
    "        [150, 300],\n",
    "        [0.75, 1.5],\n",
    "        [1e-5, 0.01],\n",
    "    ]\n",
    ")\n",
    "PARAMETER_NAMES = [\n",
    "    \"Fraction of leukocytes in tumour\",\n",
    "    \"Fraction of cytotoxic T-cells in tumour\",\n",
    "    \"Fraction of antigen presenting cells in tumour\",\n",
    "    \"tumour growth rate\",\n",
    "    \"Stroma growth rate\",\n",
    "    \"tumour death rate\",\n",
    "    \"tumour kill rate by cytotoxic T-cells\",\n",
    "    \"The rate of cytotoxic T-cell exhaustion by PD1\",\n",
    "    \"T-cell proliferation in lymph node\",\n",
    "    \"Initial tumour volume\",\n",
    "]\n",
    "LOGNORMAL_PARAMETERS = (1, 2)\n",
    "np.random.seed(seed=42)\n",
    "\n",
    "\n",
    "def generate_patient_indicators(size):\n",
    "    generation_start_time = time.time()\n",
    "\n",
    "    patient_indicators = np.zeros((size, 11))\n",
    "    patient_indicators[:, 0] = np.ones(\n",
    "        size\n",
    "    )  # first indicator tells if treatment was applied\n",
    "\n",
    "    for i, distribution_parameters in enumerate(DISTRIBUTION_PARAMETERS):\n",
    "        if i in LOGNORMAL_PARAMETERS:\n",
    "            patient_indicators[:, i + 1] = np.random.lognormal(\n",
    "                mean=distribution_parameters[0],\n",
    "                sigma=distribution_parameters[1],\n",
    "                size=size,\n",
    "            )\n",
    "        else:\n",
    "            patient_indicators[:, i + 1] = np.random.uniform(\n",
    "                low=distribution_parameters[0],\n",
    "                high=distribution_parameters[1],\n",
    "                size=size,\n",
    "            )\n",
    "\n",
    "    generation_time_s = time.time() - generation_start_time\n",
    "\n",
    "    return patient_indicators, generation_time_s\n",
    "\n",
    "\n",
    "patient_indicators, patient_indicators_generation_time_s = generate_patient_indicators(\n",
    "    DATASET_SIZE\n",
    ")\n",
    "\n",
    "print(\n",
    "    f\"Generated {DATASET_SIZE} sets of patients indicators in {patient_indicators_generation_time_s} seconds\"\n",
    ")"
   ]
  },
  {
   "cell_type": "code",
   "execution_count": 21,
   "metadata": {
    "ExecuteTime": {
     "start_time": "2023-04-02T00:19:50.769614Z",
     "end_time": "2023-04-02T00:19:50.776809Z"
    }
   },
   "outputs": [
    {
     "data": {
      "text/plain": "<IPython.core.display.HTML object>",
      "text/html": "<table><tr><th>Indicator</th><th>Distribution</th><th>p0</th><th>p1</th><th>p2</th><th>p3</th><th>p4</th><th>p5</th><th>p6</th><th>p7</th></tr><tr><td>Fraction of leukocytes in tumour</td><td>uniform(0.05, 0.5)</td><td>0.219</td><td>0.478</td><td>0.379</td><td>0.319</td><td>0.120</td><td>0.120</td><td>0.076</td><td>0.440</td></tr><tr><td>Fraction of cytotoxic T-cells in tumour</td><td>lognormal(mean=-2.436, sigma=0.62335)</td><td>0.098</td><td>0.038</td><td>0.111</td><td>0.128</td><td>0.124</td><td>0.172</td><td>0.147</td><td>0.117</td></tr><tr><td>Fraction of antigen presenting cells in tumour</td><td>lognormal(mean=-2.58098, sigma=0.69689)</td><td>0.028</td><td>0.071</td><td>0.027</td><td>0.129</td><td>0.080</td><td>0.027</td><td>0.061</td><td>0.045</td></tr><tr><td>tumour growth rate</td><td>uniform(0.2, 0.4)</td><td>0.256</td><td>0.360</td><td>0.265</td><td>0.260</td><td>0.247</td><td>0.226</td><td>0.251</td><td>0.271</td></tr><tr><td>Stroma growth rate</td><td>uniform(0.005, 0.01)</td><td>0.006</td><td>0.006</td><td>0.006</td><td>0.007</td><td>0.008</td><td>0.008</td><td>0.007</td><td>0.008</td></tr><tr><td>tumour death rate</td><td>uniform(0.01155, 0.0231)</td><td>0.018</td><td>0.013</td><td>0.020</td><td>0.021</td><td>0.013</td><td>0.013</td><td>0.013</td><td>0.022</td></tr><tr><td>tumour kill rate by cytotoxic T-cells</td><td>uniform(0.15, 0.3)</td><td>0.233</td><td>0.285</td><td>0.289</td><td>0.151</td><td>0.161</td><td>0.188</td><td>0.250</td><td>0.283</td></tr><tr><td>The rate of cytotoxic T-cell exhaustion by PD1</td><td>uniform(150.0, 300.0)</td><td>162.697</td><td>167.891</td><td>183.687</td><td>225.030</td><td>276.066</td><td>255.194</td><td>268.356</td><td>202.646</td></tr><tr><td>T-cell proliferation in lymph node</td><td>uniform(0.75, 1.5)</td><td>1.432</td><td>0.764</td><td>1.168</td><td>1.341</td><td>1.156</td><td>0.993</td><td>0.852</td><td>1.416</td></tr><tr><td>Initial tumour volume</td><td>uniform(1e-05, 0.01)</td><td>0.001</td><td>0.009</td><td>0.004</td><td>0.008</td><td>0.004</td><td>0.004</td><td>0.006</td><td>0.008</td></tr></table>"
     },
     "metadata": {},
     "output_type": "display_data"
    }
   ],
   "source": [
    "# Displaying sample of indicators\n",
    "from IPython.display import HTML, display\n",
    "\n",
    "sample_size = min(DATASET_SIZE, 8)\n",
    "html = f\"<table><tr><th>Indicator</th><th>Distribution</th>{''.join(f'<th>p{i}</th>' for i in range(sample_size))}</tr>\"\n",
    "for i, indicator_name in enumerate(PARAMETER_NAMES):\n",
    "    html += f\"<tr><td>{indicator_name}</td><td>\"\n",
    "    if i in LOGNORMAL_PARAMETERS:\n",
    "        html += f\"lognormal(mean={DISTRIBUTION_PARAMETERS[i][0]}, sigma={DISTRIBUTION_PARAMETERS[i][1]})\"\n",
    "    else:\n",
    "        html += (\n",
    "            f\"uniform({DISTRIBUTION_PARAMETERS[i][0]}, {DISTRIBUTION_PARAMETERS[i][1]})\"\n",
    "        )\n",
    "    html += \"</td>\"\n",
    "    html += \"\".join(\n",
    "        f\"<td>{patient_indicators[j,i+1]:.3f}</td>\" for j in range(sample_size)\n",
    "    )\n",
    "    html += \"</tr>\"\n",
    "html += \"</table>\"\n",
    "display(HTML(html))"
   ]
  },
  {
   "cell_type": "code",
   "execution_count": 22,
   "metadata": {
    "ExecuteTime": {
     "start_time": "2023-04-02T00:19:50.769807Z",
     "end_time": "2023-04-02T00:19:50.777005Z"
    }
   },
   "outputs": [],
   "source": [
    "# importing model\n",
    "import os\n",
    "from contextlib import redirect_stderr, redirect_stdout\n",
    "from io import StringIO\n",
    "\n",
    "from multiprocess import Process, Queue, cpu_count\n",
    "\n",
    "from rpy2 import robjects\n",
    "from rpy2.rinterface_lib.embedded import RRuntimeError\n",
    "from rpy2.robjects.packages import SignatureTranslatedAnonymousPackage\n",
    "\n",
    "\n",
    "END_VALUE = \"end\"\n",
    "\n",
    "\n",
    "def load_r_model():\n",
    "    \"\"\"Loads R model from file and returns it as a python object.\"\"\"\n",
    "    model_path = MODEL_PATH\n",
    "    cur_dir = Path.cwd()\n",
    "    try:\n",
    "        os.chdir(model_path.parent)\n",
    "        with model_path.open(\"r\") as f_p:\n",
    "            model = SignatureTranslatedAnonymousPackage(f_p.read(), \"model\")\n",
    "    finally:\n",
    "        os.chdir(cur_dir)\n",
    "    return model\n",
    "\n",
    "\n",
    "def calc_model_point(coord, model):\n",
    "    \"\"\"\n",
    "    Calculate tumor volume trajectory for given patient indicators.\n",
    "\n",
    "    :param coord: patient start parameters\n",
    "    :param model: R model\n",
    "    :return: trajectory of tumor volume\n",
    "    \"\"\"\n",
    "    stream = StringIO()\n",
    "    err_stream = StringIO()\n",
    "    try:\n",
    "        with redirect_stdout(stream), redirect_stderr(err_stream):\n",
    "            res = model.simulateQSP(robjects.FloatVector(coord))[0]\n",
    "    except RRuntimeError as r_exception:\n",
    "        raise ValueError(f\"Error in simulation {r_exception.args[0]}\") from r_exception\n",
    "    stream.seek(0)\n",
    "    err_stream.seek(0)\n",
    "    if stream.read() or err_stream.read():\n",
    "        # if simulation is unstable model writes this information to standard output.\n",
    "        # So if there is any text on standard output we assume that simulation is unstable.\n",
    "        raise ValueError(\"Unstable simulation\")\n",
    "    index = list(res.names).index(\"Tumor_volume\")\n",
    "    return list(res[index])\n",
    "\n",
    "\n",
    "def calc_model_point_mp(in_queue: Queue, out_queue: Queue):\n",
    "    \"\"\"\n",
    "    This is worker function for multiprocessing.\n",
    "    It loads R model and then calculates tumor volume trajectory for patient indicators\n",
    "    that are passed to it via in_queue. Results are passed to out_queue.\n",
    "\n",
    "    :param in_queue: queue to collect patient indicators\n",
    "    :param out_queue: queue where results are passed\n",
    "    \"\"\"\n",
    "    stream = StringIO()\n",
    "    err_stream = StringIO()\n",
    "    try:\n",
    "        with redirect_stdout(stream), redirect_stderr(err_stream):\n",
    "            model = load_r_model()\n",
    "    except (RRuntimeError, FileNotFoundError) as e:\n",
    "        out_queue.put((None, e))\n",
    "        raise\n",
    "\n",
    "    while True:\n",
    "        input_data = in_queue.get()\n",
    "        if input_data == END_VALUE:\n",
    "            return\n",
    "\n",
    "        i, coord = input_data\n",
    "        try:\n",
    "            res = calc_model_point(coord, model)\n",
    "            out_queue.put((i, res))\n",
    "        except ValueError as e:\n",
    "            res = [coord[10], *([100.0 * coord[10]] * 199)]\n",
    "            out_queue.put((i, res))\n",
    "\n",
    "\n",
    "def collect_result(\n",
    "    out_queue: Queue, tumor_time_profiles: np.ndarray, progress_bar=None\n",
    "):\n",
    "    \"\"\"\n",
    "    Collects results from out_queue and terminates processes.\n",
    "\n",
    "    :param out_queue: queue where results are passed\n",
    "    :param tumor_time_profiles: array to store results\n",
    "    :param progress_bar: progress bar to update\n",
    "    :return: list of results\n",
    "    \"\"\"\n",
    "\n",
    "    # we assume that if we cannot collect result from out_queue in 60 seconds\n",
    "    # then something is wrong and we terminate processes\n",
    "    ind, data_row = out_queue.get(timeout=60)\n",
    "    if ind is None:\n",
    "        raise RuntimeError(\"Loading model fails\") from data_row\n",
    "    tumor_time_profiles[ind, :] = data_row\n",
    "    if progress_bar is not None and data_row[0] * 100 != data_row[1]:\n",
    "        progress_bar.update(1)\n",
    "\n",
    "\n",
    "def model_predict_with_progress(input_data, progress_bar) -> np.array:\n",
    "    in_queue = Queue()\n",
    "    out_queue = Queue()\n",
    "    process_list = []\n",
    "    process_num = cpu_count()\n",
    "\n",
    "    for _ in range(process_num):\n",
    "        proc = Process(target=calc_model_point_mp, args=(in_queue, out_queue))\n",
    "        proc.start()\n",
    "        process_list.append(proc)\n",
    "\n",
    "    res_time_profiles = np.empty((input_data.shape[0], 200))\n",
    "    calculated = 0\n",
    "\n",
    "    try:\n",
    "        for i, coord in enumerate(input_data):\n",
    "            in_queue.put((i, coord))\n",
    "\n",
    "            if i > 10 * process_num:\n",
    "                collect_result(out_queue, res_time_profiles, progress_bar)\n",
    "                calculated += 1\n",
    "\n",
    "        while calculated < input_data.shape[0]:\n",
    "            collect_result(out_queue, res_time_profiles, progress_bar)\n",
    "            calculated += 1\n",
    "        return res_time_profiles\n",
    "    finally:\n",
    "        for _ in range(process_num):\n",
    "            in_queue.put(END_VALUE)\n",
    "\n",
    "        for i in range(process_num):\n",
    "            process_list[i].join()"
   ]
  },
  {
   "cell_type": "code",
   "execution_count": 23,
   "metadata": {
    "ExecuteTime": {
     "start_time": "2023-04-02T00:19:50.776342Z",
     "end_time": "2023-04-02T00:19:51.859949Z"
    }
   },
   "outputs": [
    {
     "data": {
      "text/plain": "  0%|          | 0/8 [00:00<?, ?it/s]",
      "application/vnd.jupyter.widget-view+json": {
       "version_major": 2,
       "version_minor": 0,
       "model_id": "6179d9fa98ac40c5b2262dd67a74b024"
      }
     },
     "metadata": {},
     "output_type": "display_data"
    },
    {
     "name": "stdout",
     "output_type": "stream",
     "text": [
      "make: Nothing to be done for 'all'.\n",
      "make: Nothing to be done for 'all'.\n",
      "make: Nothing to be done for 'all'.\n",
      "make: Nothing to be done for 'all'.\n",
      "make: Nothing to be done for 'all'.\n",
      "make: Nothing to be done for 'all'.\n",
      "make: Nothing to be done for 'all'.\n",
      "make: Nothing to be done for 'all'.\n",
      "make: Nothing to be done for 'all'.\n",
      "make: Nothing to be done for 'all'.\n",
      "make: Nothing to be done for 'all'.\n",
      "make: Nothing to be done for 'all'.\n"
     ]
    }
   ],
   "source": [
    "# Testing model (generating time profiles for sample of patients)\n",
    "from tqdm.notebook import tqdm\n",
    "\n",
    "pbar = tqdm(total=sample_size)\n",
    "sample_time_profiles = model_predict_with_progress(\n",
    "    patient_indicators[:sample_size, :], pbar\n",
    ")\n",
    "pbar.close()"
   ]
  },
  {
   "cell_type": "code",
   "execution_count": 24,
   "metadata": {
    "ExecuteTime": {
     "start_time": "2023-04-02T00:19:51.876845Z",
     "end_time": "2023-04-02T00:19:53.169742Z"
    }
   },
   "outputs": [
    {
     "data": {
      "text/plain": "<Figure size 1400x600 with 8 Axes>",
      "image/png": "[encoded data removed]"
     },
     "metadata": {},
     "output_type": "display_data"
    }
   ],
   "source": [
    "# displaying sample time profiles\n",
    "%matplotlib inline\n",
    "import matplotlib.pyplot as plt\n",
    "\n",
    "x_axis = np.linspace(0, 200, sample_time_profiles.shape[1])\n",
    "\n",
    "rows, cols = (sample_size + 3) // 4, 4\n",
    "figure, axs = plt.subplots(rows, cols, sharex=True)\n",
    "figure.set_size_inches(cols * 3.5, rows * 3)\n",
    "figure.tight_layout(h_pad=2.4, rect=(0, 0, 1, 1.0 - 0.4 / rows))\n",
    "\n",
    "for row in range(rows):\n",
    "    for col in range(cols):\n",
    "        i = row * cols + col\n",
    "        if i < sample_size:\n",
    "            axs[row, col].set_title(f\"p{i}\")\n",
    "            axs[row, col].plot(x_axis, sample_time_profiles[i, :])"
   ]
  },
  {
   "cell_type": "code",
   "execution_count": 25,
   "metadata": {
    "ExecuteTime": {
     "start_time": "2023-04-02T00:19:53.175173Z",
     "end_time": "2023-04-02T00:20:03.943904Z"
    }
   },
   "outputs": [
    {
     "data": {
      "text/plain": "  0%|          | 0/1000 [00:00<?, ?it/s]",
      "application/vnd.jupyter.widget-view+json": {
       "version_major": 2,
       "version_minor": 0,
       "model_id": "52a3dbe1745140929ab22948612bf4b1"
      }
     },
     "metadata": {},
     "output_type": "display_data"
    },
    {
     "name": "stdout",
     "output_type": "stream",
     "text": [
      "make: Nothing to be done for 'all'.\n",
      "make: Nothing to be done for 'all'.\n",
      "make: Nothing to be done for 'all'.\n",
      "make: Nothing to be done for 'all'.\n",
      "make: Nothing to be done for 'all'.\n",
      "make: Nothing to be done for 'all'.\n",
      "make: Nothing to be done for 'all'.\n",
      "make: Nothing to be done for 'all'.\n",
      "make: Nothing to be done for 'all'.\n",
      "make: Nothing to be done for 'all'.\n",
      "make: Nothing to be done for 'all'.\n",
      "make: Nothing to be done for 'all'.\n",
      "make: Nothing to be done for 'all'.\n",
      "make: Nothing to be done for 'all'.\n",
      "make: Nothing to be done for 'all'.\n",
      "make: Nothing to be done for 'all'.\n",
      "make: Nothing to be done for 'all'.\n",
      "make: Nothing to be done for 'all'.\n",
      "make: Nothing to be done for 'all'.\n",
      "make: Nothing to be done for 'all'.\n",
      "make: Nothing to be done for 'all'.\n",
      "make: Nothing to be done for 'all'.\n",
      "make: Nothing to be done for 'all'.\n",
      "make: Nothing to be done for 'all'.\n"
     ]
    }
   ],
   "source": [
    "from tqdm.notebook import tqdm\n",
    "\n",
    "\n",
    "with tqdm(total=DATASET_SIZE) as pbar:\n",
    "    time_profiles_generate_start_time = time.time()\n",
    "    time_profiles = model_predict_with_progress(patient_indicators, pbar)\n",
    "    time_profiles_generation_time_s = time.time() - time_profiles_generate_start_time\n",
    "\n",
    "    missing_indices = time_profiles[:, 0] * 100.0 == time_profiles[:, 1]\n",
    "    missing_count = np.count_nonzero(missing_indices)\n",
    "\n",
    "    while missing_count > 0:\n",
    "        (\n",
    "            patient_indicators[missing_indices == True, :],\n",
    "            generation_time_s,\n",
    "        ) = generate_patient_indicators(missing_count)\n",
    "        patient_indicators_generation_time_s += generation_time_s\n",
    "\n",
    "        time_profiles_generate_start_time = time.time()\n",
    "        time_profiles[missing_indices == True, :] = model_predict_with_progress(\n",
    "            patient_indicators[missing_indices == True, :], pbar\n",
    "        )\n",
    "        time_profiles_generation_time_s += (\n",
    "            time.time() - time_profiles_generate_start_time\n",
    "        )\n",
    "\n",
    "        # on failed generation a profile [x, 100x, 100x, ..., 100x] is generated\n",
    "        # also valid for not filled time profiles (zeros)\n",
    "        missing_indices = time_profiles[:, 0] * 100.0 == time_profiles[:, 1]\n",
    "        missing_count = np.count_nonzero(missing_indices)"
   ]
  },
  {
   "cell_type": "code",
   "execution_count": 26,
   "metadata": {
    "ExecuteTime": {
     "start_time": "2023-04-02T00:20:03.949224Z",
     "end_time": "2023-04-02T00:20:03.987095Z"
    }
   },
   "outputs": [
    {
     "name": "stdout",
     "output_type": "stream",
     "text": [
      "Saved indicators and time profiles in 0.036s\n"
     ]
    }
   ],
   "source": [
    "from pathlib import Path\n",
    "\n",
    "saving_start_time = time.time()\n",
    "np.savez_compressed(\n",
    "    SAVE_PATH / \"dataset.npz\",\n",
    "    inputs=np.array(patient_indicators, dtype=np.float32),\n",
    "    outputs=np.array(time_profiles, dtype=np.float32),\n",
    "    params=\"default\",\n",
    ")\n",
    "saving_time_s = time.time() - saving_start_time\n",
    "print(f\"Saved indicators and time profiles in {saving_time_s:.3f}s\")"
   ]
  },
  {
   "cell_type": "code",
   "execution_count": 27,
   "metadata": {
    "scrolled": true,
    "ExecuteTime": {
     "start_time": "2023-04-02T00:20:03.989307Z",
     "end_time": "2023-04-02T00:20:05.096275Z"
    }
   },
   "outputs": [
    {
     "name": "stdout",
     "output_type": "stream",
     "text": [
      "{\n",
      "    \"cpu_info\": {\n",
      "        \"arch\": \"X86_64\",\n",
      "        \"bits\": 64,\n",
      "        \"brand_raw\": \"Intel(R) Core(TM) i7-8700 CPU @ 3.20GHz\",\n",
      "        \"count\": 12,\n",
      "        \"l2_cache_size\": \"1.5 MiB\"\n",
      "    },\n",
      "    \"dataset_size\": 1000,\n",
      "    \"patient_indicators_generate_time_s\": 0.0005447864532470703,\n",
      "    \"saving_time_s\": 0.035856008529663086,\n",
      "    \"time_profiles_generation_time_s\": 10.759884357452393\n",
      "}\n"
     ]
    }
   ],
   "source": [
    "import json\n",
    "import cpuinfo\n",
    "\n",
    "metadata = {\n",
    "    \"patient_indicators_generate_time_s\": patient_indicators_generation_time_s,\n",
    "    \"time_profiles_generation_time_s\": time_profiles_generation_time_s,\n",
    "    \"saving_time_s\": saving_time_s,\n",
    "    \"dataset_size\": DATASET_SIZE,\n",
    "    \"cpu_info\": {\n",
    "        k: v\n",
    "        for k, v in cpuinfo.get_cpu_info().items()\n",
    "        if k in (\"arch\", \"bits\", \"brand_raw\", \"count\", \"l2_cache_size\")\n",
    "    },\n",
    "}\n",
    "with (SAVE_PATH / \"dataset_metadata.json\").open(\"w\") as opened_file:\n",
    "    metadata_string = json.dumps(metadata, sort_keys=True, indent=4)\n",
    "    opened_file.write(metadata_string)\n",
    "    print(metadata_string)"
   ]
  },
  {
   "cell_type": "code",
   "execution_count": 27,
   "metadata": {
    "ExecuteTime": {
     "start_time": "2023-04-02T00:20:05.097347Z",
     "end_time": "2023-04-02T00:20:05.098501Z"
    }
   },
   "outputs": [],
   "source": []
  }
 ],
 "metadata": {
  "kernelspec": {
   "display_name": "Python 3 (ipykernel)",
   "language": "python",
   "name": "python3"
  },
  "language_info": {
   "codemirror_mode": {
    "name": "ipython",
    "version": 3
   },
   "file_extension": ".py",
   "mimetype": "text/x-python",
   "name": "python",
   "nbconvert_exporter": "python",
   "pygments_lexer": "ipython3",
   "version": "3.10.10"
  }
 },
 "nbformat": 4,
 "nbformat_minor": 4
}
