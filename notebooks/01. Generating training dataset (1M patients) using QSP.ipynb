{
 "cells": [
  {
   "cell_type": "markdown",
   "metadata": {},
   "source": [
    "# Generate dataset\n",
    "\n",
    "In this notebook dataset consisting of 1000000 patients (both indicators and tumor size charts) are generated using the original QSP model.\n",
    "\n",
    "When for given patient indicators QSP returns an error, another indicators are generated.\n",
    "\n",
    "The result is saved in `./final/dataset.npz`\n",
    "\n",
    "In addition a metadata file (`./final/dataset_metadata.json`) is saved containing total times of generating patients indicators, tumor size time profiles and saving the result file.\n",
    "\n",
    "Note: this notebook requires `R` in which the original QSP model is written. This model also requires package `deSolve` to be installed in `R`."
   ]
  },
  {
   "cell_type": "code",
   "execution_count": 1,
   "metadata": {},
   "outputs": [],
   "source": [
    "# number of patients in dataset\n",
    "dataset_size = 1_000_000"
   ]
  },
  {
   "cell_type": "code",
   "execution_count": 2,
   "metadata": {},
   "outputs": [
    {
     "name": "stdout",
     "output_type": "stream",
     "text": [
      "Generated 1000000 sets of patients indicators in 0.2636861801147461 seconds\n"
     ]
    }
   ],
   "source": [
    "# generating patient indicators\n",
    "import numpy as np\n",
    "import time\n",
    "\n",
    "DISTRIBUTION_PARAMETERS = np.array(\n",
    "    [\n",
    "        [0.05, 0.5],\n",
    "        [-2.436, 0.62335],\n",
    "        [-2.58098, 0.69689],\n",
    "        [0.2, 0.4],\n",
    "        [0.005, 0.01],\n",
    "        [0.01155, 0.0231],\n",
    "        [0.15, 0.30],\n",
    "        [150, 300],\n",
    "        [0.75, 1.5],\n",
    "        [1e-5, 0.01],\n",
    "    ]\n",
    ")\n",
    "PARAMETER_NAMES = [\n",
    "    \"Fraction of leukocytes in tumour\",\n",
    "    \"Fraction of cytotoxic T-cells in tumour\",\n",
    "    \"Fraction of antigen presenting cells in tumour\",\n",
    "    \"tumour growth rate\",\n",
    "    \"Stroma growth rate\",\n",
    "    \"tumour death rate\",\n",
    "    \"tumour kill rate by cytotoxic T-cells\",\n",
    "    \"The rate of cytotoxic T-cell exhaustion by PD1\",\n",
    "    \"T-cell proliferation in lymph node\",\n",
    "    \"Initial tumour volume\"\n",
    "]\n",
    "LOGNORMAL_PARAMETERS = (1, 2)\n",
    "np.random.seed(seed=42)\n",
    "\n",
    "\n",
    "def generate_patient_indicators(size):\n",
    "    generation_start_time = time.time()\n",
    "\n",
    "    patient_indicators = np.zeros((size, 11))\n",
    "    patient_indicators[:, 0] = np.ones(size)  # first indicator tells if treatment was applied\n",
    "\n",
    "    for i, distribution_parameters in enumerate(DISTRIBUTION_PARAMETERS):\n",
    "        if i in LOGNORMAL_PARAMETERS: \n",
    "            patient_indicators[:, i+1] = np.random.lognormal(mean=distribution_parameters[0], sigma=distribution_parameters[1], size=size)\n",
    "        else:\n",
    "            patient_indicators[:, i+1] = np.random.uniform(low=distribution_parameters[0], high=distribution_parameters[1], size=size)\n",
    "\n",
    "    generation_time_s = time.time() - generation_start_time\n",
    "    \n",
    "    return patient_indicators, generation_time_s\n",
    "\n",
    "patient_indicators, patient_indicators_generation_time_s = generate_patient_indicators(dataset_size)\n",
    "    \n",
    "print(f\"Generated {dataset_size} sets of patients indicators in {patient_indicators_generation_time_s} seconds\")"
   ]
  },
  {
   "cell_type": "code",
   "execution_count": 3,
   "metadata": {},
   "outputs": [
    {
     "data": {
      "text/html": [
       "<table><tr><th>Indicator</th><th>Distribution</th><th>p0</th><th>p1</th><th>p2</th><th>p3</th><th>p4</th><th>p5</th><th>p6</th><th>p7</th></tr><tr><td>Fraction of leukocytes in tumour</td><td>uniform(0.05, 0.5)</td><td>0.219</td><td>0.478</td><td>0.379</td><td>0.319</td><td>0.120</td><td>0.120</td><td>0.076</td><td>0.440</td></tr><tr><td>Fraction of cytotoxic T-cells in tumour</td><td>lognormal(mean=-2.436, sigma=0.62335)</td><td>0.030</td><td>0.186</td><td>0.088</td><td>0.082</td><td>0.092</td><td>0.159</td><td>0.062</td><td>0.117</td></tr><tr><td>Fraction of antigen presenting cells in tumour</td><td>lognormal(mean=-2.58098, sigma=0.69689)</td><td>0.110</td><td>0.196</td><td>0.045</td><td>0.045</td><td>0.198</td><td>0.098</td><td>0.079</td><td>0.263</td></tr><tr><td>tumour growth rate</td><td>uniform(0.2, 0.4)</td><td>0.204</td><td>0.227</td><td>0.353</td><td>0.350</td><td>0.394</td><td>0.204</td><td>0.353</td><td>0.343</td></tr><tr><td>Stroma growth rate</td><td>uniform(0.005, 0.01)</td><td>0.005</td><td>0.010</td><td>0.009</td><td>0.009</td><td>0.007</td><td>0.008</td><td>0.006</td><td>0.009</td></tr><tr><td>tumour death rate</td><td>uniform(0.01155, 0.0231)</td><td>0.012</td><td>0.014</td><td>0.017</td><td>0.018</td><td>0.023</td><td>0.021</td><td>0.021</td><td>0.017</td></tr><tr><td>tumour kill rate by cytotoxic T-cells</td><td>uniform(0.15, 0.3)</td><td>0.206</td><td>0.201</td><td>0.191</td><td>0.265</td><td>0.171</td><td>0.299</td><td>0.232</td><td>0.201</td></tr><tr><td>The rate of cytotoxic T-cell exhaustion by PD1</td><td>uniform(150.0, 300.0)</td><td>237.070</td><td>225.328</td><td>163.055</td><td>243.266</td><td>204.784</td><td>200.891</td><td>251.118</td><td>297.879</td></tr><tr><td>T-cell proliferation in lymph node</td><td>uniform(0.75, 1.5)</td><td>1.187</td><td>1.312</td><td>1.025</td><td>1.347</td><td>1.274</td><td>1.481</td><td>0.872</td><td>0.776</td></tr><tr><td>Initial tumour volume</td><td>uniform(1e-05, 0.01)</td><td>0.002</td><td>0.010</td><td>0.003</td><td>0.003</td><td>0.006</td><td>0.000</td><td>0.010</td><td>0.009</td></tr></table>"
      ],
      "text/plain": [
       "<IPython.core.display.HTML object>"
      ]
     },
     "metadata": {},
     "output_type": "display_data"
    }
   ],
   "source": [
    "# Displaying sample of indicators\n",
    "from IPython.display import HTML, display\n",
    "sample_size = min(dataset_size, 8)\n",
    "html = f\"<table><tr><th>Indicator</th><th>Distribution</th>{''.join(f'<th>p{i}</th>' for i in range(sample_size))}</tr>\"\n",
    "for i, indicator_name in enumerate(PARAMETER_NAMES):\n",
    "    html += f\"<tr><td>{indicator_name}</td><td>\"\n",
    "    if i in LOGNORMAL_PARAMETERS:\n",
    "        html += f\"lognormal(mean={DISTRIBUTION_PARAMETERS[i][0]}, sigma={DISTRIBUTION_PARAMETERS[i][1]})\"\n",
    "    else:\n",
    "        html += f\"uniform({DISTRIBUTION_PARAMETERS[i][0]}, {DISTRIBUTION_PARAMETERS[i][1]})\"\n",
    "    html += \"</td>\"\n",
    "    html += \"\".join(f'<td>{patient_indicators[j,i+1]:.3f}</td>' for j in range(sample_size))\n",
    "    html += \"</tr>\"\n",
    "html += \"</table>\"\n",
    "display(HTML(html))"
   ]
  },
  {
   "cell_type": "code",
   "execution_count": 4,
   "metadata": {},
   "outputs": [],
   "source": [
    "# importing model\n",
    "import os\n",
    "from contextlib import redirect_stderr, redirect_stdout\n",
    "from io import StringIO\n",
    "\n",
    "from multiprocess import Process, Queue, cpu_count\n",
    "\n",
    "from rpy2 import robjects\n",
    "from rpy2.rinterface_lib.embedded import RRuntimeError\n",
    "from rpy2.robjects.packages import SignatureTranslatedAnonymousPackage\n",
    "\n",
    "\n",
    "END_VALUE = \"end\"\n",
    "\n",
    "def load_r_model():\n",
    "    model_path = Path(\"../final/qspRPlusC/simulateQSP.R\").resolve()\n",
    "    cur_dir = os.path.abspath(os.path.curdir)\n",
    "    try:\n",
    "        os.chdir(model_path.parent)\n",
    "        with model_path.open(\"r\") as f_p:\n",
    "            model = SignatureTranslatedAnonymousPackage(f_p.read(), \"model\")\n",
    "    finally:\n",
    "        os.chdir(cur_dir)\n",
    "    return model\n",
    "\n",
    "def calc_model_point(coord, model):\n",
    "    stream = StringIO()\n",
    "    err_stream = StringIO()\n",
    "    try:\n",
    "        with redirect_stdout(stream), redirect_stderr(err_stream):\n",
    "            res = model.simulateQSP(robjects.FloatVector(coord))[0]\n",
    "    except RRuntimeError as r_exception:\n",
    "        raise ValueError(f\"Error in simulation {r_exception.args[0]}\") from r_exception\n",
    "    stream.seek(0)\n",
    "    err_stream.seek(0)\n",
    "    if stream.read() or err_stream.read():\n",
    "        # jezeli symulacja jest niestabilna model wypisuje tą informację na standardowe wyjście.\n",
    "        # Wiec jeżeli jest jakiś tekst na standardowym wyjściu to uznajemy, że symulacja jest niestabilna.\n",
    "        raise ValueError(\"Unstable simulation\")\n",
    "    index = list(res.names).index(\"Tumor_volume\")\n",
    "    return list(res[index])\n",
    "\n",
    "def calc_model_point_mp(in_queue: Queue, out_queue: Queue):\n",
    "    stream = StringIO()\n",
    "    err_stream = StringIO()\n",
    "    with redirect_stdout(stream), redirect_stderr(err_stream):\n",
    "        model = load_r_model()\n",
    "\n",
    "    while True:\n",
    "        input_data = in_queue.get()\n",
    "        if input_data == END_VALUE:\n",
    "            return\n",
    "\n",
    "        i, coord = input_data\n",
    "        try:\n",
    "            res = calc_model_point(coord, model)\n",
    "            out_queue.put((i, res))\n",
    "        except ValueError as e:\n",
    "            res = [coord[10], *([100.0 * coord[10]] * 199)]\n",
    "            out_queue.put((i, res))\n",
    "\n",
    "def model_predict_with_progress(input_data, progress_bar) -> np.array:           \n",
    "    in_queue = Queue()\n",
    "    out_queue = Queue()\n",
    "    process_list = []\n",
    "    process_num = cpu_count()\n",
    "\n",
    "    for _ in range(process_num):\n",
    "        proc = Process(target=calc_model_point_mp, args=(in_queue, out_queue))\n",
    "        proc.start()\n",
    "        process_list.append(proc)\n",
    "\n",
    "    time_profiles = np.empty((input_data.shape[0], 200))\n",
    "    calculated = 0\n",
    "\n",
    "    for i, coord in enumerate(input_data):\n",
    "        in_queue.put((i, coord))\n",
    "\n",
    "        if i > 10 * process_num:\n",
    "            j, row = out_queue.get()\n",
    "            time_profiles[j, :] = row\n",
    "            calculated += 1\n",
    "            if progress_bar is not None and row[0] * 100 != row[1]:\n",
    "                progress_bar.update(1)\n",
    "\n",
    "    while calculated < input_data.shape[0]:\n",
    "        i, row = out_queue.get()\n",
    "        time_profiles[i, :] = row\n",
    "        calculated += 1\n",
    "        if progress_bar is not None and row[0] * 100 != row[1]:\n",
    "            progress_bar.update(1)\n",
    "\n",
    "    for _ in range(process_num):\n",
    "        in_queue.put(END_VALUE)\n",
    "\n",
    "    for i in range(process_num):\n",
    "        process_list[i].join()\n",
    "        \n",
    "    return time_profiles\n"
   ]
  },
  {
   "cell_type": "code",
   "execution_count": 5,
   "metadata": {},
   "outputs": [
    {
     "data": {
      "application/vnd.jupyter.widget-view+json": {
       "model_id": "daf0a70e93294628a99608c9d3690aac",
       "version_major": 2,
       "version_minor": 0
      },
      "text/plain": [
       "HBox(children=(HTML(value=''), FloatProgress(value=0.0, max=8.0), HTML(value='')))"
      ]
     },
     "metadata": {},
     "output_type": "display_data"
    },
    {
     "name": "stdout",
     "output_type": "stream",
     "text": [
      "\n"
     ]
    }
   ],
   "source": [
    "# Testing model (generating time profiles for sample of patients)\n",
    "from tqdm.notebook import tqdm\n",
    "\n",
    "pbar = tqdm(total=sample_size)\n",
    "sample_time_profiles = model_predict_with_progress(patient_indicators[:sample_size, :], pbar)\n",
    "pbar.close()"
   ]
  },
  {
   "cell_type": "code",
   "execution_count": 6,
   "metadata": {},
   "outputs": [
    {
     "data": {
      "image/png": "[encoded data removed]",
      "text/plain": [
       "<Figure size 1008x432 with 8 Axes>"
      ]
     },
     "metadata": {
      "needs_background": "light"
     },
     "output_type": "display_data"
    }
   ],
   "source": [
    "# displaying sample time profiles\n",
    "%matplotlib inline\n",
    "import matplotlib.pyplot as plt\n",
    "\n",
    "x_axis = np.linspace(0, 200, sample_time_profiles.shape[1])\n",
    "\n",
    "rows, cols = (sample_size + 3) // 4, 4\n",
    "figure, axs = plt.subplots(rows, cols, sharex=True)\n",
    "figure.set_size_inches(cols * 3.5, rows * 3)\n",
    "figure.tight_layout(h_pad=2.4, rect=(0, 0, 1, 1.0 - 0.4 / rows))\n",
    "\n",
    "for row in range(rows):\n",
    "    for col in range(cols):\n",
    "        i = row * cols + col\n",
    "        if i < sample_size:\n",
    "            axs[row, col].set_title(f\"p{i}\")\n",
    "            axs[row, col].plot(x_axis, sample_time_profiles[i, :])"
   ]
  },
  {
   "cell_type": "code",
   "execution_count": 7,
   "metadata": {},
   "outputs": [
    {
     "data": {
      "application/vnd.jupyter.widget-view+json": {
       "model_id": "e78f0b1c2780417090750d23745fb0c3",
       "version_major": 2,
       "version_minor": 0
      },
      "text/plain": [
       "HBox(children=(HTML(value=''), FloatProgress(value=0.0, max=1000000.0), HTML(value='')))"
      ]
     },
     "metadata": {},
     "output_type": "display_data"
    },
    {
     "name": "stdout",
     "output_type": "stream",
     "text": [
      "\n"
     ]
    }
   ],
   "source": [
    "from tqdm.notebook import tqdm\n",
    "\n",
    "\n",
    "with tqdm(total=dataset_size) as pbar:\n",
    "    time_profiles_generate_start_time = time.time()\n",
    "    time_profiles = model_predict_with_progress(patient_indicators, pbar)\n",
    "    time_profiles_generation_time_s = time.time() - time_profiles_generate_start_time\n",
    "    \n",
    "    missing_indices = time_profiles[:, 0] * 100.0 == time_profiles[:, 1]\n",
    "    missing_count = np.count_nonzero(missing_indices)\n",
    "    \n",
    "    while missing_count > 0:\n",
    "        patient_indicators[missing_indices == True, :], generation_time_s = generate_patient_indicators(missing_count)\n",
    "        patient_indicators_generation_time_s += generation_time_s\n",
    "            \n",
    "        time_profiles_generate_start_time = time.time()\n",
    "        time_profiles[missing_indices == True, :] = model_predict_with_progress(patient_indicators[missing_indices == True, :], pbar)\n",
    "        time_profiles_generation_time_s += time.time() - time_profiles_generate_start_time\n",
    "\n",
    "        # on failed generation a profile [x, 100x, 100x, ..., 100x] is generated\n",
    "        # also valid for not filled time profiles (zeros)\n",
    "        missing_indices = time_profiles[:, 0] * 100.0 == time_profiles[:, 1]\n",
    "        missing_count = np.count_nonzero(missing_indices)"
   ]
  },
  {
   "cell_type": "code",
   "execution_count": 8,
   "metadata": {},
   "outputs": [
    {
     "name": "stdout",
     "output_type": "stream",
     "text": [
      "Saved indicators and time profiles in 31.697s\n"
     ]
    }
   ],
   "source": [
    "from pathlib import Path\n",
    "\n",
    "saving_start_time = time.time()\n",
    "np.savez_compressed(\n",
    "    Path('../final/dataset.npz'),\n",
    "    inputs=np.array(patient_indicators, dtype=np.float32),\n",
    "    outputs=np.array(time_profiles, dtype=np.float32),\n",
    "    params='default',\n",
    ")\n",
    "saving_time_s = time.time() - saving_start_time\n",
    "print(f\"Saved indicators and time profiles in {saving_time_s:.3f}s\")"
   ]
  },
  {
   "cell_type": "code",
   "execution_count": 9,
   "metadata": {
    "scrolled": true
   },
   "outputs": [
    {
     "name": "stdout",
     "output_type": "stream",
     "text": [
      "{\n",
      "    \"cpu_info\": {\n",
      "        \"arch\": \"X86_64\",\n",
      "        \"bits\": 64,\n",
      "        \"brand_raw\": \"Intel(R) Core(TM) i7-4980HQ CPU @ 2.80GHz\",\n",
      "        \"count\": 8,\n",
      "        \"l2_cache_size\": 262144\n",
      "    },\n",
      "    \"dataset_size\": 1000000,\n",
      "    \"patient_indicators_generate_time_s\": 0.26659202575683594,\n",
      "    \"saving_time_s\": 31.696553945541382,\n",
      "    \"time_profiles_generation_time_s\": 22173.783852100372\n",
      "}\n"
     ]
    }
   ],
   "source": [
    "import json\n",
    "import cpuinfo\n",
    "\n",
    "metadata = {\n",
    "    'patient_indicators_generate_time_s': patient_indicators_generation_time_s,\n",
    "    'time_profiles_generation_time_s': time_profiles_generation_time_s,\n",
    "    'saving_time_s': saving_time_s,\n",
    "    'dataset_size': dataset_size,\n",
    "    'cpu_info': {k:v for k,v in cpuinfo.get_cpu_info().items() if k in ('arch', 'bits', 'brand_raw', 'count', 'l2_cache_size')}\n",
    "}\n",
    "with Path('../final/dataset_metadata.json').open(\"w\") as opened_file:\n",
    "    metadata_string = json.dumps(metadata, sort_keys=True, indent=4)\n",
    "    opened_file.write(metadata_string)\n",
    "    print(metadata_string)"
   ]
  },
  {
   "cell_type": "code",
   "execution_count": null,
   "metadata": {},
   "outputs": [],
   "source": []
  }
 ],
 "metadata": {
  "kernelspec": {
   "display_name": "Python 3",
   "language": "python",
   "name": "python3"
  },
  "language_info": {
   "codemirror_mode": {
    "name": "ipython",
    "version": 3
   },
   "file_extension": ".py",
   "mimetype": "text/x-python",
   "name": "python",
   "nbconvert_exporter": "python",
   "pygments_lexer": "ipython3",
   "version": "3.10.9"
  }
 },
 "nbformat": 4,
 "nbformat_minor": 4
}
