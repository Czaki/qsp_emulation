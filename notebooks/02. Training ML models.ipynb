{
 "cells": [
  {
   "cell_type": "markdown",
   "metadata": {},
   "source": [
    "In this notebook we use the `./final/dataset.npz` dataset to train multiple ML models to create a surrogate models. The comparison between models will be presented in the next notebook.\n",
    "\n",
    "During training process dataset is split into train, test and validate sets of sizes `700000`, `150000` and `150000`.\n",
    "\n",
    "List of tested methods (with links to used implementations):\n",
    "1. [Neural Networks](https://scikit-learn.org/stable/modules/generated/sklearn.neural_network.MLPRegressor.html)\n",
    "2. Linear regression model:\n",
    "    1. [Elastic Net](https://scikit-learn.org/stable/modules/generated/sklearn.linear_model.ElasticNet.html#sklearn.linear_model.ElasticNet) L1 and L2 regularization combined\n",
    "3. Decistion Trees models:\n",
    "    1. [Boosting](https://scikit-learn.org/stable/modules/generated/sklearn.ensemble.HistGradientBoostingRegressor.html)\n",
    "    2. [Bagging](https://scikit-learn.org/stable/modules/generated/sklearn.ensemble.BaggingRegressor.html)\n",
    "    3. [Random Forrest](https://scikit-learn.org/stable/modules/generated/sklearn.ensemble.RandomForestRegressor.html)\n",
    "    4. [Extra Trees](https://scikit-learn.org/stable/modules/generated/sklearn.ensemble.ExtraTreesRegressor.html)\n",
    "4. [k-nearest neighbors](https://scikit-learn.org/stable/modules/generated/sklearn.neighbors.KNeighborsRegressor.html)\n",
    "\n",
    "For each ML method we use [Optuna](https://optuna.readthedocs.io) to find best performing set of parameters."
   ]
  },
  {
   "cell_type": "code",
   "execution_count": 19,
   "metadata": {},
   "outputs": [],
   "source": [
    "RUN_ITERATIONS_PERCENT = 100  # runs only X percent of iterations. pick small number to test if notebook is working fine"
   ]
  },
  {
   "cell_type": "code",
   "execution_count": 2,
   "metadata": {
    "scrolled": true
   },
   "outputs": [
    {
     "name": "stdout",
     "output_type": "stream",
     "text": [
      "inputs shape: (1000000, 11) dtype: float64, outputs shape: (1000000, 200), dtype: float64\n"
     ]
    }
   ],
   "source": [
    "# Loading dataset\n",
    "import numpy as np\n",
    "import os\n",
    "from pathlib import Path\n",
    "\n",
    "Path(\"../final/ml_models\").mkdir(parents=True, exist_ok=True)\n",
    "\n",
    "input_and_output = np.load(\"../final/dataset.npz\")\n",
    "inputs  = input_and_output[\"inputs\"].astype(np.float64)\n",
    "outputs = input_and_output[\"outputs\"].astype(np.float64)\n",
    "\n",
    "print(f\"inputs shape: {inputs.shape} dtype: {inputs.dtype}, outputs shape: {outputs.shape}, dtype: {outputs.dtype}\")\n",
    "dataset_size = inputs.shape[0]"
   ]
  },
  {
   "cell_type": "code",
   "execution_count": 3,
   "metadata": {},
   "outputs": [
    {
     "name": "stdout",
     "output_type": "stream",
     "text": [
      "test output [1.e-08 1.e-05 1.e-10 1.e-09 1.e+00 2.e+00 1.e+01 0.e+00]\n",
      "transformed output: [-7.      -5.      -7.      -7.       0.       0.30103  1.      -7.     ]\n",
      "original output is untouched after transform: [1.e-08 1.e-05 1.e-10 1.e-09 1.e+00 2.e+00 1.e+01 0.e+00]\n",
      "transformed and untransformed output: [0.e+00 1.e-05 0.e+00 0.e+00 1.e+00 2.e+00 1.e+01 0.e+00]\n"
     ]
    }
   ],
   "source": [
    "# In this problem we are interrested in order of magnitude rather than absolute value of the tumour size.\n",
    "# To train the models output is first transformed with log_10. When the tumour size is smaller than 10^-9 L, \n",
    "# there is no way to find it, so we can limit the lower bound of tumour size with 10^-9\n",
    "\n",
    "LOWER_LIMIT = -7\n",
    "\n",
    "def output_transform(outputs: np.array) -> np.array:\n",
    "    x = np.copy(outputs)\n",
    "    zeros_in_output = x <= 0\n",
    "    x[zeros_in_output] = 1\n",
    "    y = np.log10(x)\n",
    "    y[zeros_in_output] = LOWER_LIMIT\n",
    "    y[y < LOWER_LIMIT] = LOWER_LIMIT\n",
    "    return y\n",
    "    \n",
    "def output_untransform(transformed_outputs: np.array) -> np.array:\n",
    "    lower_limits = transformed_outputs <= LOWER_LIMIT\n",
    "    z = 10 ** transformed_outputs\n",
    "    z[lower_limits] = 0\n",
    "    return z\n",
    "\n",
    "test_output = np.array([10**(-8), 10**(-5), 10**(-10), 10**(-9),1,2,10,0.0])\n",
    "\n",
    "print(f\"test output {test_output}\")\n",
    "print(f\"transformed output: {output_transform(test_output)}\")\n",
    "print(f\"original output is untouched after transform: {test_output}\")\n",
    "print(f\"transformed and untransformed output: {output_untransform(output_transform(test_output))}\")\n",
    "\n",
    "outputs_order_of_magnitude = output_transform(outputs)"
   ]
  },
  {
   "cell_type": "code",
   "execution_count": 4,
   "metadata": {},
   "outputs": [],
   "source": [
    "# Input data has an extra column with all ones - that we get rid of before training the model\n",
    "\n",
    "def drop_treatment(input_data: np.ndarray) -> np.ndarray:\n",
    "    \"\"\"Drops treatment data from the dataset\"\"\"\n",
    "    if input_data.shape[1] == 11:\n",
    "        return input_data[:, 1:]\n",
    "\n",
    "    return input_data\n",
    "\n",
    "input_without_treatment = drop_treatment(inputs)"
   ]
  },
  {
   "cell_type": "code",
   "execution_count": 5,
   "metadata": {},
   "outputs": [
    {
     "name": "stdout",
     "output_type": "stream",
     "text": [
      "train sizes: (700000, 10), (700000, 200)\n",
      "test sizes: (150000, 10), (150000, 200)\n"
     ]
    }
   ],
   "source": [
    "# Splitting dataset into train, test, validate subsets\n",
    "train_size = int(dataset_size * 0.7)\n",
    "test_size = int(dataset_size * 0.15)\n",
    "\n",
    "X_train = input_without_treatment[:train_size, :]\n",
    "Y_train = outputs_order_of_magnitude[:train_size, :]\n",
    "print(f\"train sizes: {X_train.shape}, {Y_train.shape}\")\n",
    "X_test = input_without_treatment[train_size:(train_size + test_size), :]\n",
    "Y_test = outputs_order_of_magnitude[train_size:(train_size + test_size), :]\n",
    "print(f\"test sizes: {X_test.shape}, {Y_test.shape}\")"
   ]
  },
  {
   "cell_type": "code",
   "execution_count": 6,
   "metadata": {},
   "outputs": [],
   "source": [
    "# scaling inputs\n",
    "from sklearn.preprocessing import MinMaxScaler\n",
    "import pickle\n",
    "from pathlib import Path\n",
    "\n",
    "\n",
    "LOGNORMAL_PARAMETERS = (1, 2)\n",
    "\n",
    "class CustomScaler:\n",
    "    def __init__(self):\n",
    "        super().__init__()\n",
    "        self.scaler = MinMaxScaler()\n",
    "        self.plot_loval = [0.0] * len(LOGNORMAL_PARAMETERS)\n",
    "        self.plot_hival = [1.0] * len(LOGNORMAL_PARAMETERS)\n",
    "\n",
    "    def transform(self, x: np.ndarray, copy=None) -> np.ndarray:\n",
    "        res = self.scaler.transform(x)\n",
    "        for i, parameter_index in enumerate(LOGNORMAL_PARAMETERS):\n",
    "            res[:, parameter_index] = (x[:, parameter_index] - self.plot_loval[i]) / (self.plot_hival[i] - self.plot_loval[i])\n",
    "\n",
    "        return res\n",
    "\n",
    "    def fit(self, x, copy=None):\n",
    "        self.scaler.fit(x)\n",
    "        for i, parameter_index in enumerate(LOGNORMAL_PARAMETERS):\n",
    "            column_values = x[:, parameter_index]\n",
    "\n",
    "            quantile_1, quantile_3 = np.quantile(column_values, [0.25, 0.75], axis=0)\n",
    "            iqr = quantile_3 - quantile_1\n",
    "\n",
    "            loval = quantile_1 - 1.5 * iqr\n",
    "            hival = quantile_3 + 1.5 * iqr\n",
    "\n",
    "            wiskhi = np.compress(column_values <= hival, column_values)\n",
    "            wisklo = np.compress(column_values >= loval, column_values)\n",
    "            actual_hival = np.max(wiskhi)\n",
    "            actual_loval = np.min(wisklo)\n",
    "\n",
    "            self.plot_loval[i] = actual_loval\n",
    "            self.plot_hival[i] = actual_hival\n",
    "\n",
    "        return self\n",
    "\n",
    "    def inverse_transform(self, x, copy=None):\n",
    "        res = self.scaler.inverse_transform(x)\n",
    "        for i, parameter_index in enumerate(LOGNORMAL_PARAMETERS):\n",
    "            res[:, parameter_index] = x[:, parameter_index] * (self.plot_hival[i] - self.plot_loval[i]) + self.plot_loval[i]\n",
    "        return res\n",
    "\n",
    "scaler_path = Path(f\"../final/scaler.pickle\")\n",
    "scaler = None\n",
    "if scaler_path.exists():\n",
    "    with scaler_path.open(\"rb\") as scaler_file:\n",
    "        scaler = pickle.load(scaler_file)\n",
    "else:\n",
    "    scaler = CustomScaler().fit(X_train)\n",
    "    with scaler_path.open(\"wb\") as opened_file:\n",
    "        pickle.dump(scaler, opened_file)\n",
    "\n",
    "X_train_scaled = scaler.transform(X_train)\n",
    "X_test_scaled = scaler.transform(X_test)"
   ]
  },
  {
   "cell_type": "code",
   "execution_count": 7,
   "metadata": {},
   "outputs": [
    {
     "name": "stdout",
     "output_type": "stream",
     "text": [
      "[9.65896156e-01 3.09969465e-02 2.13722285e-03 6.93076643e-04\n",
      " 1.63051574e-04 5.64522465e-05 2.52438747e-05 1.34355642e-05\n",
      " 6.67212660e-06 3.98353564e-06 2.43601939e-06 1.58933641e-06\n",
      " 1.01770830e-06 6.80668693e-07 4.71992976e-07 3.33020978e-07]\n",
      "[0.03410384435084102, 0.003106897801798597, 0.0009696749484840702, 0.00027659830525620223, 0.00011354673170347712, 5.7094485160550534e-05, 3.185061047702586e-05, 1.8415046228782943e-05, 1.1742919633474705e-05, 7.759383996452503e-06, 5.323364604422705e-06, 3.7340281921318385e-06, 2.71631988942079e-06, 2.0356511961545228e-06, 1.5636582199018604e-06, 1.230637241455825e-06]\n"
     ]
    }
   ],
   "source": [
    "# applying pca to outputs\n",
    "from sklearn.decomposition import PCA\n",
    "\n",
    "\n",
    "PCA_COMPONENTS=16\n",
    "\n",
    "pca_path = Path(f\"../final/pca{PCA_COMPONENTS}.pickle\")\n",
    "\n",
    "if pca_path.exists():\n",
    "    with pca_path.open(\"rb\") as opened_file:\n",
    "        pca = pickle.load(opened_file)\n",
    "    Y_train_pca = pca.transform(Y_train)\n",
    "else: \n",
    "    pca = PCA(n_components=PCA_COMPONENTS)\n",
    "    Y_train_pca = pca.fit_transform(Y_train)\n",
    "    with pca_path.open(\"wb\") as opened_file:\n",
    "        pickle.dump(pca, opened_file)\n",
    "\n",
    "print(pca.explained_variance_ratio_)\n",
    "from functools import reduce\n",
    "print(list(reduce(lambda a, b: a + [a[-1] - b], pca.explained_variance_ratio_, [1.0]))[1:])"
   ]
  },
  {
   "cell_type": "code",
   "execution_count": 8,
   "metadata": {},
   "outputs": [
    {
     "name": "stdout",
     "output_type": "stream",
     "text": [
      "1. no exception\n",
      "2. message: timeout (14, <frame at 0x12fb1d010, file '/var/folders/jg/gsbj6mcn3ldd9z2krrny7lx80000gq/T/ipykernel_18237/3465348698.py', line 35, code <module>>)\n"
     ]
    }
   ],
   "source": [
    "# Example of limitting running time of the loop by scheduling an sigalrm and adding a handler for it.\n",
    "\n",
    "import optuna\n",
    "import time\n",
    "from sklearn.metrics import mean_squared_error\n",
    "from sklearn.preprocessing import PolynomialFeatures\n",
    "from sklearn.pipeline import make_pipeline\n",
    "import psutil\n",
    "import os\n",
    "import signal\n",
    "\n",
    "class TimeoutError(Exception):\n",
    "    pass\n",
    "\n",
    "def timeout_handler(*args):\n",
    "    raise TimeoutError(f\"timeout {args}\")\n",
    "\n",
    "def keyboard_interrupt_handler(*args):\n",
    "    os.kill(os.getpid(), signal.SIGINT)\n",
    "    \n",
    "signal.signal(signal.SIGALRM, timeout_handler)\n",
    "\n",
    "try:\n",
    "    signal.alarm(2)\n",
    "    time.sleep(1)\n",
    "    signal.alarm(0)\n",
    "    print(f\"1. no exception\")\n",
    "except TimeoutError as e:\n",
    "    print(f\"1. message: {e}\") \n",
    "except KeyboardInterrupt as e:\n",
    "    print(f\"1. KEYBOARD: {e}\") \n",
    "\n",
    "try:\n",
    "    signal.alarm(2)\n",
    "    time.sleep(5)\n",
    "    signal.alarm(0)\n",
    "    print(f\"2. no exception\")\n",
    "except TimeoutError as e:\n",
    "    print(f\"2. message: {e}\")\n",
    "except KeyboardInterrupt as e:\n",
    "    print(f\"2. keyboard: {e}\") "
   ]
  },
  {
   "cell_type": "code",
   "execution_count": 9,
   "metadata": {},
   "outputs": [],
   "source": [
    "def save_best_model(model, error, trial):\n",
    "    try: \n",
    "        best_value = trial.study.best_value\n",
    "    except: \n",
    "        best_value = float('inf')\n",
    "    if error < best_value:\n",
    "        print(f\"Updating {trial.study.study_name}.pickle\")\n",
    "        with Path(f\"../final/ml_models/{trial.study.study_name}.pickle\").open(\"wb\") as opened_file:\n",
    "            pickle.dump(model, opened_file)\n",
    "            \n",
    "def mse_on_test_dataset(model):\n",
    "    global X_test_scaled, pca, Y_test\n",
    "    \n",
    "    Y_predict_pca = model.predict(X_test_scaled)\n",
    "    Y_predict = pca.inverse_transform(Y_predict_pca)\n",
    "    return mean_squared_error(Y_test, Y_predict)"
   ]
  },
  {
   "cell_type": "code",
   "execution_count": 15,
   "metadata": {},
   "outputs": [
    {
     "name": "stderr",
     "output_type": "stream",
     "text": [
      "\u001B[32m[I 2023-03-24 07:12:41,627]\u001B[0m Using an existing study with name 'MLPRegressor' instead of creating a new one.\u001B[0m\n",
      "\u001B[32m[I 2023-03-24 07:48:23,230]\u001B[0m Trial 100 finished with value: 0.00029294497816456243 and parameters: {'alpha': 0.002888202482792453, 'learning_rate_init': 0.0011042917115084308, 'layer1/3': 1000, 'layer2/3': 450, 'layer3/3': 15, 'random_state': 8}. Best is trial 95 with value: 0.0002649237647044346.\u001B[0m\n",
      "\u001B[32m[I 2023-03-24 08:22:02,435]\u001B[0m Trial 101 finished with value: 0.00030768758303624364 and parameters: {'alpha': 0.003152614359252359, 'learning_rate_init': 0.00112181688145657, 'layer1/3': 1000, 'layer2/3': 450, 'layer3/3': 15, 'random_state': 8}. Best is trial 95 with value: 0.0002649237647044346.\u001B[0m\n",
      "\u001B[32m[I 2023-03-24 09:02:48,920]\u001B[0m Trial 102 finished with value: 0.0008420089919682261 and parameters: {'alpha': 0.0029003074270391466, 'learning_rate_init': 0.001385247560864844, 'layer1/3': 1000, 'layer2/3': 450, 'layer3/3': 15, 'random_state': 8}. Best is trial 95 with value: 0.0002649237647044346.\u001B[0m\n",
      "\u001B[32m[I 2023-03-24 09:39:21,743]\u001B[0m Trial 103 finished with value: 0.0005931407527592056 and parameters: {'alpha': 0.0024928996355213875, 'learning_rate_init': 0.0010569310413422297, 'layer1/3': 1000, 'layer2/3': 450, 'layer3/3': 15, 'random_state': 8}. Best is trial 95 with value: 0.0002649237647044346.\u001B[0m\n",
      "\u001B[32m[I 2023-03-24 10:24:09,594]\u001B[0m Trial 104 finished with value: 0.0005558987996870046 and parameters: {'alpha': 0.002189831829732571, 'learning_rate_init': 0.001010784608595855, 'layer1/3': 1000, 'layer2/3': 450, 'layer3/3': 15, 'random_state': 8}. Best is trial 95 with value: 0.0002649237647044346.\u001B[0m\n",
      "\u001B[32m[I 2023-03-24 11:12:13,870]\u001B[0m Trial 105 finished with value: 0.0006008102695155008 and parameters: {'alpha': 0.00211690552738935, 'learning_rate_init': 0.0008673242241458607, 'layer1/3': 1000, 'layer2/3': 500, 'layer3/3': 15, 'random_state': 8}. Best is trial 95 with value: 0.0002649237647044346.\u001B[0m\n",
      "\u001B[32m[I 2023-03-24 11:43:58,418]\u001B[0m Trial 106 finished with value: 0.00046693970457977184 and parameters: {'alpha': 0.004615638643020839, 'learning_rate_init': 0.0013288345671495254, 'layer1/3': 1000, 'layer2/3': 450, 'layer3/3': 10, 'random_state': 8}. Best is trial 95 with value: 0.0002649237647044346.\u001B[0m\n",
      "\u001B[32m[I 2023-03-24 12:11:09,288]\u001B[0m Trial 107 finished with value: 0.0004207262759459896 and parameters: {'alpha': 0.004408176207670077, 'learning_rate_init': 0.0013621746785506279, 'layer1/3': 1000, 'layer2/3': 450, 'layer3/3': 10, 'random_state': 8}. Best is trial 95 with value: 0.0002649237647044346.\u001B[0m\n",
      "\u001B[32m[I 2023-03-24 12:53:47,858]\u001B[0m Trial 108 finished with value: 0.0004628089649398815 and parameters: {'alpha': 0.004432986421596477, 'learning_rate_init': 0.0013304599778752712, 'layer1/3': 1000, 'layer2/3': 450, 'layer3/3': 10, 'random_state': 11}. Best is trial 95 with value: 0.0002649237647044346.\u001B[0m\n",
      "\u001B[32m[I 2023-03-24 13:23:22,459]\u001B[0m Trial 109 finished with value: 0.002031227771091229 and parameters: {'alpha': 0.004692281081949834, 'learning_rate_init': 0.0015590077525656314, 'layer1/3': 1000, 'layer2/3': 450, 'layer3/3': 10, 'random_state': 11}. Best is trial 95 with value: 0.0002649237647044346.\u001B[0m\n"
     ]
    },
    {
     "name": "stdout",
     "output_type": "stream",
     "text": [
      "model: MLPRegressor test dataset error: 0.0002649237647044346 best_params: {'alpha': 0.0036189832082902966, 'layer1/3': 1000, 'layer2/3': 400, 'layer3/3': 20, 'learning_rate_init': 0.0007411079532929595, 'random_state': 8}\n"
     ]
    }
   ],
   "source": [
    "# Hyperparameter optimization for neural network\n",
    "\n",
    "from sklearn.neural_network import MLPRegressor\n",
    "\n",
    "common_params={\n",
    "    \"tol\": 3e-6,\n",
    "    \"n_iter_no_change\": 5,\n",
    "    \"random_state\": 42,\n",
    "    \"warm_start\": False,\n",
    "    \"batch_size\": 10000,\n",
    "    \"max_iter\": 5000\n",
    "}\n",
    "\n",
    "def objective(trial):\n",
    "    global common_params\n",
    "    \n",
    "    phase = min((trial.number // 30), 3)\n",
    "    training_sizes = (0.05, 0.1, 0.3, 1.0)\n",
    "    training_max_duration_s = (300, 600, 1200, 3600)\n",
    "    training_size = int(training_sizes[phase] * X_train_scaled.shape[0])\n",
    "    max_duration_s = training_max_duration_s[phase]\n",
    "\n",
    "    # learning_rate = trial.suggest_categorical(\"learning_rate\", [\"constant\", \"invscaling\", \"adaptive\"])\n",
    "    learning_rate = \"constant\"\n",
    "    model_params = {\n",
    "        **common_params,\n",
    "        \"alpha\": trial.suggest_float(\"alpha\", 0.001, 1.0, log=True),\n",
    "        \"learning_rate\": learning_rate,\n",
    "        \"learning_rate_init\": trial.suggest_float(\"learning_rate_init\", 0.0001, 0.1, log=True),\n",
    "        \"power_t\": trial.suggest_float(\"power_t\", 0.1, 2.0, log=True) if learning_rate == \"invscaling\" else 0.5,\n",
    "        \"hidden_layer_sizes\": [\n",
    "            trial.suggest_int(f\"layer1/3\", 600, 1200, step=200),\n",
    "            trial.suggest_int(f\"layer2/3\", 200, 600, step=50),\n",
    "            trial.suggest_int(f\"layer3/3\", 10, 30, step=5),\n",
    "        ],\n",
    "        \"random_state\": trial.suggest_categorical(\"random_state\", list(range(0, 32))),\n",
    "#         \"hidden_layer_sizes\": [700, 200, 30]\n",
    "    }\n",
    "    \n",
    "    trial.set_user_attr(\"training_size\", training_size)\n",
    "    trial.set_user_attr(\"max_duration_s\", max_duration_s)\n",
    "    trial.set_user_attr(\"model_params\", model_params)\n",
    "    \n",
    "    model = MLPRegressor(**trial.user_attrs[\"model_params\"])\n",
    "    \n",
    "    try:\n",
    "        signal.alarm(max_duration_s)\n",
    "        with threadpool_limits(limits=8, user_api='blas'):\n",
    "            model.fit(X_train_scaled[:training_size,:], Y_train_pca[:training_size,:])\n",
    "        signal.alarm(0)\n",
    "        error = mse_on_test_dataset(model)\n",
    "        save_best_model(model, error, trial)\n",
    "            \n",
    "    except TimeoutError:\n",
    "        raise optuna.exceptions.TrialPruned()\n",
    "    return error\n",
    "\n",
    "study = optuna.create_study(study_name=\"MLPRegressor\", storage='sqlite:///../final/optuna.db', load_if_exists=True)\n",
    "trials_due = 110 * RUN_ITERATIONS_PERCENT // 100 - len(study.trials)\n",
    "if trials_due > 0:\n",
    "    previous_handler = signal.signal(signal.SIGALRM, keyboard_interrupt_handler)\n",
    "    study.optimize(objective, n_trials=trials_due)\n",
    "    signal.signal(signal.SIGALRM, previous_handler)\n",
    "    \n",
    "print(f\"model: {study.study_name} test dataset error: {study.best_value} best_params: {study.best_params}\")"
   ]
  },
  {
   "cell_type": "code",
   "execution_count": 20,
   "metadata": {},
   "outputs": [
    {
     "name": "stderr",
     "output_type": "stream",
     "text": [
      "\u001B[32m[I 2023-03-25 19:23:41,791]\u001B[0m Using an existing study with name 'MLPRegressor_constant_300' instead of creating a new one.\u001B[0m\n"
     ]
    },
    {
     "name": "stdout",
     "output_type": "stream",
     "text": [
      "{'tol': 1e-05, 'n_iter_no_change': 5, 'random_state': 11, 'warm_start': False, 'max_iter': 2000, 'batch_size': 20000, 'learning_rate': 'constant', 'alpha': 0.00046004556346854636, 'learning_rate_init': 0.00044155528151566787, 'power_t': 0.5, 'hidden_layer_sizes': [800, 400, 45]}\n"
     ]
    },
    {
     "name": "stderr",
     "output_type": "stream",
     "text": [
      "/Users/tpawlowski/Documents/qsp_emulation/venv/lib/python3.11/site-packages/sklearn/neural_network/_multilayer_perceptron.py:691: UserWarning: Training interrupted by user.\n",
      "  warnings.warn(\"Training interrupted by user.\")\n",
      "\u001B[32m[I 2023-03-25 19:28:45,031]\u001B[0m Trial 4 finished with value: 0.011399999991353642 and parameters: {'alpha': 0.00046004556346854636, 'learning_rate_init': 0.00044155528151566787, 'layer1/3': 800, 'layer2/3': 400, 'layer3/3': 45, 'batch_size': 20000, 'random_state': 11}. Best is trial 2 with value: 0.0044855957224417264.\u001B[0m\n"
     ]
    },
    {
     "name": "stdout",
     "output_type": "stream",
     "text": [
      "{'tol': 1e-05, 'n_iter_no_change': 5, 'random_state': 25, 'warm_start': False, 'max_iter': 2000, 'batch_size': 15000, 'learning_rate': 'constant', 'alpha': 0.00012821943809007743, 'learning_rate_init': 0.0005315209392756725, 'power_t': 0.5, 'hidden_layer_sizes': [600, 550, 25]}\n"
     ]
    },
    {
     "name": "stderr",
     "output_type": "stream",
     "text": [
      "/Users/tpawlowski/Documents/qsp_emulation/venv/lib/python3.11/site-packages/sklearn/neural_network/_multilayer_perceptron.py:691: UserWarning: Training interrupted by user.\n",
      "  warnings.warn(\"Training interrupted by user.\")\n",
      "\u001B[32m[I 2023-03-25 19:33:48,272]\u001B[0m Trial 5 finished with value: 0.009478221636772472 and parameters: {'alpha': 0.00012821943809007743, 'learning_rate_init': 0.0005315209392756725, 'layer1/3': 600, 'layer2/3': 550, 'layer3/3': 25, 'batch_size': 15000, 'random_state': 25}. Best is trial 2 with value: 0.0044855957224417264.\u001B[0m\n"
     ]
    },
    {
     "name": "stdout",
     "output_type": "stream",
     "text": [
      "{'tol': 1e-05, 'n_iter_no_change': 5, 'random_state': 29, 'warm_start': False, 'max_iter': 2000, 'batch_size': 25000, 'learning_rate': 'constant', 'alpha': 0.08758859340491155, 'learning_rate_init': 0.010325320235911052, 'power_t': 0.5, 'hidden_layer_sizes': [1000, 500, 50]}\n"
     ]
    },
    {
     "name": "stderr",
     "output_type": "stream",
     "text": [
      "/Users/tpawlowski/Documents/qsp_emulation/venv/lib/python3.11/site-packages/sklearn/neural_network/_multilayer_perceptron.py:691: UserWarning: Training interrupted by user.\n",
      "  warnings.warn(\"Training interrupted by user.\")\n",
      "\u001B[32m[I 2023-03-25 19:38:52,139]\u001B[0m Trial 6 finished with value: 0.003920275803763514 and parameters: {'alpha': 0.08758859340491155, 'learning_rate_init': 0.010325320235911052, 'layer1/3': 1000, 'layer2/3': 500, 'layer3/3': 50, 'batch_size': 25000, 'random_state': 29}. Best is trial 6 with value: 0.003920275803763514.\u001B[0m\n"
     ]
    },
    {
     "name": "stdout",
     "output_type": "stream",
     "text": [
      "Updating MLPRegressor_constant_300.pickle\n",
      "{'tol': 1e-05, 'n_iter_no_change': 5, 'random_state': 10, 'warm_start': False, 'max_iter': 2000, 'batch_size': 20000, 'learning_rate': 'constant', 'alpha': 0.0007267222734140214, 'learning_rate_init': 0.009617045865475064, 'power_t': 0.5, 'hidden_layer_sizes': [1000, 350, 50]}\n"
     ]
    },
    {
     "name": "stderr",
     "output_type": "stream",
     "text": [
      "/Users/tpawlowski/Documents/qsp_emulation/venv/lib/python3.11/site-packages/sklearn/neural_network/_multilayer_perceptron.py:691: UserWarning: Training interrupted by user.\n",
      "  warnings.warn(\"Training interrupted by user.\")\n",
      "\u001B[32m[I 2023-03-25 19:43:55,446]\u001B[0m Trial 7 finished with value: 0.001987847280551713 and parameters: {'alpha': 0.0007267222734140214, 'learning_rate_init': 0.009617045865475064, 'layer1/3': 1000, 'layer2/3': 350, 'layer3/3': 50, 'batch_size': 20000, 'random_state': 10}. Best is trial 7 with value: 0.001987847280551713.\u001B[0m\n"
     ]
    },
    {
     "name": "stdout",
     "output_type": "stream",
     "text": [
      "Updating MLPRegressor_constant_300.pickle\n",
      "{'tol': 1e-05, 'n_iter_no_change': 5, 'random_state': 3, 'warm_start': False, 'max_iter': 2000, 'batch_size': 25000, 'learning_rate': 'constant', 'alpha': 0.6326897855775133, 'learning_rate_init': 0.0008800602867126147, 'power_t': 0.5, 'hidden_layer_sizes': [1000, 350, 40]}\n"
     ]
    },
    {
     "name": "stderr",
     "output_type": "stream",
     "text": [
      "/Users/tpawlowski/Documents/qsp_emulation/venv/lib/python3.11/site-packages/sklearn/neural_network/_multilayer_perceptron.py:691: UserWarning: Training interrupted by user.\n",
      "  warnings.warn(\"Training interrupted by user.\")\n",
      "\u001B[32m[I 2023-03-25 19:48:58,650]\u001B[0m Trial 8 finished with value: 0.01562866001737535 and parameters: {'alpha': 0.6326897855775133, 'learning_rate_init': 0.0008800602867126147, 'layer1/3': 1000, 'layer2/3': 350, 'layer3/3': 40, 'batch_size': 25000, 'random_state': 3}. Best is trial 7 with value: 0.001987847280551713.\u001B[0m\n"
     ]
    },
    {
     "name": "stdout",
     "output_type": "stream",
     "text": [
      "{'tol': 1e-05, 'n_iter_no_change': 5, 'random_state': 0, 'warm_start': False, 'max_iter': 2000, 'batch_size': 20000, 'learning_rate': 'constant', 'alpha': 0.00021916618900850738, 'learning_rate_init': 0.030793985405861642, 'power_t': 0.5, 'hidden_layer_sizes': [800, 500, 25]}\n"
     ]
    },
    {
     "name": "stderr",
     "output_type": "stream",
     "text": [
      "/Users/tpawlowski/Documents/qsp_emulation/venv/lib/python3.11/site-packages/sklearn/neural_network/_multilayer_perceptron.py:691: UserWarning: Training interrupted by user.\n",
      "  warnings.warn(\"Training interrupted by user.\")\n",
      "\u001B[32m[I 2023-03-25 19:54:02,140]\u001B[0m Trial 9 finished with value: 0.004888650861505934 and parameters: {'alpha': 0.00021916618900850738, 'learning_rate_init': 0.030793985405861642, 'layer1/3': 800, 'layer2/3': 500, 'layer3/3': 25, 'batch_size': 20000, 'random_state': 0}. Best is trial 7 with value: 0.001987847280551713.\u001B[0m\n"
     ]
    },
    {
     "name": "stdout",
     "output_type": "stream",
     "text": [
      "{'tol': 1e-05, 'n_iter_no_change': 5, 'random_state': 10, 'warm_start': False, 'max_iter': 2000, 'batch_size': 15000, 'learning_rate': 'constant', 'alpha': 0.0033310018878062843, 'learning_rate_init': 0.004142314138850376, 'power_t': 0.5, 'hidden_layer_sizes': [1200, 200, 10]}\n"
     ]
    },
    {
     "name": "stderr",
     "output_type": "stream",
     "text": [
      "/Users/tpawlowski/Documents/qsp_emulation/venv/lib/python3.11/site-packages/sklearn/neural_network/_multilayer_perceptron.py:691: UserWarning: Training interrupted by user.\n",
      "  warnings.warn(\"Training interrupted by user.\")\n",
      "\u001B[32m[I 2023-03-25 19:59:05,130]\u001B[0m Trial 10 finished with value: 0.006692497509912398 and parameters: {'alpha': 0.0033310018878062843, 'learning_rate_init': 0.004142314138850376, 'layer1/3': 1200, 'layer2/3': 200, 'layer3/3': 10, 'batch_size': 15000, 'random_state': 10}. Best is trial 7 with value: 0.001987847280551713.\u001B[0m\n"
     ]
    },
    {
     "name": "stdout",
     "output_type": "stream",
     "text": [
      "{'tol': 1e-05, 'n_iter_no_change': 5, 'random_state': 29, 'warm_start': False, 'max_iter': 2000, 'batch_size': 25000, 'learning_rate': 'constant', 'alpha': 0.022335059300882937, 'learning_rate_init': 0.007071188890175775, 'power_t': 0.5, 'hidden_layer_sizes': [1000, 450, 50]}\n"
     ]
    },
    {
     "name": "stderr",
     "output_type": "stream",
     "text": [
      "/Users/tpawlowski/Documents/qsp_emulation/venv/lib/python3.11/site-packages/sklearn/neural_network/_multilayer_perceptron.py:691: UserWarning: Training interrupted by user.\n",
      "  warnings.warn(\"Training interrupted by user.\")\n",
      "\u001B[32m[I 2023-03-25 20:04:08,865]\u001B[0m Trial 11 finished with value: 0.007332533390797138 and parameters: {'alpha': 0.022335059300882937, 'learning_rate_init': 0.007071188890175775, 'layer1/3': 1000, 'layer2/3': 450, 'layer3/3': 50, 'batch_size': 25000, 'random_state': 29}. Best is trial 7 with value: 0.001987847280551713.\u001B[0m\n"
     ]
    },
    {
     "name": "stdout",
     "output_type": "stream",
     "text": [
      "{'tol': 1e-05, 'n_iter_no_change': 5, 'random_state': 24, 'warm_start': False, 'max_iter': 2000, 'batch_size': 25000, 'learning_rate': 'constant', 'alpha': 0.014389721096617632, 'learning_rate_init': 0.013452893381751062, 'power_t': 0.5, 'hidden_layer_sizes': [1200, 600, 50]}\n"
     ]
    },
    {
     "name": "stderr",
     "output_type": "stream",
     "text": [
      "/Users/tpawlowski/Documents/qsp_emulation/venv/lib/python3.11/site-packages/sklearn/neural_network/_multilayer_perceptron.py:691: UserWarning: Training interrupted by user.\n",
      "  warnings.warn(\"Training interrupted by user.\")\n",
      "\u001B[32m[I 2023-03-25 20:09:13,491]\u001B[0m Trial 12 finished with value: 0.011479468266309105 and parameters: {'alpha': 0.014389721096617632, 'learning_rate_init': 0.013452893381751062, 'layer1/3': 1200, 'layer2/3': 600, 'layer3/3': 50, 'batch_size': 25000, 'random_state': 24}. Best is trial 7 with value: 0.001987847280551713.\u001B[0m\n"
     ]
    },
    {
     "name": "stdout",
     "output_type": "stream",
     "text": [
      "{'tol': 1e-05, 'n_iter_no_change': 5, 'random_state': 9, 'warm_start': False, 'max_iter': 2000, 'batch_size': 20000, 'learning_rate': 'constant', 'alpha': 0.005837605099197237, 'learning_rate_init': 0.0430066421521813, 'power_t': 0.5, 'hidden_layer_sizes': [1000, 350, 50]}\n"
     ]
    },
    {
     "name": "stderr",
     "output_type": "stream",
     "text": [
      "/Users/tpawlowski/Documents/qsp_emulation/venv/lib/python3.11/site-packages/sklearn/neural_network/_multilayer_perceptron.py:691: UserWarning: Training interrupted by user.\n",
      "  warnings.warn(\"Training interrupted by user.\")\n",
      "\u001B[32m[I 2023-03-25 20:14:16,750]\u001B[0m Trial 13 finished with value: 0.0149479283473184 and parameters: {'alpha': 0.005837605099197237, 'learning_rate_init': 0.0430066421521813, 'layer1/3': 1000, 'layer2/3': 350, 'layer3/3': 50, 'batch_size': 20000, 'random_state': 9}. Best is trial 7 with value: 0.001987847280551713.\u001B[0m\n"
     ]
    },
    {
     "name": "stdout",
     "output_type": "stream",
     "text": [
      "{'tol': 1e-05, 'n_iter_no_change': 5, 'random_state': 22, 'warm_start': False, 'max_iter': 2000, 'batch_size': 15000, 'learning_rate': 'constant', 'alpha': 0.0465554351909475, 'learning_rate_init': 0.012120630339935264, 'power_t': 0.5, 'hidden_layer_sizes': [600, 450, 45]}\n"
     ]
    },
    {
     "name": "stderr",
     "output_type": "stream",
     "text": [
      "/Users/tpawlowski/Documents/qsp_emulation/venv/lib/python3.11/site-packages/sklearn/neural_network/_multilayer_perceptron.py:691: UserWarning: Training interrupted by user.\n",
      "  warnings.warn(\"Training interrupted by user.\")\n",
      "\u001B[32m[I 2023-03-25 20:19:19,607]\u001B[0m Trial 14 finished with value: 0.0009703271693535672 and parameters: {'alpha': 0.0465554351909475, 'learning_rate_init': 0.012120630339935264, 'layer1/3': 600, 'layer2/3': 450, 'layer3/3': 45, 'batch_size': 15000, 'random_state': 22}. Best is trial 14 with value: 0.0009703271693535672.\u001B[0m\n"
     ]
    },
    {
     "name": "stdout",
     "output_type": "stream",
     "text": [
      "Updating MLPRegressor_constant_300.pickle\n",
      "{'tol': 1e-05, 'n_iter_no_change': 5, 'random_state': 22, 'warm_start': False, 'max_iter': 2000, 'batch_size': 15000, 'learning_rate': 'constant', 'alpha': 0.001666651206945953, 'learning_rate_init': 0.004184389554093863, 'power_t': 0.5, 'hidden_layer_sizes': [600, 300, 40]}\n"
     ]
    },
    {
     "name": "stderr",
     "output_type": "stream",
     "text": [
      "/Users/tpawlowski/Documents/qsp_emulation/venv/lib/python3.11/site-packages/sklearn/neural_network/_multilayer_perceptron.py:691: UserWarning: Training interrupted by user.\n",
      "  warnings.warn(\"Training interrupted by user.\")\n",
      "\u001B[32m[I 2023-03-25 20:24:22,095]\u001B[0m Trial 15 finished with value: 0.0017593661585133414 and parameters: {'alpha': 0.001666651206945953, 'learning_rate_init': 0.004184389554093863, 'layer1/3': 600, 'layer2/3': 300, 'layer3/3': 40, 'batch_size': 15000, 'random_state': 22}. Best is trial 14 with value: 0.0009703271693535672.\u001B[0m\n"
     ]
    },
    {
     "name": "stdout",
     "output_type": "stream",
     "text": [
      "{'tol': 1e-05, 'n_iter_no_change': 5, 'random_state': 22, 'warm_start': False, 'max_iter': 2000, 'batch_size': 15000, 'learning_rate': 'constant', 'alpha': 0.0023779617873667894, 'learning_rate_init': 0.00310823499056314, 'power_t': 0.5, 'hidden_layer_sizes': [600, 250, 30]}\n"
     ]
    },
    {
     "name": "stderr",
     "output_type": "stream",
     "text": [
      "/Users/tpawlowski/Documents/qsp_emulation/venv/lib/python3.11/site-packages/sklearn/neural_network/_multilayer_perceptron.py:691: UserWarning: Training interrupted by user.\n",
      "  warnings.warn(\"Training interrupted by user.\")\n",
      "\u001B[32m[I 2023-03-25 20:29:24,398]\u001B[0m Trial 16 finished with value: 0.0021219734853641734 and parameters: {'alpha': 0.0023779617873667894, 'learning_rate_init': 0.00310823499056314, 'layer1/3': 600, 'layer2/3': 250, 'layer3/3': 30, 'batch_size': 15000, 'random_state': 22}. Best is trial 14 with value: 0.0009703271693535672.\u001B[0m\n"
     ]
    },
    {
     "name": "stdout",
     "output_type": "stream",
     "text": [
      "{'tol': 1e-05, 'n_iter_no_change': 5, 'random_state': 22, 'warm_start': False, 'max_iter': 2000, 'batch_size': 15000, 'learning_rate': 'constant', 'alpha': 0.02587857142477541, 'learning_rate_init': 0.019042737384725703, 'power_t': 0.5, 'hidden_layer_sizes': [600, 450, 40]}\n"
     ]
    },
    {
     "name": "stderr",
     "output_type": "stream",
     "text": [
      "/Users/tpawlowski/Documents/qsp_emulation/venv/lib/python3.11/site-packages/sklearn/neural_network/_multilayer_perceptron.py:691: UserWarning: Training interrupted by user.\n",
      "  warnings.warn(\"Training interrupted by user.\")\n",
      "\u001B[32m[I 2023-03-25 20:34:27,260]\u001B[0m Trial 17 finished with value: 0.0022985313981779567 and parameters: {'alpha': 0.02587857142477541, 'learning_rate_init': 0.019042737384725703, 'layer1/3': 600, 'layer2/3': 450, 'layer3/3': 40, 'batch_size': 15000, 'random_state': 22}. Best is trial 14 with value: 0.0009703271693535672.\u001B[0m\n"
     ]
    },
    {
     "name": "stdout",
     "output_type": "stream",
     "text": [
      "{'tol': 1e-05, 'n_iter_no_change': 5, 'random_state': 14, 'warm_start': False, 'max_iter': 2000, 'batch_size': 10000, 'learning_rate': 'constant', 'alpha': 0.005120727838564136, 'learning_rate_init': 0.005112397178142457, 'power_t': 0.5, 'hidden_layer_sizes': [600, 300, 20]}\n"
     ]
    },
    {
     "name": "stderr",
     "output_type": "stream",
     "text": [
      "/Users/tpawlowski/Documents/qsp_emulation/venv/lib/python3.11/site-packages/sklearn/neural_network/_multilayer_perceptron.py:691: UserWarning: Training interrupted by user.\n",
      "  warnings.warn(\"Training interrupted by user.\")\n",
      "\u001B[32m[I 2023-03-25 20:39:29,655]\u001B[0m Trial 18 finished with value: 0.0006568588902584345 and parameters: {'alpha': 0.005120727838564136, 'learning_rate_init': 0.005112397178142457, 'layer1/3': 600, 'layer2/3': 300, 'layer3/3': 20, 'batch_size': 10000, 'random_state': 14}. Best is trial 18 with value: 0.0006568588902584345.\u001B[0m\n"
     ]
    },
    {
     "name": "stdout",
     "output_type": "stream",
     "text": [
      "Updating MLPRegressor_constant_300.pickle\n",
      "{'tol': 1e-05, 'n_iter_no_change': 5, 'random_state': 19, 'warm_start': False, 'max_iter': 2000, 'batch_size': 10000, 'learning_rate': 'constant', 'alpha': 0.009658292431350652, 'learning_rate_init': 0.005805973939894502, 'power_t': 0.5, 'hidden_layer_sizes': [600, 200, 20]}\n"
     ]
    },
    {
     "name": "stderr",
     "output_type": "stream",
     "text": [
      "/Users/tpawlowski/Documents/qsp_emulation/venv/lib/python3.11/site-packages/sklearn/neural_network/_multilayer_perceptron.py:691: UserWarning: Training interrupted by user.\n",
      "  warnings.warn(\"Training interrupted by user.\")\n",
      "\u001B[32m[I 2023-03-25 20:44:31,795]\u001B[0m Trial 19 finished with value: 0.0040045210366614 and parameters: {'alpha': 0.009658292431350652, 'learning_rate_init': 0.005805973939894502, 'layer1/3': 600, 'layer2/3': 200, 'layer3/3': 20, 'batch_size': 10000, 'random_state': 19}. Best is trial 18 with value: 0.0006568588902584345.\u001B[0m\n"
     ]
    },
    {
     "name": "stdout",
     "output_type": "stream",
     "text": [
      "{'tol': 1e-05, 'n_iter_no_change': 5, 'random_state': 31, 'warm_start': False, 'max_iter': 2000, 'batch_size': 10000, 'learning_rate': 'constant', 'alpha': 0.029158261349170943, 'learning_rate_init': 0.002155666971118656, 'power_t': 0.5, 'hidden_layer_sizes': [600, 400, 15]}\n"
     ]
    },
    {
     "name": "stderr",
     "output_type": "stream",
     "text": [
      "/Users/tpawlowski/Documents/qsp_emulation/venv/lib/python3.11/site-packages/sklearn/neural_network/_multilayer_perceptron.py:691: UserWarning: Training interrupted by user.\n",
      "  warnings.warn(\"Training interrupted by user.\")\n",
      "\u001B[32m[I 2023-03-25 20:49:34,295]\u001B[0m Trial 20 finished with value: 0.003420652836603672 and parameters: {'alpha': 0.029158261349170943, 'learning_rate_init': 0.002155666971118656, 'layer1/3': 600, 'layer2/3': 400, 'layer3/3': 15, 'batch_size': 10000, 'random_state': 31}. Best is trial 18 with value: 0.0006568588902584345.\u001B[0m\n"
     ]
    },
    {
     "name": "stdout",
     "output_type": "stream",
     "text": [
      "{'tol': 1e-05, 'n_iter_no_change': 5, 'random_state': 18, 'warm_start': False, 'max_iter': 2000, 'batch_size': 15000, 'learning_rate': 'constant', 'alpha': 0.005015672163980957, 'learning_rate_init': 0.004906471669025534, 'power_t': 0.5, 'hidden_layer_sizes': [600, 300, 30]}\n"
     ]
    },
    {
     "name": "stderr",
     "output_type": "stream",
     "text": [
      "/Users/tpawlowski/Documents/qsp_emulation/venv/lib/python3.11/site-packages/sklearn/neural_network/_multilayer_perceptron.py:691: UserWarning: Training interrupted by user.\n",
      "  warnings.warn(\"Training interrupted by user.\")\n",
      "\u001B[32m[I 2023-03-25 20:54:36,798]\u001B[0m Trial 21 finished with value: 0.002834732640425721 and parameters: {'alpha': 0.005015672163980957, 'learning_rate_init': 0.004906471669025534, 'layer1/3': 600, 'layer2/3': 300, 'layer3/3': 30, 'batch_size': 15000, 'random_state': 18}. Best is trial 18 with value: 0.0006568588902584345.\u001B[0m\n"
     ]
    },
    {
     "name": "stdout",
     "output_type": "stream",
     "text": [
      "{'tol': 1e-05, 'n_iter_no_change': 5, 'random_state': 14, 'warm_start': False, 'max_iter': 2000, 'batch_size': 10000, 'learning_rate': 'constant', 'alpha': 0.0020140539827411446, 'learning_rate_init': 0.003914508266596462, 'power_t': 0.5, 'hidden_layer_sizes': [600, 300, 45]}\n"
     ]
    },
    {
     "name": "stderr",
     "output_type": "stream",
     "text": [
      "/Users/tpawlowski/Documents/qsp_emulation/venv/lib/python3.11/site-packages/sklearn/neural_network/_multilayer_perceptron.py:691: UserWarning: Training interrupted by user.\n",
      "  warnings.warn(\"Training interrupted by user.\")\n",
      "\u001B[32m[I 2023-03-25 20:59:39,273]\u001B[0m Trial 22 finished with value: 0.0019069498435163928 and parameters: {'alpha': 0.0020140539827411446, 'learning_rate_init': 0.003914508266596462, 'layer1/3': 600, 'layer2/3': 300, 'layer3/3': 45, 'batch_size': 10000, 'random_state': 14}. Best is trial 18 with value: 0.0006568588902584345.\u001B[0m\n"
     ]
    },
    {
     "name": "stdout",
     "output_type": "stream",
     "text": [
      "{'tol': 1e-05, 'n_iter_no_change': 5, 'random_state': 14, 'warm_start': False, 'max_iter': 2000, 'batch_size': 15000, 'learning_rate': 'constant', 'alpha': 0.008256115728663315, 'learning_rate_init': 0.021843790488114353, 'power_t': 0.5, 'hidden_layer_sizes': [800, 250, 20]}\n"
     ]
    },
    {
     "name": "stderr",
     "output_type": "stream",
     "text": [
      "/Users/tpawlowski/Documents/qsp_emulation/venv/lib/python3.11/site-packages/sklearn/neural_network/_multilayer_perceptron.py:691: UserWarning: Training interrupted by user.\n",
      "  warnings.warn(\"Training interrupted by user.\")\n",
      "\u001B[32m[I 2023-03-25 21:04:41,879]\u001B[0m Trial 23 finished with value: 0.0012932963859022047 and parameters: {'alpha': 0.008256115728663315, 'learning_rate_init': 0.021843790488114353, 'layer1/3': 800, 'layer2/3': 250, 'layer3/3': 20, 'batch_size': 15000, 'random_state': 14}. Best is trial 18 with value: 0.0006568588902584345.\u001B[0m\n"
     ]
    },
    {
     "name": "stdout",
     "output_type": "stream",
     "text": [
      "{'tol': 1e-05, 'n_iter_no_change': 5, 'random_state': 14, 'warm_start': False, 'max_iter': 2000, 'batch_size': 10000, 'learning_rate': 'constant', 'alpha': 0.008011201652059024, 'learning_rate_init': 0.023033931934889243, 'power_t': 0.5, 'hidden_layer_sizes': [800, 250, 20]}\n"
     ]
    },
    {
     "name": "stderr",
     "output_type": "stream",
     "text": [
      "/Users/tpawlowski/Documents/qsp_emulation/venv/lib/python3.11/site-packages/sklearn/neural_network/_multilayer_perceptron.py:691: UserWarning: Training interrupted by user.\n",
      "  warnings.warn(\"Training interrupted by user.\")\n",
      "\u001B[32m[I 2023-03-25 21:09:44,489]\u001B[0m Trial 24 finished with value: 0.0009531707663107343 and parameters: {'alpha': 0.008011201652059024, 'learning_rate_init': 0.023033931934889243, 'layer1/3': 800, 'layer2/3': 250, 'layer3/3': 20, 'batch_size': 10000, 'random_state': 14}. Best is trial 18 with value: 0.0006568588902584345.\u001B[0m\n"
     ]
    },
    {
     "name": "stdout",
     "output_type": "stream",
     "text": [
      "{'tol': 1e-05, 'n_iter_no_change': 5, 'random_state': 21, 'warm_start': False, 'max_iter': 2000, 'batch_size': 10000, 'learning_rate': 'constant', 'alpha': 0.045875589442154294, 'learning_rate_init': 0.0151924457624584, 'power_t': 0.5, 'hidden_layer_sizes': [800, 200, 20]}\n"
     ]
    },
    {
     "name": "stderr",
     "output_type": "stream",
     "text": [
      "/Users/tpawlowski/Documents/qsp_emulation/venv/lib/python3.11/site-packages/sklearn/neural_network/_multilayer_perceptron.py:691: UserWarning: Training interrupted by user.\n",
      "  warnings.warn(\"Training interrupted by user.\")\n",
      "\u001B[32m[I 2023-03-25 21:14:46,927]\u001B[0m Trial 25 finished with value: 0.0041648111852888555 and parameters: {'alpha': 0.045875589442154294, 'learning_rate_init': 0.0151924457624584, 'layer1/3': 800, 'layer2/3': 200, 'layer3/3': 20, 'batch_size': 10000, 'random_state': 21}. Best is trial 18 with value: 0.0006568588902584345.\u001B[0m\n"
     ]
    },
    {
     "name": "stdout",
     "output_type": "stream",
     "text": [
      "{'tol': 1e-05, 'n_iter_no_change': 5, 'random_state': 26, 'warm_start': False, 'max_iter': 2000, 'batch_size': 10000, 'learning_rate': 'constant', 'alpha': 0.008791460351668301, 'learning_rate_init': 0.04833581237740439, 'power_t': 0.5, 'hidden_layer_sizes': [800, 450, 15]}\n"
     ]
    },
    {
     "name": "stderr",
     "output_type": "stream",
     "text": [
      "/Users/tpawlowski/Documents/qsp_emulation/venv/lib/python3.11/site-packages/sklearn/neural_network/_multilayer_perceptron.py:691: UserWarning: Training interrupted by user.\n",
      "  warnings.warn(\"Training interrupted by user.\")\n",
      "\u001B[32m[I 2023-03-25 21:19:50,092]\u001B[0m Trial 26 finished with value: 0.7167248066638885 and parameters: {'alpha': 0.008791460351668301, 'learning_rate_init': 0.04833581237740439, 'layer1/3': 800, 'layer2/3': 450, 'layer3/3': 15, 'batch_size': 10000, 'random_state': 26}. Best is trial 18 with value: 0.0006568588902584345.\u001B[0m\n"
     ]
    },
    {
     "name": "stdout",
     "output_type": "stream",
     "text": [
      "{'tol': 1e-05, 'n_iter_no_change': 5, 'random_state': 14, 'warm_start': False, 'max_iter': 2000, 'batch_size': 10000, 'learning_rate': 'constant', 'alpha': 0.01638477497488639, 'learning_rate_init': 0.007818889302526846, 'power_t': 0.5, 'hidden_layer_sizes': [600, 250, 25]}\n"
     ]
    },
    {
     "name": "stderr",
     "output_type": "stream",
     "text": [
      "/Users/tpawlowski/Documents/qsp_emulation/venv/lib/python3.11/site-packages/sklearn/neural_network/_multilayer_perceptron.py:691: UserWarning: Training interrupted by user.\n",
      "  warnings.warn(\"Training interrupted by user.\")\n",
      "\u001B[32m[I 2023-03-25 21:24:52,371]\u001B[0m Trial 27 finished with value: 0.0007735792990643046 and parameters: {'alpha': 0.01638477497488639, 'learning_rate_init': 0.007818889302526846, 'layer1/3': 600, 'layer2/3': 250, 'layer3/3': 25, 'batch_size': 10000, 'random_state': 14}. Best is trial 18 with value: 0.0006568588902584345.\u001B[0m\n"
     ]
    },
    {
     "name": "stdout",
     "output_type": "stream",
     "text": [
      "{'tol': 1e-05, 'n_iter_no_change': 5, 'random_state': 14, 'warm_start': False, 'max_iter': 2000, 'batch_size': 10000, 'learning_rate': 'constant', 'alpha': 0.013062128870099967, 'learning_rate_init': 0.007298440931282992, 'power_t': 0.5, 'hidden_layer_sizes': [800, 250, 25]}\n"
     ]
    },
    {
     "name": "stderr",
     "output_type": "stream",
     "text": [
      "/Users/tpawlowski/Documents/qsp_emulation/venv/lib/python3.11/site-packages/sklearn/neural_network/_multilayer_perceptron.py:691: UserWarning: Training interrupted by user.\n",
      "  warnings.warn(\"Training interrupted by user.\")\n",
      "\u001B[32m[I 2023-03-25 21:29:54,986]\u001B[0m Trial 28 finished with value: 0.0006350930784321306 and parameters: {'alpha': 0.013062128870099967, 'learning_rate_init': 0.007298440931282992, 'layer1/3': 800, 'layer2/3': 250, 'layer3/3': 25, 'batch_size': 10000, 'random_state': 14}. Best is trial 28 with value: 0.0006350930784321306.\u001B[0m\n"
     ]
    },
    {
     "name": "stdout",
     "output_type": "stream",
     "text": [
      "Updating MLPRegressor_constant_300.pickle\n",
      "{'tol': 1e-05, 'n_iter_no_change': 5, 'random_state': 2, 'warm_start': False, 'max_iter': 2000, 'batch_size': 10000, 'learning_rate': 'constant', 'alpha': 0.004316593049402423, 'learning_rate_init': 0.002436622726057245, 'power_t': 0.5, 'hidden_layer_sizes': [600, 250, 25]}\n"
     ]
    },
    {
     "name": "stderr",
     "output_type": "stream",
     "text": [
      "/Users/tpawlowski/Documents/qsp_emulation/venv/lib/python3.11/site-packages/sklearn/neural_network/_multilayer_perceptron.py:691: UserWarning: Training interrupted by user.\n",
      "  warnings.warn(\"Training interrupted by user.\")\n",
      "\u001B[32m[I 2023-03-25 21:34:57,286]\u001B[0m Trial 29 finished with value: 0.0011408380323525847 and parameters: {'alpha': 0.004316593049402423, 'learning_rate_init': 0.002436622726057245, 'layer1/3': 600, 'layer2/3': 250, 'layer3/3': 25, 'batch_size': 10000, 'random_state': 2}. Best is trial 28 with value: 0.0006350930784321306.\u001B[0m\n"
     ]
    },
    {
     "name": "stdout",
     "output_type": "stream",
     "text": [
      "{'tol': 1e-05, 'n_iter_no_change': 5, 'random_state': 4, 'warm_start': False, 'max_iter': 2000, 'batch_size': 10000, 'learning_rate': 'constant', 'alpha': 0.014937707330486057, 'learning_rate_init': 0.005722867919182752, 'power_t': 0.5, 'hidden_layer_sizes': [800, 200, 15]}\n"
     ]
    },
    {
     "name": "stderr",
     "output_type": "stream",
     "text": [
      "/Users/tpawlowski/Documents/qsp_emulation/venv/lib/python3.11/site-packages/sklearn/neural_network/_multilayer_perceptron.py:691: UserWarning: Training interrupted by user.\n",
      "  warnings.warn(\"Training interrupted by user.\")\n",
      "\u001B[32m[I 2023-03-25 21:39:59,784]\u001B[0m Trial 30 finished with value: 0.0011495176765924215 and parameters: {'alpha': 0.014937707330486057, 'learning_rate_init': 0.005722867919182752, 'layer1/3': 800, 'layer2/3': 200, 'layer3/3': 15, 'batch_size': 10000, 'random_state': 4}. Best is trial 28 with value: 0.0006350930784321306.\u001B[0m\n"
     ]
    },
    {
     "name": "stdout",
     "output_type": "stream",
     "text": [
      "{'tol': 1e-05, 'n_iter_no_change': 5, 'random_state': 14, 'warm_start': False, 'max_iter': 2000, 'batch_size': 10000, 'learning_rate': 'constant', 'alpha': 0.0040440260634701485, 'learning_rate_init': 0.008351116778527375, 'power_t': 0.5, 'hidden_layer_sizes': [800, 250, 25]}\n"
     ]
    },
    {
     "name": "stderr",
     "output_type": "stream",
     "text": [
      "/Users/tpawlowski/Documents/qsp_emulation/venv/lib/python3.11/site-packages/sklearn/neural_network/_multilayer_perceptron.py:691: UserWarning: Training interrupted by user.\n",
      "  warnings.warn(\"Training interrupted by user.\")\n",
      "\u001B[32m[I 2023-03-25 21:45:02,407]\u001B[0m Trial 31 finished with value: 0.002027550829529612 and parameters: {'alpha': 0.0040440260634701485, 'learning_rate_init': 0.008351116778527375, 'layer1/3': 800, 'layer2/3': 250, 'layer3/3': 25, 'batch_size': 10000, 'random_state': 14}. Best is trial 28 with value: 0.0006350930784321306.\u001B[0m\n"
     ]
    },
    {
     "name": "stdout",
     "output_type": "stream",
     "text": [
      "{'tol': 1e-05, 'n_iter_no_change': 5, 'random_state': 14, 'warm_start': False, 'max_iter': 2000, 'batch_size': 10000, 'learning_rate': 'constant', 'alpha': 0.013654483420540604, 'learning_rate_init': 0.007746460438044959, 'power_t': 0.5, 'hidden_layer_sizes': [800, 300, 20]}\n"
     ]
    },
    {
     "name": "stderr",
     "output_type": "stream",
     "text": [
      "/Users/tpawlowski/Documents/qsp_emulation/venv/lib/python3.11/site-packages/sklearn/neural_network/_multilayer_perceptron.py:691: UserWarning: Training interrupted by user.\n",
      "  warnings.warn(\"Training interrupted by user.\")\n",
      "\u001B[32m[I 2023-03-25 21:50:05,169]\u001B[0m Trial 32 finished with value: 0.0009240516601237142 and parameters: {'alpha': 0.013654483420540604, 'learning_rate_init': 0.007746460438044959, 'layer1/3': 800, 'layer2/3': 300, 'layer3/3': 20, 'batch_size': 10000, 'random_state': 14}. Best is trial 28 with value: 0.0006350930784321306.\u001B[0m\n"
     ]
    },
    {
     "name": "stdout",
     "output_type": "stream",
     "text": [
      "{'tol': 1e-05, 'n_iter_no_change': 5, 'random_state': 17, 'warm_start': False, 'max_iter': 2000, 'batch_size': 10000, 'learning_rate': 'constant', 'alpha': 0.013710673760141411, 'learning_rate_init': 0.007482526138411048, 'power_t': 0.5, 'hidden_layer_sizes': [600, 300, 30]}\n"
     ]
    },
    {
     "name": "stderr",
     "output_type": "stream",
     "text": [
      "/Users/tpawlowski/Documents/qsp_emulation/venv/lib/python3.11/site-packages/sklearn/neural_network/_multilayer_perceptron.py:691: UserWarning: Training interrupted by user.\n",
      "  warnings.warn(\"Training interrupted by user.\")\n",
      "\u001B[32m[I 2023-03-25 21:55:07,586]\u001B[0m Trial 33 finished with value: 0.0025324546066784453 and parameters: {'alpha': 0.013710673760141411, 'learning_rate_init': 0.007482526138411048, 'layer1/3': 600, 'layer2/3': 300, 'layer3/3': 30, 'batch_size': 10000, 'random_state': 17}. Best is trial 28 with value: 0.0006350930784321306.\u001B[0m\n"
     ]
    },
    {
     "name": "stdout",
     "output_type": "stream",
     "text": [
      "{'tol': 1e-05, 'n_iter_no_change': 5, 'random_state': 12, 'warm_start': False, 'max_iter': 2000, 'batch_size': 10000, 'learning_rate': 'constant', 'alpha': 0.0012510950129780505, 'learning_rate_init': 0.007861931599279464, 'power_t': 0.5, 'hidden_layer_sizes': [800, 350, 25]}\n"
     ]
    },
    {
     "name": "stderr",
     "output_type": "stream",
     "text": [
      "/Users/tpawlowski/Documents/qsp_emulation/venv/lib/python3.11/site-packages/sklearn/neural_network/_multilayer_perceptron.py:691: UserWarning: Training interrupted by user.\n",
      "  warnings.warn(\"Training interrupted by user.\")\n",
      "\u001B[32m[I 2023-03-25 22:00:10,533]\u001B[0m Trial 34 finished with value: 0.0006323265173556005 and parameters: {'alpha': 0.0012510950129780505, 'learning_rate_init': 0.007861931599279464, 'layer1/3': 800, 'layer2/3': 350, 'layer3/3': 25, 'batch_size': 10000, 'random_state': 12}. Best is trial 34 with value: 0.0006323265173556005.\u001B[0m\n"
     ]
    },
    {
     "name": "stdout",
     "output_type": "stream",
     "text": [
      "Updating MLPRegressor_constant_300.pickle\n",
      "{'tol': 1e-05, 'n_iter_no_change': 5, 'random_state': 12, 'warm_start': False, 'max_iter': 2000, 'batch_size': 10000, 'learning_rate': 'constant', 'alpha': 0.0010830760656398522, 'learning_rate_init': 0.015672655918888525, 'power_t': 0.5, 'hidden_layer_sizes': [800, 350, 35]}\n"
     ]
    },
    {
     "name": "stderr",
     "output_type": "stream",
     "text": [
      "/Users/tpawlowski/Documents/qsp_emulation/venv/lib/python3.11/site-packages/sklearn/neural_network/_multilayer_perceptron.py:691: UserWarning: Training interrupted by user.\n",
      "  warnings.warn(\"Training interrupted by user.\")\n",
      "\u001B[32m[I 2023-03-25 22:05:13,441]\u001B[0m Trial 35 finished with value: 0.001060086900014058 and parameters: {'alpha': 0.0010830760656398522, 'learning_rate_init': 0.015672655918888525, 'layer1/3': 800, 'layer2/3': 350, 'layer3/3': 35, 'batch_size': 10000, 'random_state': 12}. Best is trial 34 with value: 0.0006323265173556005.\u001B[0m\n"
     ]
    },
    {
     "name": "stdout",
     "output_type": "stream",
     "text": [
      "{'tol': 1e-05, 'n_iter_no_change': 5, 'random_state': 7, 'warm_start': False, 'max_iter': 2000, 'batch_size': 10000, 'learning_rate': 'constant', 'alpha': 0.002610939672067915, 'learning_rate_init': 0.0028547680756605964, 'power_t': 0.5, 'hidden_layer_sizes': [600, 350, 25]}\n"
     ]
    },
    {
     "name": "stderr",
     "output_type": "stream",
     "text": [
      "/Users/tpawlowski/Documents/qsp_emulation/venv/lib/python3.11/site-packages/sklearn/neural_network/_multilayer_perceptron.py:691: UserWarning: Training interrupted by user.\n",
      "  warnings.warn(\"Training interrupted by user.\")\n",
      "\u001B[32m[I 2023-03-25 22:10:15,829]\u001B[0m Trial 36 finished with value: 0.0013287668801508757 and parameters: {'alpha': 0.002610939672067915, 'learning_rate_init': 0.0028547680756605964, 'layer1/3': 600, 'layer2/3': 350, 'layer3/3': 25, 'batch_size': 10000, 'random_state': 7}. Best is trial 34 with value: 0.0006323265173556005.\u001B[0m\n"
     ]
    },
    {
     "name": "stdout",
     "output_type": "stream",
     "text": [
      "{'tol': 1e-05, 'n_iter_no_change': 5, 'random_state': 30, 'warm_start': False, 'max_iter': 2000, 'batch_size': 10000, 'learning_rate': 'constant', 'alpha': 0.0007072455419526383, 'learning_rate_init': 0.010570756334581273, 'power_t': 0.5, 'hidden_layer_sizes': [800, 300, 30]}\n"
     ]
    },
    {
     "name": "stderr",
     "output_type": "stream",
     "text": [
      "/Users/tpawlowski/Documents/qsp_emulation/venv/lib/python3.11/site-packages/sklearn/neural_network/_multilayer_perceptron.py:691: UserWarning: Training interrupted by user.\n",
      "  warnings.warn(\"Training interrupted by user.\")\n",
      "\u001B[32m[I 2023-03-25 22:15:18,580]\u001B[0m Trial 37 finished with value: 0.0005363832659409508 and parameters: {'alpha': 0.0007072455419526383, 'learning_rate_init': 0.010570756334581273, 'layer1/3': 800, 'layer2/3': 300, 'layer3/3': 30, 'batch_size': 10000, 'random_state': 30}. Best is trial 37 with value: 0.0005363832659409508.\u001B[0m\n"
     ]
    },
    {
     "name": "stdout",
     "output_type": "stream",
     "text": [
      "Updating MLPRegressor_constant_300.pickle\n",
      "{'tol': 1e-05, 'n_iter_no_change': 5, 'random_state': 30, 'warm_start': False, 'max_iter': 2000, 'batch_size': 15000, 'learning_rate': 'constant', 'alpha': 0.0012123189467694486, 'learning_rate_init': 0.011705430016821719, 'power_t': 0.5, 'hidden_layer_sizes': [800, 400, 35]}\n"
     ]
    },
    {
     "name": "stderr",
     "output_type": "stream",
     "text": [
      "/Users/tpawlowski/Documents/qsp_emulation/venv/lib/python3.11/site-packages/sklearn/neural_network/_multilayer_perceptron.py:691: UserWarning: Training interrupted by user.\n",
      "  warnings.warn(\"Training interrupted by user.\")\n",
      "\u001B[32m[I 2023-03-25 22:20:21,659]\u001B[0m Trial 38 finished with value: 0.005410066379247909 and parameters: {'alpha': 0.0012123189467694486, 'learning_rate_init': 0.011705430016821719, 'layer1/3': 800, 'layer2/3': 400, 'layer3/3': 35, 'batch_size': 15000, 'random_state': 30}. Best is trial 37 with value: 0.0005363832659409508.\u001B[0m\n"
     ]
    },
    {
     "name": "stdout",
     "output_type": "stream",
     "text": [
      "{'tol': 1e-05, 'n_iter_no_change': 5, 'random_state': 8, 'warm_start': False, 'max_iter': 2000, 'batch_size': 10000, 'learning_rate': 'constant', 'alpha': 0.0005290491879634624, 'learning_rate_init': 0.010117989798971485, 'power_t': 0.5, 'hidden_layer_sizes': [1000, 300, 30]}\n"
     ]
    },
    {
     "name": "stderr",
     "output_type": "stream",
     "text": [
      "/Users/tpawlowski/Documents/qsp_emulation/venv/lib/python3.11/site-packages/sklearn/neural_network/_multilayer_perceptron.py:691: UserWarning: Training interrupted by user.\n",
      "  warnings.warn(\"Training interrupted by user.\")\n",
      "\u001B[32m[I 2023-03-25 22:25:24,738]\u001B[0m Trial 39 finished with value: 0.0017151301829742643 and parameters: {'alpha': 0.0005290491879634624, 'learning_rate_init': 0.010117989798971485, 'layer1/3': 1000, 'layer2/3': 300, 'layer3/3': 30, 'batch_size': 10000, 'random_state': 8}. Best is trial 37 with value: 0.0005363832659409508.\u001B[0m\n",
      "\u001B[32m[I 2023-03-25 22:25:24,781]\u001B[0m Using an existing study with name 'MLPRegressor_invscaling_300' instead of creating a new one.\u001B[0m\n"
     ]
    },
    {
     "name": "stdout",
     "output_type": "stream",
     "text": [
      "model: MLPRegressor_constant_300 test dataset error: 0.0005363832659409508 best_params: {'alpha': 0.0007072455419526383, 'batch_size': 10000, 'layer1/3': 800, 'layer2/3': 300, 'layer3/3': 30, 'learning_rate_init': 0.010570756334581273, 'random_state': 30}\n",
      "{'tol': 1e-05, 'n_iter_no_change': 5, 'random_state': 4, 'warm_start': False, 'max_iter': 2000, 'batch_size': 25000, 'learning_rate': 'invscaling', 'alpha': 0.021770763509365357, 'learning_rate_init': 0.0002060043989692624, 'power_t': 0.1800629964221004, 'hidden_layer_sizes': [800, 300, 50]}\n"
     ]
    },
    {
     "name": "stderr",
     "output_type": "stream",
     "text": [
      "/Users/tpawlowski/Documents/qsp_emulation/venv/lib/python3.11/site-packages/sklearn/neural_network/_multilayer_perceptron.py:691: UserWarning: Training interrupted by user.\n",
      "  warnings.warn(\"Training interrupted by user.\")\n",
      "\u001B[32m[I 2023-03-25 22:30:27,614]\u001B[0m Trial 4 finished with value: 0.054997239005684165 and parameters: {'alpha': 0.021770763509365357, 'learning_rate_init': 0.0002060043989692624, 'power_t': 0.1800629964221004, 'layer1/3': 800, 'layer2/3': 300, 'layer3/3': 50, 'batch_size': 25000, 'random_state': 4}. Best is trial 0 with value: 0.01016214243293709.\u001B[0m\n"
     ]
    },
    {
     "name": "stdout",
     "output_type": "stream",
     "text": [
      "{'tol': 1e-05, 'n_iter_no_change': 5, 'random_state': 26, 'warm_start': False, 'max_iter': 2000, 'batch_size': 20000, 'learning_rate': 'invscaling', 'alpha': 0.011665912664526943, 'learning_rate_init': 0.005291950338135293, 'power_t': 0.3275026213137245, 'hidden_layer_sizes': [800, 300, 35]}\n"
     ]
    },
    {
     "name": "stderr",
     "output_type": "stream",
     "text": [
      "/Users/tpawlowski/Documents/qsp_emulation/venv/lib/python3.11/site-packages/sklearn/neural_network/_multilayer_perceptron.py:691: UserWarning: Training interrupted by user.\n",
      "  warnings.warn(\"Training interrupted by user.\")\n",
      "\u001B[32m[I 2023-03-25 22:35:30,383]\u001B[0m Trial 5 finished with value: 0.0024116360624051097 and parameters: {'alpha': 0.011665912664526943, 'learning_rate_init': 0.005291950338135293, 'power_t': 0.3275026213137245, 'layer1/3': 800, 'layer2/3': 300, 'layer3/3': 35, 'batch_size': 20000, 'random_state': 26}. Best is trial 5 with value: 0.0024116360624051097.\u001B[0m\n"
     ]
    },
    {
     "name": "stdout",
     "output_type": "stream",
     "text": [
      "Updating MLPRegressor_invscaling_300.pickle\n",
      "{'tol': 1e-05, 'n_iter_no_change': 5, 'random_state': 20, 'warm_start': False, 'max_iter': 2000, 'batch_size': 10000, 'learning_rate': 'invscaling', 'alpha': 0.04244178311840922, 'learning_rate_init': 0.00030470592183537404, 'power_t': 0.31572485835094233, 'hidden_layer_sizes': [800, 300, 15]}\n"
     ]
    },
    {
     "name": "stderr",
     "output_type": "stream",
     "text": [
      "/Users/tpawlowski/Documents/qsp_emulation/venv/lib/python3.11/site-packages/sklearn/neural_network/_multilayer_perceptron.py:691: UserWarning: Training interrupted by user.\n",
      "  warnings.warn(\"Training interrupted by user.\")\n",
      "\u001B[32m[I 2023-03-25 22:40:33,128]\u001B[0m Trial 6 finished with value: 0.014062880591237609 and parameters: {'alpha': 0.04244178311840922, 'learning_rate_init': 0.00030470592183537404, 'power_t': 0.31572485835094233, 'layer1/3': 800, 'layer2/3': 300, 'layer3/3': 15, 'batch_size': 10000, 'random_state': 20}. Best is trial 5 with value: 0.0024116360624051097.\u001B[0m\n"
     ]
    },
    {
     "name": "stdout",
     "output_type": "stream",
     "text": [
      "{'tol': 1e-05, 'n_iter_no_change': 5, 'random_state': 17, 'warm_start': False, 'max_iter': 2000, 'batch_size': 20000, 'learning_rate': 'invscaling', 'alpha': 0.024119241676892753, 'learning_rate_init': 0.004374550543765951, 'power_t': 0.16404974316488355, 'hidden_layer_sizes': [800, 500, 10]}\n"
     ]
    },
    {
     "name": "stderr",
     "output_type": "stream",
     "text": [
      "/Users/tpawlowski/Documents/qsp_emulation/venv/lib/python3.11/site-packages/sklearn/neural_network/_multilayer_perceptron.py:691: UserWarning: Training interrupted by user.\n",
      "  warnings.warn(\"Training interrupted by user.\")\n",
      "\u001B[32m[I 2023-03-25 22:45:36,466]\u001B[0m Trial 7 finished with value: 0.008604983583912956 and parameters: {'alpha': 0.024119241676892753, 'learning_rate_init': 0.004374550543765951, 'power_t': 0.16404974316488355, 'layer1/3': 800, 'layer2/3': 500, 'layer3/3': 10, 'batch_size': 20000, 'random_state': 17}. Best is trial 5 with value: 0.0024116360624051097.\u001B[0m\n"
     ]
    },
    {
     "name": "stdout",
     "output_type": "stream",
     "text": [
      "{'tol': 1e-05, 'n_iter_no_change': 5, 'random_state': 6, 'warm_start': False, 'max_iter': 2000, 'batch_size': 10000, 'learning_rate': 'invscaling', 'alpha': 0.00010413987509984789, 'learning_rate_init': 0.00010228927788029436, 'power_t': 0.789456354125298, 'hidden_layer_sizes': [600, 400, 45]}\n"
     ]
    },
    {
     "name": "stderr",
     "output_type": "stream",
     "text": [
      "/Users/tpawlowski/Documents/qsp_emulation/venv/lib/python3.11/site-packages/sklearn/neural_network/_multilayer_perceptron.py:691: UserWarning: Training interrupted by user.\n",
      "  warnings.warn(\"Training interrupted by user.\")\n",
      "\u001B[32m[I 2023-03-25 22:50:39,181]\u001B[0m Trial 8 finished with value: 0.021117731233921376 and parameters: {'alpha': 0.00010413987509984789, 'learning_rate_init': 0.00010228927788029436, 'power_t': 0.789456354125298, 'layer1/3': 600, 'layer2/3': 400, 'layer3/3': 45, 'batch_size': 10000, 'random_state': 6}. Best is trial 5 with value: 0.0024116360624051097.\u001B[0m\n"
     ]
    },
    {
     "name": "stdout",
     "output_type": "stream",
     "text": [
      "{'tol': 1e-05, 'n_iter_no_change': 5, 'random_state': 1, 'warm_start': False, 'max_iter': 2000, 'batch_size': 10000, 'learning_rate': 'invscaling', 'alpha': 0.9302582348624652, 'learning_rate_init': 0.001014946250426274, 'power_t': 0.6595599019304568, 'hidden_layer_sizes': [1000, 200, 25]}\n"
     ]
    },
    {
     "name": "stderr",
     "output_type": "stream",
     "text": [
      "/Users/tpawlowski/Documents/qsp_emulation/venv/lib/python3.11/site-packages/sklearn/neural_network/_multilayer_perceptron.py:691: UserWarning: Training interrupted by user.\n",
      "  warnings.warn(\"Training interrupted by user.\")\n",
      "\u001B[32m[I 2023-03-25 22:55:41,895]\u001B[0m Trial 9 finished with value: 0.003511599890731435 and parameters: {'alpha': 0.9302582348624652, 'learning_rate_init': 0.001014946250426274, 'power_t': 0.6595599019304568, 'layer1/3': 1000, 'layer2/3': 200, 'layer3/3': 25, 'batch_size': 10000, 'random_state': 1}. Best is trial 5 with value: 0.0024116360624051097.\u001B[0m\n"
     ]
    },
    {
     "name": "stdout",
     "output_type": "stream",
     "text": [
      "{'tol': 1e-05, 'n_iter_no_change': 5, 'random_state': 2, 'warm_start': False, 'max_iter': 2000, 'batch_size': 15000, 'learning_rate': 'invscaling', 'alpha': 0.004493278002104561, 'learning_rate_init': 0.013908051410714837, 'power_t': 1.6873278353231278, 'hidden_layer_sizes': [600, 400, 25]}\n"
     ]
    },
    {
     "name": "stderr",
     "output_type": "stream",
     "text": [
      "/Users/tpawlowski/Documents/qsp_emulation/venv/lib/python3.11/site-packages/sklearn/neural_network/_multilayer_perceptron.py:691: UserWarning: Training interrupted by user.\n",
      "  warnings.warn(\"Training interrupted by user.\")\n",
      "\u001B[32m[I 2023-03-25 23:00:44,589]\u001B[0m Trial 10 finished with value: 0.0012159686866564056 and parameters: {'alpha': 0.004493278002104561, 'learning_rate_init': 0.013908051410714837, 'power_t': 1.6873278353231278, 'layer1/3': 600, 'layer2/3': 400, 'layer3/3': 25, 'batch_size': 15000, 'random_state': 2}. Best is trial 10 with value: 0.0012159686866564056.\u001B[0m\n"
     ]
    },
    {
     "name": "stdout",
     "output_type": "stream",
     "text": [
      "Updating MLPRegressor_invscaling_300.pickle\n",
      "{'tol': 1e-05, 'n_iter_no_change': 5, 'random_state': 2, 'warm_start': False, 'max_iter': 2000, 'batch_size': 15000, 'learning_rate': 'invscaling', 'alpha': 0.003686776131632417, 'learning_rate_init': 0.011955601377854643, 'power_t': 1.7405798503415455, 'hidden_layer_sizes': [600, 400, 25]}\n"
     ]
    },
    {
     "name": "stderr",
     "output_type": "stream",
     "text": [
      "/Users/tpawlowski/Documents/qsp_emulation/venv/lib/python3.11/site-packages/sklearn/neural_network/_multilayer_perceptron.py:691: UserWarning: Training interrupted by user.\n",
      "  warnings.warn(\"Training interrupted by user.\")\n",
      "\u001B[32m[I 2023-03-25 23:05:47,313]\u001B[0m Trial 11 finished with value: 0.001018511475558251 and parameters: {'alpha': 0.003686776131632417, 'learning_rate_init': 0.011955601377854643, 'power_t': 1.7405798503415455, 'layer1/3': 600, 'layer2/3': 400, 'layer3/3': 25, 'batch_size': 15000, 'random_state': 2}. Best is trial 11 with value: 0.001018511475558251.\u001B[0m\n"
     ]
    },
    {
     "name": "stdout",
     "output_type": "stream",
     "text": [
      "Updating MLPRegressor_invscaling_300.pickle\n",
      "{'tol': 1e-05, 'n_iter_no_change': 5, 'random_state': 2, 'warm_start': False, 'max_iter': 2000, 'batch_size': 15000, 'learning_rate': 'invscaling', 'alpha': 0.002889516628539198, 'learning_rate_init': 0.018240855365756332, 'power_t': 1.98710905266018, 'hidden_layer_sizes': [600, 400, 25]}\n"
     ]
    },
    {
     "name": "stderr",
     "output_type": "stream",
     "text": [
      "/Users/tpawlowski/Documents/qsp_emulation/venv/lib/python3.11/site-packages/sklearn/neural_network/_multilayer_perceptron.py:691: UserWarning: Training interrupted by user.\n",
      "  warnings.warn(\"Training interrupted by user.\")\n",
      "\u001B[32m[I 2023-03-25 23:10:50,025]\u001B[0m Trial 12 finished with value: 0.003142603010205986 and parameters: {'alpha': 0.002889516628539198, 'learning_rate_init': 0.018240855365756332, 'power_t': 1.98710905266018, 'layer1/3': 600, 'layer2/3': 400, 'layer3/3': 25, 'batch_size': 15000, 'random_state': 2}. Best is trial 11 with value: 0.001018511475558251.\u001B[0m\n"
     ]
    },
    {
     "name": "stdout",
     "output_type": "stream",
     "text": [
      "{'tol': 1e-05, 'n_iter_no_change': 5, 'random_state': 2, 'warm_start': False, 'max_iter': 2000, 'batch_size': 15000, 'learning_rate': 'invscaling', 'alpha': 0.0033383285989645748, 'learning_rate_init': 0.011078841141026509, 'power_t': 1.7797041193911187, 'hidden_layer_sizes': [600, 450, 20]}\n"
     ]
    },
    {
     "name": "stderr",
     "output_type": "stream",
     "text": [
      "/Users/tpawlowski/Documents/qsp_emulation/venv/lib/python3.11/site-packages/sklearn/neural_network/_multilayer_perceptron.py:691: UserWarning: Training interrupted by user.\n",
      "  warnings.warn(\"Training interrupted by user.\")\n",
      "\u001B[32m[I 2023-03-25 23:15:52,887]\u001B[0m Trial 13 finished with value: 0.004396653849462292 and parameters: {'alpha': 0.0033383285989645748, 'learning_rate_init': 0.011078841141026509, 'power_t': 1.7797041193911187, 'layer1/3': 600, 'layer2/3': 450, 'layer3/3': 20, 'batch_size': 15000, 'random_state': 2}. Best is trial 11 with value: 0.001018511475558251.\u001B[0m\n"
     ]
    },
    {
     "name": "stdout",
     "output_type": "stream",
     "text": [
      "{'tol': 1e-05, 'n_iter_no_change': 5, 'random_state': 22, 'warm_start': False, 'max_iter': 2000, 'batch_size': 15000, 'learning_rate': 'invscaling', 'alpha': 0.0035422599325575137, 'learning_rate_init': 0.04464986997898054, 'power_t': 1.517002971035249, 'hidden_layer_sizes': [600, 400, 25]}\n"
     ]
    },
    {
     "name": "stderr",
     "output_type": "stream",
     "text": [
      "/Users/tpawlowski/Documents/qsp_emulation/venv/lib/python3.11/site-packages/sklearn/neural_network/_multilayer_perceptron.py:691: UserWarning: Training interrupted by user.\n",
      "  warnings.warn(\"Training interrupted by user.\")\n",
      "\u001B[32m[I 2023-03-25 23:20:55,588]\u001B[0m Trial 14 finished with value: 0.003083660620051456 and parameters: {'alpha': 0.0035422599325575137, 'learning_rate_init': 0.04464986997898054, 'power_t': 1.517002971035249, 'layer1/3': 600, 'layer2/3': 400, 'layer3/3': 25, 'batch_size': 15000, 'random_state': 22}. Best is trial 11 with value: 0.001018511475558251.\u001B[0m\n"
     ]
    },
    {
     "name": "stdout",
     "output_type": "stream",
     "text": [
      "{'tol': 1e-05, 'n_iter_no_change': 5, 'random_state': 11, 'warm_start': False, 'max_iter': 2000, 'batch_size': 15000, 'learning_rate': 'invscaling', 'alpha': 0.0008569357432739386, 'learning_rate_init': 0.014456695104338928, 'power_t': 0.9741853414168233, 'hidden_layer_sizes': [600, 350, 30]}\n"
     ]
    },
    {
     "name": "stderr",
     "output_type": "stream",
     "text": [
      "/Users/tpawlowski/Documents/qsp_emulation/venv/lib/python3.11/site-packages/sklearn/neural_network/_multilayer_perceptron.py:691: UserWarning: Training interrupted by user.\n",
      "  warnings.warn(\"Training interrupted by user.\")\n",
      "\u001B[32m[I 2023-03-25 23:25:58,172]\u001B[0m Trial 15 finished with value: 0.0039078013914939725 and parameters: {'alpha': 0.0008569357432739386, 'learning_rate_init': 0.014456695104338928, 'power_t': 0.9741853414168233, 'layer1/3': 600, 'layer2/3': 350, 'layer3/3': 30, 'batch_size': 15000, 'random_state': 11}. Best is trial 11 with value: 0.001018511475558251.\u001B[0m\n"
     ]
    },
    {
     "name": "stdout",
     "output_type": "stream",
     "text": [
      "{'tol': 1e-05, 'n_iter_no_change': 5, 'random_state': 2, 'warm_start': False, 'max_iter': 2000, 'batch_size': 15000, 'learning_rate': 'invscaling', 'alpha': 0.007284437455307479, 'learning_rate_init': 0.010277380033432693, 'power_t': 1.3155815121332093, 'hidden_layer_sizes': [600, 200, 20]}\n"
     ]
    },
    {
     "name": "stderr",
     "output_type": "stream",
     "text": [
      "/Users/tpawlowski/Documents/qsp_emulation/venv/lib/python3.11/site-packages/sklearn/neural_network/_multilayer_perceptron.py:691: UserWarning: Training interrupted by user.\n",
      "  warnings.warn(\"Training interrupted by user.\")\n",
      "\u001B[32m[I 2023-03-25 23:31:00,319]\u001B[0m Trial 16 finished with value: 0.00132588969182846 and parameters: {'alpha': 0.007284437455307479, 'learning_rate_init': 0.010277380033432693, 'power_t': 1.3155815121332093, 'layer1/3': 600, 'layer2/3': 200, 'layer3/3': 20, 'batch_size': 15000, 'random_state': 2}. Best is trial 11 with value: 0.001018511475558251.\u001B[0m\n"
     ]
    },
    {
     "name": "stdout",
     "output_type": "stream",
     "text": [
      "{'tol': 1e-05, 'n_iter_no_change': 5, 'random_state': 9, 'warm_start': False, 'max_iter': 2000, 'batch_size': 20000, 'learning_rate': 'invscaling', 'alpha': 0.0010331195595091418, 'learning_rate_init': 0.02432697364178349, 'power_t': 1.3731546356009652, 'hidden_layer_sizes': [800, 450, 35]}\n"
     ]
    },
    {
     "name": "stderr",
     "output_type": "stream",
     "text": [
      "/Users/tpawlowski/Documents/qsp_emulation/venv/lib/python3.11/site-packages/sklearn/neural_network/_multilayer_perceptron.py:691: UserWarning: Training interrupted by user.\n",
      "  warnings.warn(\"Training interrupted by user.\")\n",
      "\u001B[32m[I 2023-03-25 23:36:03,622]\u001B[0m Trial 17 finished with value: 0.007983520643030343 and parameters: {'alpha': 0.0010331195595091418, 'learning_rate_init': 0.02432697364178349, 'power_t': 1.3731546356009652, 'layer1/3': 800, 'layer2/3': 450, 'layer3/3': 35, 'batch_size': 20000, 'random_state': 9}. Best is trial 11 with value: 0.001018511475558251.\u001B[0m\n"
     ]
    },
    {
     "name": "stdout",
     "output_type": "stream",
     "text": [
      "{'tol': 1e-05, 'n_iter_no_change': 5, 'random_state': 0, 'warm_start': False, 'max_iter': 2000, 'batch_size': 10000, 'learning_rate': 'invscaling', 'alpha': 0.010430754445068599, 'learning_rate_init': 0.04312330664194592, 'power_t': 1.1707037418554451, 'hidden_layer_sizes': [1200, 600, 20]}\n"
     ]
    },
    {
     "name": "stderr",
     "output_type": "stream",
     "text": [
      "/Users/tpawlowski/Documents/qsp_emulation/venv/lib/python3.11/site-packages/sklearn/neural_network/_multilayer_perceptron.py:691: UserWarning: Training interrupted by user.\n",
      "  warnings.warn(\"Training interrupted by user.\")\n",
      "\u001B[32m[I 2023-03-25 23:41:08,149]\u001B[0m Trial 18 finished with value: 0.7167241491265817 and parameters: {'alpha': 0.010430754445068599, 'learning_rate_init': 0.04312330664194592, 'power_t': 1.1707037418554451, 'layer1/3': 1200, 'layer2/3': 600, 'layer3/3': 20, 'batch_size': 10000, 'random_state': 0}. Best is trial 11 with value: 0.001018511475558251.\u001B[0m\n"
     ]
    },
    {
     "name": "stdout",
     "output_type": "stream",
     "text": [
      "{'tol': 1e-05, 'n_iter_no_change': 5, 'random_state': 31, 'warm_start': False, 'max_iter': 2000, 'batch_size': 15000, 'learning_rate': 'invscaling', 'alpha': 0.0770288741028229, 'learning_rate_init': 0.008241660183716795, 'power_t': 1.8077648053312507, 'hidden_layer_sizes': [600, 350, 10]}\n"
     ]
    },
    {
     "name": "stderr",
     "output_type": "stream",
     "text": [
      "/Users/tpawlowski/Documents/qsp_emulation/venv/lib/python3.11/site-packages/sklearn/neural_network/_multilayer_perceptron.py:691: UserWarning: Training interrupted by user.\n",
      "  warnings.warn(\"Training interrupted by user.\")\n",
      "\u001B[32m[I 2023-03-25 23:46:10,647]\u001B[0m Trial 19 finished with value: 0.003140429868842215 and parameters: {'alpha': 0.0770288741028229, 'learning_rate_init': 0.008241660183716795, 'power_t': 1.8077648053312507, 'layer1/3': 600, 'layer2/3': 350, 'layer3/3': 10, 'batch_size': 15000, 'random_state': 31}. Best is trial 11 with value: 0.001018511475558251.\u001B[0m\n"
     ]
    },
    {
     "name": "stdout",
     "output_type": "stream",
     "text": [
      "{'tol': 1e-05, 'n_iter_no_change': 5, 'random_state': 7, 'warm_start': False, 'max_iter': 2000, 'batch_size': 20000, 'learning_rate': 'invscaling', 'alpha': 0.006354905261815622, 'learning_rate_init': 0.020472136262690777, 'power_t': 0.7877987036927231, 'hidden_layer_sizes': [800, 450, 30]}\n"
     ]
    },
    {
     "name": "stderr",
     "output_type": "stream",
     "text": [
      "/Users/tpawlowski/Documents/qsp_emulation/venv/lib/python3.11/site-packages/sklearn/neural_network/_multilayer_perceptron.py:691: UserWarning: Training interrupted by user.\n",
      "  warnings.warn(\"Training interrupted by user.\")\n",
      "\u001B[32m[I 2023-03-25 23:51:13,872]\u001B[0m Trial 20 finished with value: 0.002903771807106602 and parameters: {'alpha': 0.006354905261815622, 'learning_rate_init': 0.020472136262690777, 'power_t': 0.7877987036927231, 'layer1/3': 800, 'layer2/3': 450, 'layer3/3': 30, 'batch_size': 20000, 'random_state': 7}. Best is trial 11 with value: 0.001018511475558251.\u001B[0m\n"
     ]
    },
    {
     "name": "stdout",
     "output_type": "stream",
     "text": [
      "{'tol': 1e-05, 'n_iter_no_change': 5, 'random_state': 2, 'warm_start': False, 'max_iter': 2000, 'batch_size': 15000, 'learning_rate': 'invscaling', 'alpha': 0.006832768073781519, 'learning_rate_init': 0.008665416038989042, 'power_t': 1.3770720648962549, 'hidden_layer_sizes': [600, 200, 20]}\n"
     ]
    },
    {
     "name": "stderr",
     "output_type": "stream",
     "text": [
      "/Users/tpawlowski/Documents/qsp_emulation/venv/lib/python3.11/site-packages/sklearn/neural_network/_multilayer_perceptron.py:691: UserWarning: Training interrupted by user.\n",
      "  warnings.warn(\"Training interrupted by user.\")\n",
      "\u001B[32m[I 2023-03-25 23:56:16,038]\u001B[0m Trial 21 finished with value: 0.004086460974706845 and parameters: {'alpha': 0.006832768073781519, 'learning_rate_init': 0.008665416038989042, 'power_t': 1.3770720648962549, 'layer1/3': 600, 'layer2/3': 200, 'layer3/3': 20, 'batch_size': 15000, 'random_state': 2}. Best is trial 11 with value: 0.001018511475558251.\u001B[0m\n"
     ]
    },
    {
     "name": "stdout",
     "output_type": "stream",
     "text": [
      "{'tol': 1e-05, 'n_iter_no_change': 5, 'random_state': 29, 'warm_start': False, 'max_iter': 2000, 'batch_size': 15000, 'learning_rate': 'invscaling', 'alpha': 0.0020073984063707826, 'learning_rate_init': 0.013086740264157725, 'power_t': 1.958358872792044, 'hidden_layer_sizes': [600, 350, 15]}\n"
     ]
    },
    {
     "name": "stderr",
     "output_type": "stream",
     "text": [
      "/Users/tpawlowski/Documents/qsp_emulation/venv/lib/python3.11/site-packages/sklearn/neural_network/_multilayer_perceptron.py:691: UserWarning: Training interrupted by user.\n",
      "  warnings.warn(\"Training interrupted by user.\")\n",
      "\u001B[32m[I 2023-03-26 00:01:18,582]\u001B[0m Trial 22 finished with value: 0.00214306252648138 and parameters: {'alpha': 0.0020073984063707826, 'learning_rate_init': 0.013086740264157725, 'power_t': 1.958358872792044, 'layer1/3': 600, 'layer2/3': 350, 'layer3/3': 15, 'batch_size': 15000, 'random_state': 29}. Best is trial 11 with value: 0.001018511475558251.\u001B[0m\n"
     ]
    },
    {
     "name": "stdout",
     "output_type": "stream",
     "text": [
      "{'tol': 1e-05, 'n_iter_no_change': 5, 'random_state': 14, 'warm_start': False, 'max_iter': 2000, 'batch_size': 15000, 'learning_rate': 'invscaling', 'alpha': 0.0163609945714295, 'learning_rate_init': 0.007036858810942905, 'power_t': 1.2910513374782138, 'hidden_layer_sizes': [600, 200, 25]}\n"
     ]
    },
    {
     "name": "stderr",
     "output_type": "stream",
     "text": [
      "/Users/tpawlowski/Documents/qsp_emulation/venv/lib/python3.11/site-packages/sklearn/neural_network/_multilayer_perceptron.py:691: UserWarning: Training interrupted by user.\n",
      "  warnings.warn(\"Training interrupted by user.\")\n",
      "\u001B[32m[I 2023-03-26 00:06:20,721]\u001B[0m Trial 23 finished with value: 0.005941543384867303 and parameters: {'alpha': 0.0163609945714295, 'learning_rate_init': 0.007036858810942905, 'power_t': 1.2910513374782138, 'layer1/3': 600, 'layer2/3': 200, 'layer3/3': 25, 'batch_size': 15000, 'random_state': 14}. Best is trial 11 with value: 0.001018511475558251.\u001B[0m\n"
     ]
    },
    {
     "name": "stdout",
     "output_type": "stream",
     "text": [
      "{'tol': 1e-05, 'n_iter_no_change': 5, 'random_state': 5, 'warm_start': False, 'max_iter': 2000, 'batch_size': 10000, 'learning_rate': 'invscaling', 'alpha': 0.005734149643045528, 'learning_rate_init': 0.02394056878695673, 'power_t': 1.5266315681152065, 'hidden_layer_sizes': [600, 250, 20]}\n"
     ]
    },
    {
     "name": "stderr",
     "output_type": "stream",
     "text": [
      "/Users/tpawlowski/Documents/qsp_emulation/venv/lib/python3.11/site-packages/sklearn/neural_network/_multilayer_perceptron.py:691: UserWarning: Training interrupted by user.\n",
      "  warnings.warn(\"Training interrupted by user.\")\n",
      "\u001B[32m[I 2023-03-26 00:11:22,997]\u001B[0m Trial 24 finished with value: 0.0006967804490516968 and parameters: {'alpha': 0.005734149643045528, 'learning_rate_init': 0.02394056878695673, 'power_t': 1.5266315681152065, 'layer1/3': 600, 'layer2/3': 250, 'layer3/3': 20, 'batch_size': 10000, 'random_state': 5}. Best is trial 24 with value: 0.0006967804490516968.\u001B[0m\n"
     ]
    },
    {
     "name": "stdout",
     "output_type": "stream",
     "text": [
      "Updating MLPRegressor_invscaling_300.pickle\n",
      "{'tol': 1e-05, 'n_iter_no_change': 5, 'random_state': 5, 'warm_start': False, 'max_iter': 2000, 'batch_size': 10000, 'learning_rate': 'invscaling', 'alpha': 0.005160195391343085, 'learning_rate_init': 0.027646495397646652, 'power_t': 1.4918776624836672, 'hidden_layer_sizes': [800, 250, 30]}\n"
     ]
    },
    {
     "name": "stderr",
     "output_type": "stream",
     "text": [
      "/Users/tpawlowski/Documents/qsp_emulation/venv/lib/python3.11/site-packages/sklearn/neural_network/_multilayer_perceptron.py:691: UserWarning: Training interrupted by user.\n",
      "  warnings.warn(\"Training interrupted by user.\")\n",
      "\u001B[32m[I 2023-03-26 00:16:25,628]\u001B[0m Trial 25 finished with value: 0.003513833311013491 and parameters: {'alpha': 0.005160195391343085, 'learning_rate_init': 0.027646495397646652, 'power_t': 1.4918776624836672, 'layer1/3': 800, 'layer2/3': 250, 'layer3/3': 30, 'batch_size': 10000, 'random_state': 5}. Best is trial 24 with value: 0.0006967804490516968.\u001B[0m\n"
     ]
    },
    {
     "name": "stdout",
     "output_type": "stream",
     "text": [
      "{'tol': 1e-05, 'n_iter_no_change': 5, 'random_state': 5, 'warm_start': False, 'max_iter': 2000, 'batch_size': 10000, 'learning_rate': 'invscaling', 'alpha': 0.001781559044996551, 'learning_rate_init': 0.021489380624275647, 'power_t': 1.0248062059694467, 'hidden_layer_sizes': [600, 250, 15]}\n"
     ]
    },
    {
     "name": "stderr",
     "output_type": "stream",
     "text": [
      "/Users/tpawlowski/Documents/qsp_emulation/venv/lib/python3.11/site-packages/sklearn/neural_network/_multilayer_perceptron.py:691: UserWarning: Training interrupted by user.\n",
      "  warnings.warn(\"Training interrupted by user.\")\n",
      "\u001B[32m[I 2023-03-26 00:21:27,868]\u001B[0m Trial 26 finished with value: 0.0016271943743148218 and parameters: {'alpha': 0.001781559044996551, 'learning_rate_init': 0.021489380624275647, 'power_t': 1.0248062059694467, 'layer1/3': 600, 'layer2/3': 250, 'layer3/3': 15, 'batch_size': 10000, 'random_state': 5}. Best is trial 24 with value: 0.0006967804490516968.\u001B[0m\n"
     ]
    },
    {
     "name": "stdout",
     "output_type": "stream",
     "text": [
      "{'tol': 1e-05, 'n_iter_no_change': 5, 'random_state': 10, 'warm_start': False, 'max_iter': 2000, 'batch_size': 10000, 'learning_rate': 'invscaling', 'alpha': 0.03337723031693355, 'learning_rate_init': 0.04706502259356422, 'power_t': 1.639581097377238, 'hidden_layer_sizes': [800, 350, 25]}\n"
     ]
    },
    {
     "name": "stderr",
     "output_type": "stream",
     "text": [
      "/Users/tpawlowski/Documents/qsp_emulation/venv/lib/python3.11/site-packages/sklearn/neural_network/_multilayer_perceptron.py:691: UserWarning: Training interrupted by user.\n",
      "  warnings.warn(\"Training interrupted by user.\")\n",
      "\u001B[32m[I 2023-03-26 00:26:30,813]\u001B[0m Trial 27 finished with value: 0.0033431748682374914 and parameters: {'alpha': 0.03337723031693355, 'learning_rate_init': 0.04706502259356422, 'power_t': 1.639581097377238, 'layer1/3': 800, 'layer2/3': 350, 'layer3/3': 25, 'batch_size': 10000, 'random_state': 10}. Best is trial 24 with value: 0.0006967804490516968.\u001B[0m\n"
     ]
    },
    {
     "name": "stdout",
     "output_type": "stream",
     "text": [
      "{'tol': 1e-05, 'n_iter_no_change': 5, 'random_state': 21, 'warm_start': False, 'max_iter': 2000, 'batch_size': 10000, 'learning_rate': 'invscaling', 'alpha': 0.0111493321054126, 'learning_rate_init': 0.014760095603594158, 'power_t': 1.974388279168085, 'hidden_layer_sizes': [600, 250, 20]}\n"
     ]
    },
    {
     "name": "stderr",
     "output_type": "stream",
     "text": [
      "/Users/tpawlowski/Documents/qsp_emulation/venv/lib/python3.11/site-packages/sklearn/neural_network/_multilayer_perceptron.py:691: UserWarning: Training interrupted by user.\n",
      "  warnings.warn(\"Training interrupted by user.\")\n",
      "\u001B[32m[I 2023-03-26 00:31:33,085]\u001B[0m Trial 28 finished with value: 0.0035958841620210534 and parameters: {'alpha': 0.0111493321054126, 'learning_rate_init': 0.014760095603594158, 'power_t': 1.974388279168085, 'layer1/3': 600, 'layer2/3': 250, 'layer3/3': 20, 'batch_size': 10000, 'random_state': 21}. Best is trial 24 with value: 0.0006967804490516968.\u001B[0m\n"
     ]
    },
    {
     "name": "stdout",
     "output_type": "stream",
     "text": [
      "{'tol': 1e-05, 'n_iter_no_change': 5, 'random_state': 28, 'warm_start': False, 'max_iter': 2000, 'batch_size': 15000, 'learning_rate': 'invscaling', 'alpha': 0.0008816291157387832, 'learning_rate_init': 0.0026879401513830734, 'power_t': 0.556525228765629, 'hidden_layer_sizes': [600, 500, 40]}\n"
     ]
    },
    {
     "name": "stderr",
     "output_type": "stream",
     "text": [
      "/Users/tpawlowski/Documents/qsp_emulation/venv/lib/python3.11/site-packages/sklearn/neural_network/_multilayer_perceptron.py:691: UserWarning: Training interrupted by user.\n",
      "  warnings.warn(\"Training interrupted by user.\")\n",
      "\u001B[32m[I 2023-03-26 00:36:36,058]\u001B[0m Trial 29 finished with value: 0.003917271015669834 and parameters: {'alpha': 0.0008816291157387832, 'learning_rate_init': 0.0026879401513830734, 'power_t': 0.556525228765629, 'layer1/3': 600, 'layer2/3': 500, 'layer3/3': 40, 'batch_size': 15000, 'random_state': 28}. Best is trial 24 with value: 0.0006967804490516968.\u001B[0m\n"
     ]
    },
    {
     "name": "stdout",
     "output_type": "stream",
     "text": [
      "{'tol': 1e-05, 'n_iter_no_change': 5, 'random_state': 8, 'warm_start': False, 'max_iter': 2000, 'batch_size': 20000, 'learning_rate': 'invscaling', 'alpha': 0.004502935556228167, 'learning_rate_init': 0.028815784074862252, 'power_t': 1.1759283148487447, 'hidden_layer_sizes': [800, 450, 30]}\n"
     ]
    },
    {
     "name": "stderr",
     "output_type": "stream",
     "text": [
      "/Users/tpawlowski/Documents/qsp_emulation/venv/lib/python3.11/site-packages/sklearn/neural_network/_multilayer_perceptron.py:691: UserWarning: Training interrupted by user.\n",
      "  warnings.warn(\"Training interrupted by user.\")\n",
      "\u001B[32m[I 2023-03-26 00:41:39,297]\u001B[0m Trial 30 finished with value: 0.003380577971782509 and parameters: {'alpha': 0.004502935556228167, 'learning_rate_init': 0.028815784074862252, 'power_t': 1.1759283148487447, 'layer1/3': 800, 'layer2/3': 450, 'layer3/3': 30, 'batch_size': 20000, 'random_state': 8}. Best is trial 24 with value: 0.0006967804490516968.\u001B[0m\n"
     ]
    },
    {
     "name": "stdout",
     "output_type": "stream",
     "text": [
      "{'tol': 1e-05, 'n_iter_no_change': 5, 'random_state': 13, 'warm_start': False, 'max_iter': 2000, 'batch_size': 15000, 'learning_rate': 'invscaling', 'alpha': 0.008537914995041142, 'learning_rate_init': 0.01079380886880041, 'power_t': 1.5686530738343314, 'hidden_layer_sizes': [600, 250, 20]}\n"
     ]
    },
    {
     "name": "stderr",
     "output_type": "stream",
     "text": [
      "/Users/tpawlowski/Documents/qsp_emulation/venv/lib/python3.11/site-packages/sklearn/neural_network/_multilayer_perceptron.py:691: UserWarning: Training interrupted by user.\n",
      "  warnings.warn(\"Training interrupted by user.\")\n",
      "\u001B[32m[I 2023-03-26 00:46:41,590]\u001B[0m Trial 31 finished with value: 0.0026237762133935376 and parameters: {'alpha': 0.008537914995041142, 'learning_rate_init': 0.01079380886880041, 'power_t': 1.5686530738343314, 'layer1/3': 600, 'layer2/3': 250, 'layer3/3': 20, 'batch_size': 15000, 'random_state': 13}. Best is trial 24 with value: 0.0006967804490516968.\u001B[0m\n"
     ]
    },
    {
     "name": "stdout",
     "output_type": "stream",
     "text": [
      "{'tol': 1e-05, 'n_iter_no_change': 5, 'random_state': 3, 'warm_start': False, 'max_iter': 2000, 'batch_size': 15000, 'learning_rate': 'invscaling', 'alpha': 0.0020167905422669974, 'learning_rate_init': 0.006741766434042282, 'power_t': 1.2133113121500736, 'hidden_layer_sizes': [600, 200, 20]}\n"
     ]
    },
    {
     "name": "stderr",
     "output_type": "stream",
     "text": [
      "/Users/tpawlowski/Documents/qsp_emulation/venv/lib/python3.11/site-packages/sklearn/neural_network/_multilayer_perceptron.py:691: UserWarning: Training interrupted by user.\n",
      "  warnings.warn(\"Training interrupted by user.\")\n",
      "\u001B[32m[I 2023-03-26 00:51:43,754]\u001B[0m Trial 32 finished with value: 0.0014757267697330058 and parameters: {'alpha': 0.0020167905422669974, 'learning_rate_init': 0.006741766434042282, 'power_t': 1.2133113121500736, 'layer1/3': 600, 'layer2/3': 200, 'layer3/3': 20, 'batch_size': 15000, 'random_state': 3}. Best is trial 24 with value: 0.0006967804490516968.\u001B[0m\n"
     ]
    },
    {
     "name": "stdout",
     "output_type": "stream",
     "text": [
      "{'tol': 1e-05, 'n_iter_no_change': 5, 'random_state': 19, 'warm_start': False, 'max_iter': 2000, 'batch_size': 15000, 'learning_rate': 'invscaling', 'alpha': 0.005696223209176207, 'learning_rate_init': 0.016623892799497067, 'power_t': 1.5917815744038062, 'hidden_layer_sizes': [600, 250, 25]}\n"
     ]
    },
    {
     "name": "stderr",
     "output_type": "stream",
     "text": [
      "/Users/tpawlowski/Documents/qsp_emulation/venv/lib/python3.11/site-packages/sklearn/neural_network/_multilayer_perceptron.py:691: UserWarning: Training interrupted by user.\n",
      "  warnings.warn(\"Training interrupted by user.\")\n",
      "\u001B[32m[I 2023-03-26 00:56:46,027]\u001B[0m Trial 33 finished with value: 0.0007656626822455293 and parameters: {'alpha': 0.005696223209176207, 'learning_rate_init': 0.016623892799497067, 'power_t': 1.5917815744038062, 'layer1/3': 600, 'layer2/3': 250, 'layer3/3': 25, 'batch_size': 15000, 'random_state': 19}. Best is trial 24 with value: 0.0006967804490516968.\u001B[0m\n"
     ]
    },
    {
     "name": "stdout",
     "output_type": "stream",
     "text": [
      "{'tol': 1e-05, 'n_iter_no_change': 5, 'random_state': 19, 'warm_start': False, 'max_iter': 2000, 'batch_size': 20000, 'learning_rate': 'invscaling', 'alpha': 0.01588340067255476, 'learning_rate_init': 0.014811147078120831, 'power_t': 1.6456554043877103, 'hidden_layer_sizes': [1200, 300, 25]}\n"
     ]
    },
    {
     "name": "stderr",
     "output_type": "stream",
     "text": [
      "/Users/tpawlowski/Documents/qsp_emulation/venv/lib/python3.11/site-packages/sklearn/neural_network/_multilayer_perceptron.py:691: UserWarning: Training interrupted by user.\n",
      "  warnings.warn(\"Training interrupted by user.\")\n",
      "\u001B[32m[I 2023-03-26 01:01:49,504]\u001B[0m Trial 34 finished with value: 0.002453610152688466 and parameters: {'alpha': 0.01588340067255476, 'learning_rate_init': 0.014811147078120831, 'power_t': 1.6456554043877103, 'layer1/3': 1200, 'layer2/3': 300, 'layer3/3': 25, 'batch_size': 20000, 'random_state': 19}. Best is trial 24 with value: 0.0006967804490516968.\u001B[0m\n"
     ]
    },
    {
     "name": "stdout",
     "output_type": "stream",
     "text": [
      "{'tol': 1e-05, 'n_iter_no_change': 5, 'random_state': 25, 'warm_start': False, 'max_iter': 2000, 'batch_size': 10000, 'learning_rate': 'invscaling', 'alpha': 0.0005859003424542685, 'learning_rate_init': 0.031579828513287216, 'power_t': 0.9871742878133599, 'hidden_layer_sizes': [600, 350, 35]}\n"
     ]
    },
    {
     "name": "stderr",
     "output_type": "stream",
     "text": [
      "/Users/tpawlowski/Documents/qsp_emulation/venv/lib/python3.11/site-packages/sklearn/neural_network/_multilayer_perceptron.py:691: UserWarning: Training interrupted by user.\n",
      "  warnings.warn(\"Training interrupted by user.\")\n",
      "\u001B[32m[I 2023-03-26 01:06:52,082]\u001B[0m Trial 35 finished with value: 0.005004985258930323 and parameters: {'alpha': 0.0005859003424542685, 'learning_rate_init': 0.031579828513287216, 'power_t': 0.9871742878133599, 'layer1/3': 600, 'layer2/3': 350, 'layer3/3': 35, 'batch_size': 10000, 'random_state': 25}. Best is trial 24 with value: 0.0006967804490516968.\u001B[0m\n"
     ]
    },
    {
     "name": "stdout",
     "output_type": "stream",
     "text": [
      "{'tol': 1e-05, 'n_iter_no_change': 5, 'random_state': 23, 'warm_start': False, 'max_iter': 2000, 'batch_size': 15000, 'learning_rate': 'invscaling', 'alpha': 0.004424890438157767, 'learning_rate_init': 0.019046908508521743, 'power_t': 1.6569361927650956, 'hidden_layer_sizes': [1000, 550, 30]}\n"
     ]
    },
    {
     "name": "stderr",
     "output_type": "stream",
     "text": [
      "/Users/tpawlowski/Documents/qsp_emulation/venv/lib/python3.11/site-packages/sklearn/neural_network/_multilayer_perceptron.py:691: UserWarning: Training interrupted by user.\n",
      "  warnings.warn(\"Training interrupted by user.\")\n",
      "\u001B[32m[I 2023-03-26 01:11:56,110]\u001B[0m Trial 36 finished with value: 0.012239660640913157 and parameters: {'alpha': 0.004424890438157767, 'learning_rate_init': 0.019046908508521743, 'power_t': 1.6569361927650956, 'layer1/3': 1000, 'layer2/3': 550, 'layer3/3': 30, 'batch_size': 15000, 'random_state': 23}. Best is trial 24 with value: 0.0006967804490516968.\u001B[0m\n"
     ]
    },
    {
     "name": "stdout",
     "output_type": "stream",
     "text": [
      "{'tol': 1e-05, 'n_iter_no_change': 5, 'random_state': 12, 'warm_start': False, 'max_iter': 2000, 'batch_size': 25000, 'learning_rate': 'invscaling', 'alpha': 0.0016815594182902583, 'learning_rate_init': 0.0054221616372353764, 'power_t': 1.1224757948474653, 'hidden_layer_sizes': [800, 250, 15]}\n"
     ]
    },
    {
     "name": "stderr",
     "output_type": "stream",
     "text": [
      "/Users/tpawlowski/Documents/qsp_emulation/venv/lib/python3.11/site-packages/sklearn/neural_network/_multilayer_perceptron.py:691: UserWarning: Training interrupted by user.\n",
      "  warnings.warn(\"Training interrupted by user.\")\n",
      "\u001B[32m[I 2023-03-26 01:16:58,671]\u001B[0m Trial 37 finished with value: 0.005644207671061103 and parameters: {'alpha': 0.0016815594182902583, 'learning_rate_init': 0.0054221616372353764, 'power_t': 1.1224757948474653, 'layer1/3': 800, 'layer2/3': 250, 'layer3/3': 15, 'batch_size': 25000, 'random_state': 12}. Best is trial 24 with value: 0.0006967804490516968.\u001B[0m\n"
     ]
    },
    {
     "name": "stdout",
     "output_type": "stream",
     "text": [
      "{'tol': 1e-05, 'n_iter_no_change': 5, 'random_state': 24, 'warm_start': False, 'max_iter': 2000, 'batch_size': 20000, 'learning_rate': 'invscaling', 'alpha': 0.0027854703318857506, 'learning_rate_init': 0.0028395907420046902, 'power_t': 1.5299731878741405, 'hidden_layer_sizes': [600, 300, 25]}\n"
     ]
    },
    {
     "name": "stderr",
     "output_type": "stream",
     "text": [
      "/Users/tpawlowski/Documents/qsp_emulation/venv/lib/python3.11/site-packages/sklearn/neural_network/_multilayer_perceptron.py:691: UserWarning: Training interrupted by user.\n",
      "  warnings.warn(\"Training interrupted by user.\")\n",
      "\u001B[32m[I 2023-03-26 01:22:01,158]\u001B[0m Trial 38 finished with value: 0.00563395622919762 and parameters: {'alpha': 0.0027854703318857506, 'learning_rate_init': 0.0028395907420046902, 'power_t': 1.5299731878741405, 'layer1/3': 600, 'layer2/3': 300, 'layer3/3': 25, 'batch_size': 20000, 'random_state': 24}. Best is trial 24 with value: 0.0006967804490516968.\u001B[0m\n"
     ]
    },
    {
     "name": "stdout",
     "output_type": "stream",
     "text": [
      "{'tol': 1e-05, 'n_iter_no_change': 5, 'random_state': 18, 'warm_start': False, 'max_iter': 2000, 'batch_size': 10000, 'learning_rate': 'invscaling', 'alpha': 0.016061666742756046, 'learning_rate_init': 0.03207190478129852, 'power_t': 0.9242101817945267, 'hidden_layer_sizes': [800, 400, 40]}\n"
     ]
    },
    {
     "name": "stderr",
     "output_type": "stream",
     "text": [
      "/Users/tpawlowski/Documents/qsp_emulation/venv/lib/python3.11/site-packages/sklearn/neural_network/_multilayer_perceptron.py:691: UserWarning: Training interrupted by user.\n",
      "  warnings.warn(\"Training interrupted by user.\")\n",
      "\u001B[32m[I 2023-03-26 01:27:04,189]\u001B[0m Trial 39 finished with value: 0.002794078445557071 and parameters: {'alpha': 0.016061666742756046, 'learning_rate_init': 0.03207190478129852, 'power_t': 0.9242101817945267, 'layer1/3': 800, 'layer2/3': 400, 'layer3/3': 40, 'batch_size': 10000, 'random_state': 18}. Best is trial 24 with value: 0.0006967804490516968.\u001B[0m\n",
      "\u001B[32m[I 2023-03-26 01:27:04,225]\u001B[0m Using an existing study with name 'MLPRegressor_adaptive_300' instead of creating a new one.\u001B[0m\n"
     ]
    },
    {
     "name": "stdout",
     "output_type": "stream",
     "text": [
      "model: MLPRegressor_invscaling_300 test dataset error: 0.0006967804490516968 best_params: {'alpha': 0.005734149643045528, 'batch_size': 10000, 'layer1/3': 600, 'layer2/3': 250, 'layer3/3': 20, 'learning_rate_init': 0.02394056878695673, 'power_t': 1.5266315681152065, 'random_state': 5}\n",
      "{'tol': 1e-05, 'n_iter_no_change': 5, 'random_state': 23, 'warm_start': False, 'max_iter': 2000, 'batch_size': 25000, 'learning_rate': 'adaptive', 'alpha': 0.3067869104617264, 'learning_rate_init': 0.005602674103162274, 'power_t': 0.5, 'hidden_layer_sizes': [600, 250, 50]}\n"
     ]
    },
    {
     "name": "stderr",
     "output_type": "stream",
     "text": [
      "/Users/tpawlowski/Documents/qsp_emulation/venv/lib/python3.11/site-packages/sklearn/neural_network/_multilayer_perceptron.py:691: UserWarning: Training interrupted by user.\n",
      "  warnings.warn(\"Training interrupted by user.\")\n",
      "\u001B[32m[I 2023-03-26 01:32:06,604]\u001B[0m Trial 4 finished with value: 0.00261855298813256 and parameters: {'alpha': 0.3067869104617264, 'learning_rate_init': 0.005602674103162274, 'layer1/3': 600, 'layer2/3': 250, 'layer3/3': 50, 'batch_size': 25000, 'random_state': 23}. Best is trial 4 with value: 0.00261855298813256.\u001B[0m\n"
     ]
    },
    {
     "name": "stdout",
     "output_type": "stream",
     "text": [
      "Updating MLPRegressor_adaptive_300.pickle\n",
      "{'tol': 1e-05, 'n_iter_no_change': 5, 'random_state': 23, 'warm_start': False, 'max_iter': 2000, 'batch_size': 25000, 'learning_rate': 'adaptive', 'alpha': 0.004603064747860145, 'learning_rate_init': 0.030411534705889403, 'power_t': 0.5, 'hidden_layer_sizes': [1000, 300, 20]}\n"
     ]
    },
    {
     "name": "stderr",
     "output_type": "stream",
     "text": [
      "/Users/tpawlowski/Documents/qsp_emulation/venv/lib/python3.11/site-packages/sklearn/neural_network/_multilayer_perceptron.py:691: UserWarning: Training interrupted by user.\n",
      "  warnings.warn(\"Training interrupted by user.\")\n",
      "\u001B[32m[I 2023-03-26 01:37:09,669]\u001B[0m Trial 5 finished with value: 0.02629605517946656 and parameters: {'alpha': 0.004603064747860145, 'learning_rate_init': 0.030411534705889403, 'layer1/3': 1000, 'layer2/3': 300, 'layer3/3': 20, 'batch_size': 25000, 'random_state': 23}. Best is trial 4 with value: 0.00261855298813256.\u001B[0m\n"
     ]
    },
    {
     "name": "stdout",
     "output_type": "stream",
     "text": [
      "{'tol': 1e-05, 'n_iter_no_change': 5, 'random_state': 5, 'warm_start': False, 'max_iter': 2000, 'batch_size': 20000, 'learning_rate': 'adaptive', 'alpha': 0.002807384417215323, 'learning_rate_init': 0.0012701649579354266, 'power_t': 0.5, 'hidden_layer_sizes': [800, 500, 35]}\n"
     ]
    },
    {
     "name": "stderr",
     "output_type": "stream",
     "text": [
      "/Users/tpawlowski/Documents/qsp_emulation/venv/lib/python3.11/site-packages/sklearn/neural_network/_multilayer_perceptron.py:691: UserWarning: Training interrupted by user.\n",
      "  warnings.warn(\"Training interrupted by user.\")\n",
      "\u001B[32m[I 2023-03-26 01:42:13,069]\u001B[0m Trial 6 finished with value: 0.007620076792547375 and parameters: {'alpha': 0.002807384417215323, 'learning_rate_init': 0.0012701649579354266, 'layer1/3': 800, 'layer2/3': 500, 'layer3/3': 35, 'batch_size': 20000, 'random_state': 5}. Best is trial 4 with value: 0.00261855298813256.\u001B[0m\n"
     ]
    },
    {
     "name": "stdout",
     "output_type": "stream",
     "text": [
      "{'tol': 1e-05, 'n_iter_no_change': 5, 'random_state': 19, 'warm_start': False, 'max_iter': 2000, 'batch_size': 15000, 'learning_rate': 'adaptive', 'alpha': 0.08071128389095038, 'learning_rate_init': 0.0014788345510406554, 'power_t': 0.5, 'hidden_layer_sizes': [1000, 550, 45]}\n"
     ]
    },
    {
     "name": "stderr",
     "output_type": "stream",
     "text": [
      "/Users/tpawlowski/Documents/qsp_emulation/venv/lib/python3.11/site-packages/sklearn/neural_network/_multilayer_perceptron.py:691: UserWarning: Training interrupted by user.\n",
      "  warnings.warn(\"Training interrupted by user.\")\n",
      "\u001B[32m[I 2023-03-26 01:47:17,085]\u001B[0m Trial 7 finished with value: 0.005833289058806979 and parameters: {'alpha': 0.08071128389095038, 'learning_rate_init': 0.0014788345510406554, 'layer1/3': 1000, 'layer2/3': 550, 'layer3/3': 45, 'batch_size': 15000, 'random_state': 19}. Best is trial 4 with value: 0.00261855298813256.\u001B[0m\n"
     ]
    },
    {
     "name": "stdout",
     "output_type": "stream",
     "text": [
      "{'tol': 1e-05, 'n_iter_no_change': 5, 'random_state': 31, 'warm_start': False, 'max_iter': 2000, 'batch_size': 15000, 'learning_rate': 'adaptive', 'alpha': 0.11035492988133881, 'learning_rate_init': 0.0008412705707554814, 'power_t': 0.5, 'hidden_layer_sizes': [1000, 550, 25]}\n"
     ]
    },
    {
     "name": "stderr",
     "output_type": "stream",
     "text": [
      "/Users/tpawlowski/Documents/qsp_emulation/venv/lib/python3.11/site-packages/sklearn/neural_network/_multilayer_perceptron.py:691: UserWarning: Training interrupted by user.\n",
      "  warnings.warn(\"Training interrupted by user.\")\n",
      "\u001B[32m[I 2023-03-26 01:52:20,978]\u001B[0m Trial 8 finished with value: 0.010262008332430588 and parameters: {'alpha': 0.11035492988133881, 'learning_rate_init': 0.0008412705707554814, 'layer1/3': 1000, 'layer2/3': 550, 'layer3/3': 25, 'batch_size': 15000, 'random_state': 31}. Best is trial 4 with value: 0.00261855298813256.\u001B[0m\n"
     ]
    },
    {
     "name": "stdout",
     "output_type": "stream",
     "text": [
      "{'tol': 1e-05, 'n_iter_no_change': 5, 'random_state': 23, 'warm_start': False, 'max_iter': 2000, 'batch_size': 20000, 'learning_rate': 'adaptive', 'alpha': 0.9527221862389752, 'learning_rate_init': 0.017019531119420388, 'power_t': 0.5, 'hidden_layer_sizes': [1000, 400, 25]}\n"
     ]
    },
    {
     "name": "stderr",
     "output_type": "stream",
     "text": [
      "/Users/tpawlowski/Documents/qsp_emulation/venv/lib/python3.11/site-packages/sklearn/neural_network/_multilayer_perceptron.py:691: UserWarning: Training interrupted by user.\n",
      "  warnings.warn(\"Training interrupted by user.\")\n",
      "\u001B[32m[I 2023-03-26 01:57:24,356]\u001B[0m Trial 9 finished with value: 0.00473703532463984 and parameters: {'alpha': 0.9527221862389752, 'learning_rate_init': 0.017019531119420388, 'layer1/3': 1000, 'layer2/3': 400, 'layer3/3': 25, 'batch_size': 20000, 'random_state': 23}. Best is trial 4 with value: 0.00261855298813256.\u001B[0m\n"
     ]
    },
    {
     "name": "stdout",
     "output_type": "stream",
     "text": [
      "{'tol': 1e-05, 'n_iter_no_change': 5, 'random_state': 21, 'warm_start': False, 'max_iter': 2000, 'batch_size': 25000, 'learning_rate': 'adaptive', 'alpha': 0.026080019563075058, 'learning_rate_init': 0.007464465043404063, 'power_t': 0.5, 'hidden_layer_sizes': [600, 200, 40]}\n"
     ]
    },
    {
     "name": "stderr",
     "output_type": "stream",
     "text": [
      "/Users/tpawlowski/Documents/qsp_emulation/venv/lib/python3.11/site-packages/sklearn/neural_network/_multilayer_perceptron.py:691: UserWarning: Training interrupted by user.\n",
      "  warnings.warn(\"Training interrupted by user.\")\n",
      "\u001B[32m[I 2023-03-26 03:02:26,501]\u001B[0m Trial 10 finished with value: 0.0026281470251582574 and parameters: {'alpha': 0.026080019563075058, 'learning_rate_init': 0.007464465043404063, 'layer1/3': 600, 'layer2/3': 200, 'layer3/3': 40, 'batch_size': 25000, 'random_state': 21}. Best is trial 4 with value: 0.00261855298813256.\u001B[0m\n"
     ]
    },
    {
     "name": "stdout",
     "output_type": "stream",
     "text": [
      "{'tol': 1e-05, 'n_iter_no_change': 5, 'random_state': 21, 'warm_start': False, 'max_iter': 2000, 'batch_size': 25000, 'learning_rate': 'adaptive', 'alpha': 0.03141528956636692, 'learning_rate_init': 0.00730323115492049, 'power_t': 0.5, 'hidden_layer_sizes': [600, 200, 40]}\n"
     ]
    },
    {
     "name": "stderr",
     "output_type": "stream",
     "text": [
      "/Users/tpawlowski/Documents/qsp_emulation/venv/lib/python3.11/site-packages/sklearn/neural_network/_multilayer_perceptron.py:691: UserWarning: Training interrupted by user.\n",
      "  warnings.warn(\"Training interrupted by user.\")\n",
      "\u001B[32m[I 2023-03-26 03:07:28,711]\u001B[0m Trial 11 finished with value: 0.003635023866607428 and parameters: {'alpha': 0.03141528956636692, 'learning_rate_init': 0.00730323115492049, 'layer1/3': 600, 'layer2/3': 200, 'layer3/3': 40, 'batch_size': 25000, 'random_state': 21}. Best is trial 4 with value: 0.00261855298813256.\u001B[0m\n"
     ]
    },
    {
     "name": "stdout",
     "output_type": "stream",
     "text": [
      "{'tol': 1e-05, 'n_iter_no_change': 5, 'random_state': 25, 'warm_start': False, 'max_iter': 2000, 'batch_size': 25000, 'learning_rate': 'adaptive', 'alpha': 0.014946982063661353, 'learning_rate_init': 0.005497157549592726, 'power_t': 0.5, 'hidden_layer_sizes': [600, 200, 50]}\n"
     ]
    },
    {
     "name": "stderr",
     "output_type": "stream",
     "text": [
      "/Users/tpawlowski/Documents/qsp_emulation/venv/lib/python3.11/site-packages/sklearn/neural_network/_multilayer_perceptron.py:691: UserWarning: Training interrupted by user.\n",
      "  warnings.warn(\"Training interrupted by user.\")\n",
      "\u001B[32m[I 2023-03-26 03:12:30,944]\u001B[0m Trial 12 finished with value: 0.004759249474961808 and parameters: {'alpha': 0.014946982063661353, 'learning_rate_init': 0.005497157549592726, 'layer1/3': 600, 'layer2/3': 200, 'layer3/3': 50, 'batch_size': 25000, 'random_state': 25}. Best is trial 4 with value: 0.00261855298813256.\u001B[0m\n"
     ]
    },
    {
     "name": "stdout",
     "output_type": "stream",
     "text": [
      "{'tol': 1e-05, 'n_iter_no_change': 5, 'random_state': 21, 'warm_start': False, 'max_iter': 2000, 'batch_size': 25000, 'learning_rate': 'adaptive', 'alpha': 0.1774469547024215, 'learning_rate_init': 0.03789777831032594, 'power_t': 0.5, 'hidden_layer_sizes': [800, 300, 40]}\n"
     ]
    },
    {
     "name": "stderr",
     "output_type": "stream",
     "text": [
      "/Users/tpawlowski/Documents/qsp_emulation/venv/lib/python3.11/site-packages/sklearn/neural_network/_multilayer_perceptron.py:691: UserWarning: Training interrupted by user.\n",
      "  warnings.warn(\"Training interrupted by user.\")\n",
      "\u001B[32m[I 2023-03-26 03:17:33,667]\u001B[0m Trial 13 finished with value: 0.007839856651103295 and parameters: {'alpha': 0.1774469547024215, 'learning_rate_init': 0.03789777831032594, 'layer1/3': 800, 'layer2/3': 300, 'layer3/3': 40, 'batch_size': 25000, 'random_state': 21}. Best is trial 4 with value: 0.00261855298813256.\u001B[0m\n"
     ]
    },
    {
     "name": "stdout",
     "output_type": "stream",
     "text": [
      "{'tol': 1e-05, 'n_iter_no_change': 5, 'random_state': 29, 'warm_start': False, 'max_iter': 2000, 'batch_size': 20000, 'learning_rate': 'adaptive', 'alpha': 0.039839346728149885, 'learning_rate_init': 0.005120110803631364, 'power_t': 0.5, 'hidden_layer_sizes': [600, 250, 45]}\n"
     ]
    },
    {
     "name": "stderr",
     "output_type": "stream",
     "text": [
      "/Users/tpawlowski/Documents/qsp_emulation/venv/lib/python3.11/site-packages/sklearn/neural_network/_multilayer_perceptron.py:691: UserWarning: Training interrupted by user.\n",
      "  warnings.warn(\"Training interrupted by user.\")\n",
      "\u001B[32m[I 2023-03-26 03:22:36,013]\u001B[0m Trial 14 finished with value: 0.003008646084446113 and parameters: {'alpha': 0.039839346728149885, 'learning_rate_init': 0.005120110803631364, 'layer1/3': 600, 'layer2/3': 250, 'layer3/3': 45, 'batch_size': 20000, 'random_state': 29}. Best is trial 4 with value: 0.00261855298813256.\u001B[0m\n"
     ]
    },
    {
     "name": "stdout",
     "output_type": "stream",
     "text": [
      "{'tol': 1e-05, 'n_iter_no_change': 5, 'random_state': 28, 'warm_start': False, 'max_iter': 2000, 'batch_size': 10000, 'learning_rate': 'adaptive', 'alpha': 0.4833480712999424, 'learning_rate_init': 0.009942136254433994, 'power_t': 0.5, 'hidden_layer_sizes': [600, 350, 40]}\n"
     ]
    },
    {
     "name": "stderr",
     "output_type": "stream",
     "text": [
      "/Users/tpawlowski/Documents/qsp_emulation/venv/lib/python3.11/site-packages/sklearn/neural_network/_multilayer_perceptron.py:691: UserWarning: Training interrupted by user.\n",
      "  warnings.warn(\"Training interrupted by user.\")\n",
      "\u001B[32m[I 2023-03-26 03:27:38,597]\u001B[0m Trial 15 finished with value: 0.0006280694651540749 and parameters: {'alpha': 0.4833480712999424, 'learning_rate_init': 0.009942136254433994, 'layer1/3': 600, 'layer2/3': 350, 'layer3/3': 40, 'batch_size': 10000, 'random_state': 28}. Best is trial 15 with value: 0.0006280694651540749.\u001B[0m\n"
     ]
    },
    {
     "name": "stdout",
     "output_type": "stream",
     "text": [
      "Updating MLPRegressor_adaptive_300.pickle\n",
      "{'tol': 1e-05, 'n_iter_no_change': 5, 'random_state': 28, 'warm_start': False, 'max_iter': 2000, 'batch_size': 10000, 'learning_rate': 'adaptive', 'alpha': 0.9200403046682882, 'learning_rate_init': 0.0027634126729735352, 'power_t': 0.5, 'hidden_layer_sizes': [800, 400, 50]}\n"
     ]
    },
    {
     "name": "stderr",
     "output_type": "stream",
     "text": [
      "/Users/tpawlowski/Documents/qsp_emulation/venv/lib/python3.11/site-packages/sklearn/neural_network/_multilayer_perceptron.py:691: UserWarning: Training interrupted by user.\n",
      "  warnings.warn(\"Training interrupted by user.\")\n",
      "\u001B[32m[I 2023-03-26 03:32:41,661]\u001B[0m Trial 16 finished with value: 0.002062936772484403 and parameters: {'alpha': 0.9200403046682882, 'learning_rate_init': 0.0027634126729735352, 'layer1/3': 800, 'layer2/3': 400, 'layer3/3': 50, 'batch_size': 10000, 'random_state': 28}. Best is trial 15 with value: 0.0006280694651540749.\u001B[0m\n"
     ]
    },
    {
     "name": "stdout",
     "output_type": "stream",
     "text": [
      "{'tol': 1e-05, 'n_iter_no_change': 5, 'random_state': 28, 'warm_start': False, 'max_iter': 2000, 'batch_size': 10000, 'learning_rate': 'adaptive', 'alpha': 0.4431295535055115, 'learning_rate_init': 0.002356152119456935, 'power_t': 0.5, 'hidden_layer_sizes': [800, 400, 45]}\n"
     ]
    },
    {
     "name": "stderr",
     "output_type": "stream",
     "text": [
      "/Users/tpawlowski/Documents/qsp_emulation/venv/lib/python3.11/site-packages/sklearn/neural_network/_multilayer_perceptron.py:691: UserWarning: Training interrupted by user.\n",
      "  warnings.warn(\"Training interrupted by user.\")\n",
      "\u001B[32m[I 2023-03-26 03:37:44,761]\u001B[0m Trial 17 finished with value: 0.0029305478964089704 and parameters: {'alpha': 0.4431295535055115, 'learning_rate_init': 0.002356152119456935, 'layer1/3': 800, 'layer2/3': 400, 'layer3/3': 45, 'batch_size': 10000, 'random_state': 28}. Best is trial 15 with value: 0.0006280694651540749.\u001B[0m\n"
     ]
    },
    {
     "name": "stdout",
     "output_type": "stream",
     "text": [
      "{'tol': 1e-05, 'n_iter_no_change': 5, 'random_state': 28, 'warm_start': False, 'max_iter': 2000, 'batch_size': 10000, 'learning_rate': 'adaptive', 'alpha': 0.5714818253209752, 'learning_rate_init': 0.04609719939176284, 'power_t': 0.5, 'hidden_layer_sizes': [800, 350, 35]}\n"
     ]
    },
    {
     "name": "stderr",
     "output_type": "stream",
     "text": [
      "/Users/tpawlowski/Documents/qsp_emulation/venv/lib/python3.11/site-packages/sklearn/neural_network/_multilayer_perceptron.py:691: UserWarning: Training interrupted by user.\n",
      "  warnings.warn(\"Training interrupted by user.\")\n",
      "\u001B[32m[I 2023-03-26 03:42:47,672]\u001B[0m Trial 18 finished with value: 0.7167346505965702 and parameters: {'alpha': 0.5714818253209752, 'learning_rate_init': 0.04609719939176284, 'layer1/3': 800, 'layer2/3': 350, 'layer3/3': 35, 'batch_size': 10000, 'random_state': 28}. Best is trial 15 with value: 0.0006280694651540749.\u001B[0m\n"
     ]
    },
    {
     "name": "stdout",
     "output_type": "stream",
     "text": [
      "{'tol': 1e-05, 'n_iter_no_change': 5, 'random_state': 16, 'warm_start': False, 'max_iter': 2000, 'batch_size': 10000, 'learning_rate': 'adaptive', 'alpha': 0.7962434975880605, 'learning_rate_init': 0.014794061022918458, 'power_t': 0.5, 'hidden_layer_sizes': [800, 350, 10]}\n"
     ]
    },
    {
     "name": "stderr",
     "output_type": "stream",
     "text": [
      "/Users/tpawlowski/Documents/qsp_emulation/venv/lib/python3.11/site-packages/sklearn/neural_network/_multilayer_perceptron.py:691: UserWarning: Training interrupted by user.\n",
      "  warnings.warn(\"Training interrupted by user.\")\n",
      "\u001B[32m[I 2023-03-26 03:47:50,563]\u001B[0m Trial 19 finished with value: 0.018468050804115732 and parameters: {'alpha': 0.7962434975880605, 'learning_rate_init': 0.014794061022918458, 'layer1/3': 800, 'layer2/3': 350, 'layer3/3': 10, 'batch_size': 10000, 'random_state': 16}. Best is trial 15 with value: 0.0006280694651540749.\u001B[0m\n"
     ]
    },
    {
     "name": "stdout",
     "output_type": "stream",
     "text": [
      "{'tol': 1e-05, 'n_iter_no_change': 5, 'random_state': 30, 'warm_start': False, 'max_iter': 2000, 'batch_size': 15000, 'learning_rate': 'adaptive', 'alpha': 0.1923285115669278, 'learning_rate_init': 0.0004992643898381851, 'power_t': 0.5, 'hidden_layer_sizes': [600, 450, 35]}\n"
     ]
    },
    {
     "name": "stderr",
     "output_type": "stream",
     "text": [
      "/Users/tpawlowski/Documents/qsp_emulation/venv/lib/python3.11/site-packages/sklearn/neural_network/_multilayer_perceptron.py:691: UserWarning: Training interrupted by user.\n",
      "  warnings.warn(\"Training interrupted by user.\")\n",
      "\u001B[32m[I 2023-03-26 03:52:53,422]\u001B[0m Trial 20 finished with value: 0.009052225830914246 and parameters: {'alpha': 0.1923285115669278, 'learning_rate_init': 0.0004992643898381851, 'layer1/3': 600, 'layer2/3': 450, 'layer3/3': 35, 'batch_size': 15000, 'random_state': 30}. Best is trial 15 with value: 0.0006280694651540749.\u001B[0m\n"
     ]
    },
    {
     "name": "stdout",
     "output_type": "stream",
     "text": [
      "{'tol': 1e-05, 'n_iter_no_change': 5, 'random_state': 9, 'warm_start': False, 'max_iter': 2000, 'batch_size': 10000, 'learning_rate': 'adaptive', 'alpha': 0.353199165539139, 'learning_rate_init': 0.0033845841696555075, 'power_t': 0.5, 'hidden_layer_sizes': [600, 350, 50]}\n"
     ]
    },
    {
     "name": "stderr",
     "output_type": "stream",
     "text": [
      "/Users/tpawlowski/Documents/qsp_emulation/venv/lib/python3.11/site-packages/sklearn/neural_network/_multilayer_perceptron.py:691: UserWarning: Training interrupted by user.\n",
      "  warnings.warn(\"Training interrupted by user.\")\n",
      "\u001B[32m[I 2023-03-26 03:57:55,976]\u001B[0m Trial 21 finished with value: 0.001436894337390015 and parameters: {'alpha': 0.353199165539139, 'learning_rate_init': 0.0033845841696555075, 'layer1/3': 600, 'layer2/3': 350, 'layer3/3': 50, 'batch_size': 10000, 'random_state': 9}. Best is trial 15 with value: 0.0006280694651540749.\u001B[0m\n"
     ]
    },
    {
     "name": "stdout",
     "output_type": "stream",
     "text": [
      "{'tol': 1e-05, 'n_iter_no_change': 5, 'random_state': 9, 'warm_start': False, 'max_iter': 2000, 'batch_size': 10000, 'learning_rate': 'adaptive', 'alpha': 0.9487595940896554, 'learning_rate_init': 0.0036737648739118126, 'power_t': 0.5, 'hidden_layer_sizes': [600, 350, 45]}\n"
     ]
    },
    {
     "name": "stderr",
     "output_type": "stream",
     "text": [
      "/Users/tpawlowski/Documents/qsp_emulation/venv/lib/python3.11/site-packages/sklearn/neural_network/_multilayer_perceptron.py:691: UserWarning: Training interrupted by user.\n",
      "  warnings.warn(\"Training interrupted by user.\")\n",
      "\u001B[32m[I 2023-03-26 04:02:58,609]\u001B[0m Trial 22 finished with value: 0.0010903936509996635 and parameters: {'alpha': 0.9487595940896554, 'learning_rate_init': 0.0036737648739118126, 'layer1/3': 600, 'layer2/3': 350, 'layer3/3': 45, 'batch_size': 10000, 'random_state': 9}. Best is trial 15 with value: 0.0006280694651540749.\u001B[0m\n"
     ]
    },
    {
     "name": "stdout",
     "output_type": "stream",
     "text": [
      "{'tol': 1e-05, 'n_iter_no_change': 5, 'random_state': 9, 'warm_start': False, 'max_iter': 2000, 'batch_size': 10000, 'learning_rate': 'adaptive', 'alpha': 0.2679809949886099, 'learning_rate_init': 0.003738905670550748, 'power_t': 0.5, 'hidden_layer_sizes': [600, 350, 45]}\n"
     ]
    },
    {
     "name": "stderr",
     "output_type": "stream",
     "text": [
      "/Users/tpawlowski/Documents/qsp_emulation/venv/lib/python3.11/site-packages/sklearn/neural_network/_multilayer_perceptron.py:691: UserWarning: Training interrupted by user.\n",
      "  warnings.warn(\"Training interrupted by user.\")\n",
      "\u001B[32m[I 2023-03-26 04:08:01,188]\u001B[0m Trial 23 finished with value: 0.000983495245409407 and parameters: {'alpha': 0.2679809949886099, 'learning_rate_init': 0.003738905670550748, 'layer1/3': 600, 'layer2/3': 350, 'layer3/3': 45, 'batch_size': 10000, 'random_state': 9}. Best is trial 15 with value: 0.0006280694651540749.\u001B[0m\n"
     ]
    },
    {
     "name": "stdout",
     "output_type": "stream",
     "text": [
      "{'tol': 1e-05, 'n_iter_no_change': 5, 'random_state': 9, 'warm_start': False, 'max_iter': 2000, 'batch_size': 10000, 'learning_rate': 'adaptive', 'alpha': 0.12460130940257498, 'learning_rate_init': 0.009944134049018685, 'power_t': 0.5, 'hidden_layer_sizes': [600, 350, 40]}\n"
     ]
    },
    {
     "name": "stderr",
     "output_type": "stream",
     "text": [
      "/Users/tpawlowski/Documents/qsp_emulation/venv/lib/python3.11/site-packages/sklearn/neural_network/_multilayer_perceptron.py:691: UserWarning: Training interrupted by user.\n",
      "  warnings.warn(\"Training interrupted by user.\")\n",
      "\u001B[32m[I 2023-03-26 04:13:03,760]\u001B[0m Trial 24 finished with value: 0.000960032719144673 and parameters: {'alpha': 0.12460130940257498, 'learning_rate_init': 0.009944134049018685, 'layer1/3': 600, 'layer2/3': 350, 'layer3/3': 40, 'batch_size': 10000, 'random_state': 9}. Best is trial 15 with value: 0.0006280694651540749.\u001B[0m\n"
     ]
    },
    {
     "name": "stdout",
     "output_type": "stream",
     "text": [
      "{'tol': 1e-05, 'n_iter_no_change': 5, 'random_state': 10, 'warm_start': False, 'max_iter': 2000, 'batch_size': 15000, 'learning_rate': 'adaptive', 'alpha': 0.08763224895104246, 'learning_rate_init': 0.010312947937559607, 'power_t': 0.5, 'hidden_layer_sizes': [600, 450, 40]}\n"
     ]
    },
    {
     "name": "stderr",
     "output_type": "stream",
     "text": [
      "/Users/tpawlowski/Documents/qsp_emulation/venv/lib/python3.11/site-packages/sklearn/neural_network/_multilayer_perceptron.py:691: UserWarning: Training interrupted by user.\n",
      "  warnings.warn(\"Training interrupted by user.\")\n",
      "\u001B[32m[I 2023-03-26 04:18:06,650]\u001B[0m Trial 25 finished with value: 0.00194794569834995 and parameters: {'alpha': 0.08763224895104246, 'learning_rate_init': 0.010312947937559607, 'layer1/3': 600, 'layer2/3': 450, 'layer3/3': 40, 'batch_size': 15000, 'random_state': 10}. Best is trial 15 with value: 0.0006280694651540749.\u001B[0m\n"
     ]
    },
    {
     "name": "stdout",
     "output_type": "stream",
     "text": [
      "{'tol': 1e-05, 'n_iter_no_change': 5, 'random_state': 9, 'warm_start': False, 'max_iter': 2000, 'batch_size': 10000, 'learning_rate': 'adaptive', 'alpha': 0.2313751590148799, 'learning_rate_init': 0.010445610961240503, 'power_t': 0.5, 'hidden_layer_sizes': [600, 300, 35]}\n"
     ]
    },
    {
     "name": "stderr",
     "output_type": "stream",
     "text": [
      "/Users/tpawlowski/Documents/qsp_emulation/venv/lib/python3.11/site-packages/sklearn/neural_network/_multilayer_perceptron.py:691: UserWarning: Training interrupted by user.\n",
      "  warnings.warn(\"Training interrupted by user.\")\n",
      "\u001B[32m[I 2023-03-26 04:23:09,085]\u001B[0m Trial 26 finished with value: 0.0005633349748088704 and parameters: {'alpha': 0.2313751590148799, 'learning_rate_init': 0.010445610961240503, 'layer1/3': 600, 'layer2/3': 300, 'layer3/3': 35, 'batch_size': 10000, 'random_state': 9}. Best is trial 26 with value: 0.0005633349748088704.\u001B[0m\n"
     ]
    },
    {
     "name": "stdout",
     "output_type": "stream",
     "text": [
      "Updating MLPRegressor_adaptive_300.pickle\n",
      "{'tol': 1e-05, 'n_iter_no_change': 5, 'random_state': 24, 'warm_start': False, 'max_iter': 2000, 'batch_size': 15000, 'learning_rate': 'adaptive', 'alpha': 0.13744132811274545, 'learning_rate_init': 0.020402773815804395, 'power_t': 0.5, 'hidden_layer_sizes': [800, 250, 35]}\n"
     ]
    },
    {
     "name": "stderr",
     "output_type": "stream",
     "text": [
      "\u001B[32m[I 2023-03-26 04:27:45,419]\u001B[0m Trial 27 finished with value: 0.0017391470128153245 and parameters: {'alpha': 0.13744132811274545, 'learning_rate_init': 0.020402773815804395, 'layer1/3': 800, 'layer2/3': 250, 'layer3/3': 35, 'batch_size': 15000, 'random_state': 24}. Best is trial 26 with value: 0.0005633349748088704.\u001B[0m\n"
     ]
    },
    {
     "name": "stdout",
     "output_type": "stream",
     "text": [
      "{'tol': 1e-05, 'n_iter_no_change': 5, 'random_state': 20, 'warm_start': False, 'max_iter': 2000, 'batch_size': 10000, 'learning_rate': 'adaptive', 'alpha': 0.06697506164069783, 'learning_rate_init': 0.010266982855378118, 'power_t': 0.5, 'hidden_layer_sizes': [600, 300, 30]}\n"
     ]
    },
    {
     "name": "stderr",
     "output_type": "stream",
     "text": [
      "/Users/tpawlowski/Documents/qsp_emulation/venv/lib/python3.11/site-packages/sklearn/neural_network/_multilayer_perceptron.py:691: UserWarning: Training interrupted by user.\n",
      "  warnings.warn(\"Training interrupted by user.\")\n",
      "\u001B[32m[I 2023-03-26 04:32:47,825]\u001B[0m Trial 28 finished with value: 0.0005397243537644719 and parameters: {'alpha': 0.06697506164069783, 'learning_rate_init': 0.010266982855378118, 'layer1/3': 600, 'layer2/3': 300, 'layer3/3': 30, 'batch_size': 10000, 'random_state': 20}. Best is trial 28 with value: 0.0005397243537644719.\u001B[0m\n"
     ]
    },
    {
     "name": "stdout",
     "output_type": "stream",
     "text": [
      "Updating MLPRegressor_adaptive_300.pickle\n",
      "{'tol': 1e-05, 'n_iter_no_change': 5, 'random_state': 22, 'warm_start': False, 'max_iter': 2000, 'batch_size': 10000, 'learning_rate': 'adaptive', 'alpha': 0.06175249303205483, 'learning_rate_init': 0.02438326335554576, 'power_t': 0.5, 'hidden_layer_sizes': [600, 300, 25]}\n"
     ]
    },
    {
     "name": "stderr",
     "output_type": "stream",
     "text": [
      "\u001B[32m[I 2023-03-26 04:37:05,186]\u001B[0m Trial 29 finished with value: 0.003052085545498362 and parameters: {'alpha': 0.06175249303205483, 'learning_rate_init': 0.02438326335554576, 'layer1/3': 600, 'layer2/3': 300, 'layer3/3': 25, 'batch_size': 10000, 'random_state': 22}. Best is trial 28 with value: 0.0005397243537644719.\u001B[0m\n"
     ]
    },
    {
     "name": "stdout",
     "output_type": "stream",
     "text": [
      "{'tol': 1e-05, 'n_iter_no_change': 5, 'random_state': 20, 'warm_start': False, 'max_iter': 2000, 'batch_size': 15000, 'learning_rate': 'adaptive', 'alpha': 0.20860725665309748, 'learning_rate_init': 0.027593364651811815, 'power_t': 0.5, 'hidden_layer_sizes': [800, 250, 20]}\n"
     ]
    },
    {
     "name": "stderr",
     "output_type": "stream",
     "text": [
      "/Users/tpawlowski/Documents/qsp_emulation/venv/lib/python3.11/site-packages/sklearn/neural_network/_multilayer_perceptron.py:691: UserWarning: Training interrupted by user.\n",
      "  warnings.warn(\"Training interrupted by user.\")\n",
      "\u001B[32m[I 2023-03-26 04:42:07,761]\u001B[0m Trial 30 finished with value: 0.0024680570911342074 and parameters: {'alpha': 0.20860725665309748, 'learning_rate_init': 0.027593364651811815, 'layer1/3': 800, 'layer2/3': 250, 'layer3/3': 20, 'batch_size': 15000, 'random_state': 20}. Best is trial 28 with value: 0.0005397243537644719.\u001B[0m\n"
     ]
    },
    {
     "name": "stdout",
     "output_type": "stream",
     "text": [
      "{'tol': 1e-05, 'n_iter_no_change': 5, 'random_state': 27, 'warm_start': False, 'max_iter': 2000, 'batch_size': 10000, 'learning_rate': 'adaptive', 'alpha': 0.1317844451304156, 'learning_rate_init': 0.010477083754806913, 'power_t': 0.5, 'hidden_layer_sizes': [600, 300, 30]}\n"
     ]
    },
    {
     "name": "stderr",
     "output_type": "stream",
     "text": [
      "/Users/tpawlowski/Documents/qsp_emulation/venv/lib/python3.11/site-packages/sklearn/neural_network/_multilayer_perceptron.py:691: UserWarning: Training interrupted by user.\n",
      "  warnings.warn(\"Training interrupted by user.\")\n",
      "\u001B[32m[I 2023-03-26 04:47:10,175]\u001B[0m Trial 31 finished with value: 0.001993196662501667 and parameters: {'alpha': 0.1317844451304156, 'learning_rate_init': 0.010477083754806913, 'layer1/3': 600, 'layer2/3': 300, 'layer3/3': 30, 'batch_size': 10000, 'random_state': 27}. Best is trial 28 with value: 0.0005397243537644719.\u001B[0m\n"
     ]
    },
    {
     "name": "stdout",
     "output_type": "stream",
     "text": [
      "{'tol': 1e-05, 'n_iter_no_change': 5, 'random_state': 2, 'warm_start': False, 'max_iter': 2000, 'batch_size': 10000, 'learning_rate': 'adaptive', 'alpha': 0.05909963091470477, 'learning_rate_init': 0.012383047763380117, 'power_t': 0.5, 'hidden_layer_sizes': [600, 350, 30]}\n"
     ]
    },
    {
     "name": "stderr",
     "output_type": "stream",
     "text": [
      "/Users/tpawlowski/Documents/qsp_emulation/venv/lib/python3.11/site-packages/sklearn/neural_network/_multilayer_perceptron.py:691: UserWarning: Training interrupted by user.\n",
      "  warnings.warn(\"Training interrupted by user.\")\n",
      "\u001B[32m[I 2023-03-26 04:52:12,752]\u001B[0m Trial 32 finished with value: 0.0009912475590805791 and parameters: {'alpha': 0.05909963091470477, 'learning_rate_init': 0.012383047763380117, 'layer1/3': 600, 'layer2/3': 350, 'layer3/3': 30, 'batch_size': 10000, 'random_state': 2}. Best is trial 28 with value: 0.0005397243537644719.\u001B[0m\n"
     ]
    },
    {
     "name": "stdout",
     "output_type": "stream",
     "text": [
      "{'tol': 1e-05, 'n_iter_no_change': 5, 'random_state': 15, 'warm_start': False, 'max_iter': 2000, 'batch_size': 10000, 'learning_rate': 'adaptive', 'alpha': 0.4594197782688325, 'learning_rate_init': 0.01909914102924373, 'power_t': 0.5, 'hidden_layer_sizes': [1200, 300, 35]}\n"
     ]
    },
    {
     "name": "stderr",
     "output_type": "stream",
     "text": [
      "/Users/tpawlowski/Documents/qsp_emulation/venv/lib/python3.11/site-packages/sklearn/neural_network/_multilayer_perceptron.py:691: UserWarning: Training interrupted by user.\n",
      "  warnings.warn(\"Training interrupted by user.\")\n",
      "\u001B[32m[I 2023-03-26 04:57:16,244]\u001B[0m Trial 33 finished with value: 0.006770433148504968 and parameters: {'alpha': 0.4594197782688325, 'learning_rate_init': 0.01909914102924373, 'layer1/3': 1200, 'layer2/3': 300, 'layer3/3': 35, 'batch_size': 10000, 'random_state': 15}. Best is trial 28 with value: 0.0005397243537644719.\u001B[0m\n"
     ]
    },
    {
     "name": "stdout",
     "output_type": "stream",
     "text": [
      "{'tol': 1e-05, 'n_iter_no_change': 5, 'random_state': 3, 'warm_start': False, 'max_iter': 2000, 'batch_size': 10000, 'learning_rate': 'adaptive', 'alpha': 0.21292535480881952, 'learning_rate_init': 0.009365630926566133, 'power_t': 0.5, 'hidden_layer_sizes': [600, 400, 30]}\n"
     ]
    },
    {
     "name": "stderr",
     "output_type": "stream",
     "text": [
      "/Users/tpawlowski/Documents/qsp_emulation/venv/lib/python3.11/site-packages/sklearn/neural_network/_multilayer_perceptron.py:691: UserWarning: Training interrupted by user.\n",
      "  warnings.warn(\"Training interrupted by user.\")\n",
      "\u001B[32m[I 2023-03-26 05:02:18,891]\u001B[0m Trial 34 finished with value: 0.000931712993284604 and parameters: {'alpha': 0.21292535480881952, 'learning_rate_init': 0.009365630926566133, 'layer1/3': 600, 'layer2/3': 400, 'layer3/3': 30, 'batch_size': 10000, 'random_state': 3}. Best is trial 28 with value: 0.0005397243537644719.\u001B[0m\n"
     ]
    },
    {
     "name": "stdout",
     "output_type": "stream",
     "text": [
      "{'tol': 1e-05, 'n_iter_no_change': 5, 'random_state': 3, 'warm_start': False, 'max_iter': 2000, 'batch_size': 15000, 'learning_rate': 'adaptive', 'alpha': 0.37750847273128335, 'learning_rate_init': 0.014747028510273786, 'power_t': 0.5, 'hidden_layer_sizes': [600, 400, 30]}\n"
     ]
    },
    {
     "name": "stderr",
     "output_type": "stream",
     "text": [
      "/Users/tpawlowski/Documents/qsp_emulation/venv/lib/python3.11/site-packages/sklearn/neural_network/_multilayer_perceptron.py:691: UserWarning: Training interrupted by user.\n",
      "  warnings.warn(\"Training interrupted by user.\")\n",
      "\u001B[32m[I 2023-03-26 05:07:21,552]\u001B[0m Trial 35 finished with value: 0.001191414722332466 and parameters: {'alpha': 0.37750847273128335, 'learning_rate_init': 0.014747028510273786, 'layer1/3': 600, 'layer2/3': 400, 'layer3/3': 30, 'batch_size': 15000, 'random_state': 3}. Best is trial 28 with value: 0.0005397243537644719.\u001B[0m\n"
     ]
    },
    {
     "name": "stdout",
     "output_type": "stream",
     "text": [
      "{'tol': 1e-05, 'n_iter_no_change': 5, 'random_state': 12, 'warm_start': False, 'max_iter': 2000, 'batch_size': 10000, 'learning_rate': 'adaptive', 'alpha': 0.21393053350202623, 'learning_rate_init': 0.007515362221646359, 'power_t': 0.5, 'hidden_layer_sizes': [600, 400, 25]}\n"
     ]
    },
    {
     "name": "stderr",
     "output_type": "stream",
     "text": [
      "/Users/tpawlowski/Documents/qsp_emulation/venv/lib/python3.11/site-packages/sklearn/neural_network/_multilayer_perceptron.py:691: UserWarning: Training interrupted by user.\n",
      "  warnings.warn(\"Training interrupted by user.\")\n",
      "\u001B[32m[I 2023-03-26 05:12:24,219]\u001B[0m Trial 36 finished with value: 0.000763312341220552 and parameters: {'alpha': 0.21393053350202623, 'learning_rate_init': 0.007515362221646359, 'layer1/3': 600, 'layer2/3': 400, 'layer3/3': 25, 'batch_size': 10000, 'random_state': 12}. Best is trial 28 with value: 0.0005397243537644719.\u001B[0m\n"
     ]
    },
    {
     "name": "stdout",
     "output_type": "stream",
     "text": [
      "{'tol': 1e-05, 'n_iter_no_change': 5, 'random_state': 12, 'warm_start': False, 'max_iter': 2000, 'batch_size': 10000, 'learning_rate': 'adaptive', 'alpha': 0.5167286804852765, 'learning_rate_init': 0.007204381801870811, 'power_t': 0.5, 'hidden_layer_sizes': [800, 500, 20]}\n"
     ]
    },
    {
     "name": "stderr",
     "output_type": "stream",
     "text": [
      "/Users/tpawlowski/Documents/qsp_emulation/venv/lib/python3.11/site-packages/sklearn/neural_network/_multilayer_perceptron.py:691: UserWarning: Training interrupted by user.\n",
      "  warnings.warn(\"Training interrupted by user.\")\n",
      "\u001B[32m[I 2023-03-26 05:17:27,583]\u001B[0m Trial 37 finished with value: 0.0017416359965094618 and parameters: {'alpha': 0.5167286804852765, 'learning_rate_init': 0.007204381801870811, 'layer1/3': 800, 'layer2/3': 500, 'layer3/3': 20, 'batch_size': 10000, 'random_state': 12}. Best is trial 28 with value: 0.0005397243537644719.\u001B[0m\n"
     ]
    },
    {
     "name": "stdout",
     "output_type": "stream",
     "text": [
      "{'tol': 1e-05, 'n_iter_no_change': 5, 'random_state': 14, 'warm_start': False, 'max_iter': 2000, 'batch_size': 15000, 'learning_rate': 'adaptive', 'alpha': 0.279220458627532, 'learning_rate_init': 0.004874277785323703, 'power_t': 0.5, 'hidden_layer_sizes': [1200, 250, 25]}\n"
     ]
    },
    {
     "name": "stderr",
     "output_type": "stream",
     "text": [
      "/Users/tpawlowski/Documents/qsp_emulation/venv/lib/python3.11/site-packages/sklearn/neural_network/_multilayer_perceptron.py:691: UserWarning: Training interrupted by user.\n",
      "  warnings.warn(\"Training interrupted by user.\")\n",
      "\u001B[32m[I 2023-03-26 05:22:30,738]\u001B[0m Trial 38 finished with value: 0.010539428679915992 and parameters: {'alpha': 0.279220458627532, 'learning_rate_init': 0.004874277785323703, 'layer1/3': 1200, 'layer2/3': 250, 'layer3/3': 25, 'batch_size': 15000, 'random_state': 14}. Best is trial 28 with value: 0.0005397243537644719.\u001B[0m\n"
     ]
    },
    {
     "name": "stdout",
     "output_type": "stream",
     "text": [
      "{'tol': 1e-05, 'n_iter_no_change': 5, 'random_state': 1, 'warm_start': False, 'max_iter': 2000, 'batch_size': 10000, 'learning_rate': 'adaptive', 'alpha': 0.10448540546457212, 'learning_rate_init': 0.012998024353688927, 'power_t': 0.5, 'hidden_layer_sizes': [600, 300, 15]}\n"
     ]
    },
    {
     "name": "stderr",
     "output_type": "stream",
     "text": [
      "\u001B[32m[I 2023-03-26 05:27:01,616]\u001B[0m Trial 39 finished with value: 0.00173551231131575 and parameters: {'alpha': 0.10448540546457212, 'learning_rate_init': 0.012998024353688927, 'layer1/3': 600, 'layer2/3': 300, 'layer3/3': 15, 'batch_size': 10000, 'random_state': 1}. Best is trial 28 with value: 0.0005397243537644719.\u001B[0m\n"
     ]
    },
    {
     "name": "stdout",
     "output_type": "stream",
     "text": [
      "model: MLPRegressor_adaptive_300 test dataset error: 0.0005397243537644719 best_params: {'alpha': 0.06697506164069783, 'batch_size': 10000, 'layer1/3': 600, 'layer2/3': 300, 'layer3/3': 30, 'learning_rate_init': 0.010266982855378118, 'random_state': 20}\n"
     ]
    }
   ],
   "source": [
    "# Test how neural network perform with 10 minute training cap on full dataset\n",
    "from sklearn.neural_network import MLPRegressor\n",
    "from threadpoolctl import threadpool_limits\n",
    "\n",
    "for learning_rate in [\"constant\", \"invscaling\", \"adaptive\"]:\n",
    "    max_duration_s = 300\n",
    "    common_params={\n",
    "        \"tol\": 1e-5,\n",
    "        \"n_iter_no_change\": 5,\n",
    "        \"random_state\": 42,\n",
    "        \"warm_start\": False,\n",
    "        \"max_iter\": 2000,\n",
    "        \"batch_size\": 10000,\n",
    "        \"learning_rate\": learning_rate\n",
    "    }\n",
    "\n",
    "    def objective(trial):\n",
    "        global common_params\n",
    "        global max_duration_s\n",
    "\n",
    "        alpha = trial.suggest_float(\"alpha\", 0.0001, 1.0, log=True)\n",
    "        learning_rate_init = trial.suggest_float(\"learning_rate_init\", 0.0001, 0.05, log=True)\n",
    "        power_t = trial.suggest_float(\"power_t\", 0.1, 2.0, log=True) if learning_rate == \"invscaling\" else 0.5\n",
    "\n",
    "        model_params = {\n",
    "            **common_params,\n",
    "            \"alpha\": alpha,\n",
    "            \"learning_rate_init\": learning_rate_init,\n",
    "            \"power_t\": power_t,\n",
    "            \"hidden_layer_sizes\": [\n",
    "                trial.suggest_int(f\"layer1/3\", 600, 1200, step=200),\n",
    "                trial.suggest_int(f\"layer2/3\", 200, 600, step=50),\n",
    "                trial.suggest_int(f\"layer3/3\", 10, 50, step=5)\n",
    "            ],\n",
    "            \"batch_size\": trial.suggest_int(\"batch_size\", 10000, 25000, step=5000),\n",
    "            \"random_state\": trial.suggest_categorical(\"random_state\", list(range(0, 32))),\n",
    "            #\"hidden_layer_sizes\": [600, 200, 50]\n",
    "        }\n",
    "        print(model_params)\n",
    "\n",
    "        trial.set_user_attr(\"model_params\", model_params)\n",
    "\n",
    "        model = MLPRegressor(**trial.user_attrs[\"model_params\"])\n",
    "        trial.set_user_attr(\"training_size\", 1.0)\n",
    "        trial.set_user_attr(\"max_duration_s\", max_duration_s)\n",
    "\n",
    "        try:\n",
    "            signal.alarm(max_duration_s)\n",
    "            with threadpool_limits(limits=8, user_api='blas'):\n",
    "                model.fit(X_train_scaled, Y_train_pca)\n",
    "            signal.alarm(0)\n",
    "            error = mse_on_test_dataset(model)\n",
    "            save_best_model(model, error, trial)\n",
    "            \n",
    "        except TimeoutError:\n",
    "            raise optuna.exceptions.TrialPruned()\n",
    "        return error\n",
    "\n",
    "    study = optuna.create_study(study_name=f\"MLPRegressor_{learning_rate}_{max_duration_s}\", storage='sqlite:///../final/optuna.db', load_if_exists=True)\n",
    "    trials_due = 40 * RUN_ITERATIONS_PERCENT // 100 - len(study.trials)\n",
    "    if trials_due > 0:\n",
    "        previous_handler = signal.signal(signal.SIGALRM, keyboard_interrupt_handler)\n",
    "        study.optimize(objective, n_trials=trials_due)\n",
    "        signal.signal(signal.SIGALRM, previous_handler)\n",
    "\n",
    "    print(f\"model: {study.study_name} test dataset error: {study.best_value} best_params: {study.best_params}\")"
   ]
  },
  {
   "cell_type": "code",
   "execution_count": 16,
   "metadata": {},
   "outputs": [
    {
     "ename": "KeyError",
     "evalue": "'Record does not exist.'",
     "output_type": "error",
     "traceback": [
      "\u001B[0;31m---------------------------------------------------------------------------\u001B[0m",
      "\u001B[0;31mKeyError\u001B[0m                                  Traceback (most recent call last)",
      "Cell \u001B[0;32mIn[16], line 1\u001B[0m\n\u001B[0;32m----> 1\u001B[0m \u001B[43moptuna\u001B[49m\u001B[38;5;241;43m.\u001B[39;49m\u001B[43mdelete_study\u001B[49m\u001B[43m(\u001B[49m\u001B[43mstudy_name\u001B[49m\u001B[38;5;241;43m=\u001B[39;49m\u001B[38;5;124;43m\"\u001B[39;49m\u001B[38;5;124;43mMLPRegressor_constant_300\u001B[39;49m\u001B[38;5;124;43m\"\u001B[39;49m\u001B[43m,\u001B[49m\u001B[43m \u001B[49m\u001B[43mstorage\u001B[49m\u001B[38;5;241;43m=\u001B[39;49m\u001B[38;5;124;43m'\u001B[39;49m\u001B[38;5;124;43msqlite:///../final/optuna.db\u001B[39;49m\u001B[38;5;124;43m'\u001B[39;49m\u001B[43m)\u001B[49m\n",
      "File \u001B[0;32m~/Documents/qsp_emulation/venv/lib/python3.11/site-packages/optuna/_convert_positional_args.py:63\u001B[0m, in \u001B[0;36mconvert_positional_args.<locals>.converter_decorator.<locals>.converter_wrapper\u001B[0;34m(*args, **kwargs)\u001B[0m\n\u001B[1;32m     58\u001B[0m         \u001B[38;5;28;01mraise\u001B[39;00m \u001B[38;5;167;01mTypeError\u001B[39;00m(\n\u001B[1;32m     59\u001B[0m             \u001B[38;5;124mf\u001B[39m\u001B[38;5;124m\"\u001B[39m\u001B[38;5;132;01m{\u001B[39;00mfunc\u001B[38;5;241m.\u001B[39m\u001B[38;5;18m__name__\u001B[39m\u001B[38;5;132;01m}\u001B[39;00m\u001B[38;5;124m() got multiple values for argument \u001B[39m\u001B[38;5;124m'\u001B[39m\u001B[38;5;132;01m{\u001B[39;00marg_name\u001B[38;5;132;01m}\u001B[39;00m\u001B[38;5;124m'\u001B[39m\u001B[38;5;124m.\u001B[39m\u001B[38;5;124m\"\u001B[39m\n\u001B[1;32m     60\u001B[0m         )\n\u001B[1;32m     61\u001B[0m     kwargs[arg_name] \u001B[38;5;241m=\u001B[39m val\n\u001B[0;32m---> 63\u001B[0m \u001B[38;5;28;01mreturn\u001B[39;00m \u001B[43mfunc\u001B[49m\u001B[43m(\u001B[49m\u001B[38;5;241;43m*\u001B[39;49m\u001B[38;5;241;43m*\u001B[39;49m\u001B[43mkwargs\u001B[49m\u001B[43m)\u001B[49m\n",
      "File \u001B[0;32m~/Documents/qsp_emulation/venv/lib/python3.11/site-packages/optuna/study/study.py:1317\u001B[0m, in \u001B[0;36mdelete_study\u001B[0;34m(study_name, storage)\u001B[0m\n\u001B[1;32m   1274\u001B[0m \u001B[38;5;250m\u001B[39m\u001B[38;5;124;03m\"\"\"Delete a :class:`~optuna.study.Study` object.\u001B[39;00m\n\u001B[1;32m   1275\u001B[0m \n\u001B[1;32m   1276\u001B[0m \u001B[38;5;124;03mExample:\u001B[39;00m\n\u001B[0;32m   (...)\u001B[0m\n\u001B[1;32m   1313\u001B[0m \n\u001B[1;32m   1314\u001B[0m \u001B[38;5;124;03m\"\"\"\u001B[39;00m\n\u001B[1;32m   1316\u001B[0m storage \u001B[38;5;241m=\u001B[39m storages\u001B[38;5;241m.\u001B[39mget_storage(storage)\n\u001B[0;32m-> 1317\u001B[0m study_id \u001B[38;5;241m=\u001B[39m \u001B[43mstorage\u001B[49m\u001B[38;5;241;43m.\u001B[39;49m\u001B[43mget_study_id_from_name\u001B[49m\u001B[43m(\u001B[49m\u001B[43mstudy_name\u001B[49m\u001B[43m)\u001B[49m\n\u001B[1;32m   1318\u001B[0m storage\u001B[38;5;241m.\u001B[39mdelete_study(study_id)\n",
      "File \u001B[0;32m~/Documents/qsp_emulation/venv/lib/python3.11/site-packages/optuna/storages/_cached_storage.py:136\u001B[0m, in \u001B[0;36m_CachedStorage.get_study_id_from_name\u001B[0;34m(self, study_name)\u001B[0m\n\u001B[1;32m    134\u001B[0m \u001B[38;5;28;01mdef\u001B[39;00m \u001B[38;5;21mget_study_id_from_name\u001B[39m(\u001B[38;5;28mself\u001B[39m, study_name: \u001B[38;5;28mstr\u001B[39m) \u001B[38;5;241m-\u001B[39m\u001B[38;5;241m>\u001B[39m \u001B[38;5;28mint\u001B[39m:\n\u001B[0;32m--> 136\u001B[0m     \u001B[38;5;28;01mreturn\u001B[39;00m \u001B[38;5;28;43mself\u001B[39;49m\u001B[38;5;241;43m.\u001B[39;49m\u001B[43m_backend\u001B[49m\u001B[38;5;241;43m.\u001B[39;49m\u001B[43mget_study_id_from_name\u001B[49m\u001B[43m(\u001B[49m\u001B[43mstudy_name\u001B[49m\u001B[43m)\u001B[49m\n",
      "File \u001B[0;32m~/Documents/qsp_emulation/venv/lib/python3.11/site-packages/optuna/storages/_rdb/storage.py:335\u001B[0m, in \u001B[0;36mRDBStorage.get_study_id_from_name\u001B[0;34m(self, study_name)\u001B[0m\n\u001B[1;32m    332\u001B[0m \u001B[38;5;28;01mdef\u001B[39;00m \u001B[38;5;21mget_study_id_from_name\u001B[39m(\u001B[38;5;28mself\u001B[39m, study_name: \u001B[38;5;28mstr\u001B[39m) \u001B[38;5;241m-\u001B[39m\u001B[38;5;241m>\u001B[39m \u001B[38;5;28mint\u001B[39m:\n\u001B[1;32m    334\u001B[0m     \u001B[38;5;28;01mwith\u001B[39;00m _create_scoped_session(\u001B[38;5;28mself\u001B[39m\u001B[38;5;241m.\u001B[39mscoped_session) \u001B[38;5;28;01mas\u001B[39;00m session:\n\u001B[0;32m--> 335\u001B[0m         study \u001B[38;5;241m=\u001B[39m \u001B[43mmodels\u001B[49m\u001B[38;5;241;43m.\u001B[39;49m\u001B[43mStudyModel\u001B[49m\u001B[38;5;241;43m.\u001B[39;49m\u001B[43mfind_or_raise_by_name\u001B[49m\u001B[43m(\u001B[49m\u001B[43mstudy_name\u001B[49m\u001B[43m,\u001B[49m\u001B[43m \u001B[49m\u001B[43msession\u001B[49m\u001B[43m)\u001B[49m\n\u001B[1;32m    336\u001B[0m         study_id \u001B[38;5;241m=\u001B[39m study\u001B[38;5;241m.\u001B[39mstudy_id\n\u001B[1;32m    338\u001B[0m     \u001B[38;5;28;01mreturn\u001B[39;00m study_id\n",
      "File \u001B[0;32m~/Documents/qsp_emulation/venv/lib/python3.11/site-packages/optuna/storages/_rdb/models.py:82\u001B[0m, in \u001B[0;36mStudyModel.find_or_raise_by_name\u001B[0;34m(cls, study_name, session)\u001B[0m\n\u001B[1;32m     80\u001B[0m study \u001B[38;5;241m=\u001B[39m \u001B[38;5;28mcls\u001B[39m\u001B[38;5;241m.\u001B[39mfind_by_name(study_name, session)\n\u001B[1;32m     81\u001B[0m \u001B[38;5;28;01mif\u001B[39;00m study \u001B[38;5;129;01mis\u001B[39;00m \u001B[38;5;28;01mNone\u001B[39;00m:\n\u001B[0;32m---> 82\u001B[0m     \u001B[38;5;28;01mraise\u001B[39;00m \u001B[38;5;167;01mKeyError\u001B[39;00m(NOT_FOUND_MSG)\n\u001B[1;32m     84\u001B[0m \u001B[38;5;28;01mreturn\u001B[39;00m study\n",
      "\u001B[0;31mKeyError\u001B[0m: 'Record does not exist.'"
     ]
    }
   ],
   "source": [
    "optuna.delete_study(study_name=\"MLPRegressor_constant_300\", storage='sqlite:///../final/optuna.db')"
   ]
  },
  {
   "cell_type": "code",
   "execution_count": 18,
   "metadata": {},
   "outputs": [
    {
     "name": "stderr",
     "output_type": "stream",
     "text": [
      "\u001B[32m[I 2023-03-21 15:15:05,958]\u001B[0m A new study created in RDB with name: ElasticNet\u001B[0m\n"
     ]
    },
    {
     "name": "stdout",
     "output_type": "stream",
     "text": [
      "Updating ElasticNet.pickle\n"
     ]
    },
    {
     "name": "stderr",
     "output_type": "stream",
     "text": [
      "\u001B[32m[I 2023-03-21 15:15:11,563]\u001B[0m Trial 0 finished with value: 0.10261961943221654 and parameters: {'l1_ratio': 0.2125353467369947, 'alpha': 0.0004221486333249773, 'fit_intercept': True, 'polynomial degree': 2}. Best is trial 0 with value: 0.10261961943221654.\u001B[0m\n",
      "\u001B[32m[I 2023-03-21 15:17:08,667]\u001B[0m Trial 1 finished with value: 0.10336975420999586 and parameters: {'l1_ratio': 0.11253674029614558, 'alpha': 0.0005185109299269791, 'fit_intercept': False, 'polynomial degree': 2}. Best is trial 0 with value: 0.10261961943221654.\u001B[0m\n",
      "/home/tpawlowski/qsp_emulation/venv/lib/python3.8/site-packages/sklearn/linear_model/_coordinate_descent.py:631: ConvergenceWarning: Objective did not converge. You might want to increase the number of iterations, check the scale of the features or consider increasing regularisation. Duality gap: 2.219e+02, tolerance: 3.019e+01\n",
      "  model = cd_fast.enet_coordinate_descent(\n",
      "\u001B[32m[I 2023-03-21 15:22:11,386]\u001B[0m Trial 2 pruned. \u001B[0m\n",
      "/home/tpawlowski/qsp_emulation/venv/lib/python3.8/site-packages/sklearn/linear_model/_coordinate_descent.py:631: ConvergenceWarning: Objective did not converge. You might want to increase the number of iterations, check the scale of the features or consider increasing regularisation. Duality gap: 1.278e+05, tolerance: 3.019e+01\n",
      "  model = cd_fast.enet_coordinate_descent(\n",
      "\u001B[32m[I 2023-03-21 15:29:46,950]\u001B[0m Trial 3 pruned. \u001B[0m\n",
      "\u001B[32m[I 2023-03-21 15:29:48,567]\u001B[0m Trial 4 finished with value: 0.3404028414025412 and parameters: {'l1_ratio': 0.645080714733268, 'alpha': 0.31799423320418435, 'fit_intercept': True, 'polynomial degree': 2}. Best is trial 0 with value: 0.10261961943221654.\u001B[0m\n",
      "\u001B[32m[I 2023-03-21 15:29:51,413]\u001B[0m Trial 5 finished with value: 0.33409284235670206 and parameters: {'l1_ratio': 0.21855983593824946, 'alpha': 0.3992683128726593, 'fit_intercept': True, 'polynomial degree': 3}. Best is trial 0 with value: 0.10261961943221654.\u001B[0m\n",
      "\u001B[32m[I 2023-03-21 15:30:33,224]\u001B[0m Trial 6 finished with value: 0.1755890168908648 and parameters: {'l1_ratio': 0.2930493732759957, 'alpha': 0.03741500224459578, 'fit_intercept': False, 'polynomial degree': 3}. Best is trial 0 with value: 0.10261961943221654.\u001B[0m\n",
      "\u001B[32m[I 2023-03-21 15:30:34,861]\u001B[0m Trial 7 finished with value: 0.4693021309415662 and parameters: {'l1_ratio': 0.5078243579380641, 'alpha': 0.6367637398492427, 'fit_intercept': False, 'polynomial degree': 2}. Best is trial 0 with value: 0.10261961943221654.\u001B[0m\n",
      "\u001B[32m[I 2023-03-21 15:30:36,361]\u001B[0m Trial 8 finished with value: 0.18481004761960318 and parameters: {'l1_ratio': 0.6195621662443304, 'alpha': 0.027346446781651164, 'fit_intercept': True, 'polynomial degree': 2}. Best is trial 0 with value: 0.10261961943221654.\u001B[0m\n",
      "\u001B[32m[I 2023-03-21 15:30:37,820]\u001B[0m Trial 9 finished with value: 0.2377398959222283 and parameters: {'l1_ratio': 0.18759677451130385, 'alpha': 0.05347242847089326, 'fit_intercept': True, 'polynomial degree': 2}. Best is trial 0 with value: 0.10261961943221654.\u001B[0m\n"
     ]
    },
    {
     "name": "stdout",
     "output_type": "stream",
     "text": [
      "model: ElasticNet test dataset error: 0.10261961943221654 best_params: {'alpha': 0.0004221486333249773, 'fit_intercept': True, 'l1_ratio': 0.2125353467369947, 'polynomial degree': 2}\n"
     ]
    }
   ],
   "source": [
    "# Linear regression with combined L1 and L2 priors as regularizer\n",
    "from sklearn.linear_model import ElasticNet\n",
    "\n",
    "common_params = {\n",
    "    \"random_state\": 42,\n",
    "    \"tol\": 1e-5\n",
    "}\n",
    "\n",
    "MAX_POLYNOMIAL_DEGREE = 3\n",
    "\n",
    "def objective(trial):\n",
    "    global common_params\n",
    "    phase = min((trial.number // 30), 4)\n",
    "\n",
    "    training_sizes = (0.03, 0.1, 0.3, 1.0)\n",
    "    training_max_duration_s = (240, 360, 600, 1200)\n",
    "    \n",
    "    training_size = int(training_sizes[phase] * X_train_scaled.shape[0])\n",
    "    max_duration_s = training_max_duration_s[phase]\n",
    "    max_iter = [20000, 40000, 80000, 160000][phase]\n",
    "    \n",
    "    trial.set_user_attr(\"training_size\", training_size)\n",
    "    trial.set_user_attr(\"max_duration_s\", max_duration_s)\n",
    "    trial.set_user_attr(\"model_params\", {\n",
    "        **common_params,\n",
    "        \"max_iter\": max_iter,\n",
    "        \"l1_ratio\": trial.suggest_float(\"l1_ratio\", 0.0, 1.0),\n",
    "        \"alpha\": trial.suggest_float(\"alpha\", 0.00001, 1.0, log=True),\n",
    "        \"fit_intercept\": trial.suggest_categorical(\"fit_intercept\", [True, False])\n",
    "    })\n",
    "    \n",
    "    trial.set_user_attr(\"polynomial degree\", trial.suggest_int(\"polynomial degree\", 1, MAX_POLYNOMIAL_DEGREE))\n",
    "    \n",
    "    model = make_pipeline(\n",
    "        PolynomialFeatures(trial.user_attrs[\"polynomial degree\"]),\n",
    "        ElasticNet(**trial.user_attrs[\"model_params\"])\n",
    "    )\n",
    "    \n",
    "    try:\n",
    "        signal.alarm(max_duration_s)\n",
    "        model.fit(X_train_scaled[:training_size,:], Y_train_pca[:training_size,:])\n",
    "        signal.alarm(0)\n",
    "        error = mse_on_test_dataset(model)\n",
    "        save_best_model(model, error, trial)\n",
    "    except TimeoutError:\n",
    "        raise optuna.exceptions.TrialPruned()\n",
    "    return error\n",
    "\n",
    "study = optuna.create_study(study_name=\"ElasticNet\", storage='sqlite:///../final/optuna.db', load_if_exists=True)\n",
    "trials_due = 100 * RUN_ITERATIONS_PERCENT // 100 - len(study.trials)\n",
    "if trials_due > 0:\n",
    "    study.optimize(objective, n_trials=trials_due)\n",
    "    \n",
    "print(f\"model: {study.study_name} test dataset error: {study.best_value} best_params: {study.best_params}\")"
   ]
  },
  {
   "cell_type": "code",
   "execution_count": 20,
   "metadata": {},
   "outputs": [
    {
     "name": "stderr",
     "output_type": "stream",
     "text": [
      "\u001B[32m[I 2023-03-21 15:38:39,525]\u001B[0m Using an existing study with name 'HistGradientBoostingRegressor' instead of creating a new one.\u001B[0m\n"
     ]
    },
    {
     "name": "stdout",
     "output_type": "stream",
     "text": [
      "model: HistGradientBoostingRegressor test dataset error: 0.014631947216599755 best_params: {'l2_regularization': 0.20213714120841555, 'learning_rate': 0.13215099864424212, 'loss': 'squared_error', 'max_iter': 140, 'regularize': True}\n"
     ]
    }
   ],
   "source": [
    "from sklearn.multioutput import MultiOutputRegressor\n",
    "from sklearn.ensemble import HistGradientBoostingRegressor\n",
    "\n",
    "def objective(trial):\n",
    "    trial_params = {}\n",
    "    # poisson requires y > 0 which is not true in this case\n",
    "    trial_params[\"loss\"] = trial.suggest_categorical(\"loss\", [\"squared_error\", \"absolute_error\", \"quantile\"])\n",
    "    \n",
    "    if trial_params[\"loss\"] == \"quantile\":\n",
    "        trial_params[\"quantile\"] = trial.suggest_float(\"quantile\", 0, 1)\n",
    "    \n",
    "    trial_params[\"learning_rate\"] = trial.suggest_float(\"learning_rate\", 0.00001, 0.5, log=True)\n",
    "    trial_params[\"max_iter\"] = trial.suggest_int(\"max_iter\", 20, 200, step=20)\n",
    "    if trial.suggest_categorical(\"regularize\", [True, False]):\n",
    "        trial_params[\"l2_regularization\"] = trial.suggest_float(\"l2_regularization\", 0.00001, 1.0, log=True)\n",
    "    \n",
    "    trial.set_user_attr(\"model_params\", {\n",
    "        \"random_state\": 42,\n",
    "        **trial_params\n",
    "    })\n",
    "    \n",
    "    model = MultiOutputRegressor(HistGradientBoostingRegressor(**trial.user_attrs[\"model_params\"]))\n",
    "    \n",
    "    phase = min((trial.number // 30), 4)\n",
    "    \n",
    "    training_sizes = (0.03, 0.1, 0.3, 1.0)\n",
    "    training_max_duration_s = (240, 360, 600, 1200)\n",
    "    \n",
    "    training_size = int(training_sizes[phase] * X_train_scaled.shape[0])\n",
    "    max_duration_s = training_max_duration_s[phase]\n",
    "    \n",
    "    trial.set_user_attr(\"training_size\", training_size)\n",
    "    trial.set_user_attr(\"max_duration_s\", max_duration_s)\n",
    "    \n",
    "    try:\n",
    "        signal.alarm(max_duration_s)\n",
    "        model.fit(X_train_scaled[:training_size,:], Y_train_pca[:training_size,:])\n",
    "        signal.alarm(0)\n",
    "        error = mse_on_test_dataset(model)\n",
    "        save_best_model(model, error, trial)\n",
    "    except KeyboardInterrupt as e:\n",
    "        raise e\n",
    "    except Exception as e:\n",
    "        print(e)\n",
    "        raise optuna.exceptions.TrialPruned()\n",
    "    return error\n",
    "\n",
    "study = optuna.create_study(study_name=\"HistGradientBoostingRegressor\", storage='sqlite:///../final/optuna.db', load_if_exists=True)\n",
    "trials_due = 100 * RUN_ITERATIONS_PERCENT // 100 - len(study.trials)\n",
    "if trials_due > 0:\n",
    "    study.optimize(objective, n_trials=trials_due)\n",
    "\n",
    "print(f\"model: {study.study_name} test dataset error: {study.best_value} best_params: {study.best_params}\")"
   ]
  },
  {
   "cell_type": "code",
   "execution_count": 23,
   "metadata": {},
   "outputs": [
    {
     "name": "stderr",
     "output_type": "stream",
     "text": [
      "\u001B[32m[I 2023-03-21 15:52:21,183]\u001B[0m A new study created in RDB with name: BaggingRegressor\u001B[0m\n"
     ]
    },
    {
     "name": "stdout",
     "output_type": "stream",
     "text": [
      "Updating BaggingRegressor.pickle\n"
     ]
    },
    {
     "name": "stderr",
     "output_type": "stream",
     "text": [
      "\u001B[32m[I 2023-03-21 15:53:02,898]\u001B[0m Trial 0 finished with value: 0.0264062521618683 and parameters: {'max_iter': 30, 'max_samples': 20000, 'max_features': 10, 'bootstrap': False, 'bootstrap_features': False}. Best is trial 0 with value: 0.0264062521618683.\u001B[0m\n",
      "\u001B[32m[I 2023-03-21 15:55:00,712]\u001B[0m Trial 1 finished with value: 0.3143542015744639 and parameters: {'max_iter': 90, 'max_samples': 70000, 'max_features': 6, 'bootstrap': False, 'bootstrap_features': True}. Best is trial 0 with value: 0.0264062521618683.\u001B[0m\n",
      "\u001B[32m[I 2023-03-21 15:55:18,140]\u001B[0m Trial 2 finished with value: 0.19056331769400767 and parameters: {'max_iter': 10, 'max_samples': 10000, 'max_features': 9, 'bootstrap': True, 'oob_score': True, 'bootstrap_features': True}. Best is trial 0 with value: 0.0264062521618683.\u001B[0m\n",
      "\u001B[32m[I 2023-03-21 15:57:29,737]\u001B[0m Trial 3 finished with value: 0.2211025704912809 and parameters: {'max_iter': 90, 'max_samples': 60000, 'max_features': 8, 'bootstrap': False, 'bootstrap_features': True}. Best is trial 0 with value: 0.0264062521618683.\u001B[0m\n",
      "\u001B[32m[I 2023-03-21 15:58:13,012]\u001B[0m Trial 4 finished with value: 0.25387658688264364 and parameters: {'max_iter': 90, 'max_samples': 10000, 'max_features': 5, 'bootstrap': True, 'oob_score': True, 'bootstrap_features': False}. Best is trial 0 with value: 0.0264062521618683.\u001B[0m\n",
      "\u001B[32m[I 2023-03-21 16:00:06,834]\u001B[0m Trial 5 finished with value: 0.12984754724558653 and parameters: {'max_iter': 110, 'max_samples': 60000, 'max_features': 7, 'bootstrap': False, 'bootstrap_features': False}. Best is trial 0 with value: 0.0264062521618683.\u001B[0m\n",
      "\u001B[32m[I 2023-03-21 16:00:40,908]\u001B[0m Trial 6 finished with value: 0.1509161977522324 and parameters: {'max_iter': 30, 'max_samples': 50000, 'max_features': 6, 'bootstrap': True, 'oob_score': True, 'bootstrap_features': False}. Best is trial 0 with value: 0.0264062521618683.\u001B[0m\n",
      "\u001B[32m[I 2023-03-21 16:01:04,307]\u001B[0m Trial 7 finished with value: 0.49242895198562414 and parameters: {'max_iter': 50, 'max_samples': 20000, 'max_features': 3, 'bootstrap': True, 'oob_score': False, 'bootstrap_features': True}. Best is trial 0 with value: 0.0264062521618683.\u001B[0m\n",
      "\u001B[32m[I 2023-03-21 16:02:01,706]\u001B[0m Trial 8 finished with value: 0.42002580598446143 and parameters: {'max_iter': 90, 'max_samples': 60000, 'max_features': 4, 'bootstrap': True, 'oob_score': False, 'bootstrap_features': True}. Best is trial 0 with value: 0.0264062521618683.\u001B[0m\n",
      "\u001B[32m[I 2023-03-21 16:02:33,127]\u001B[0m Trial 9 finished with value: 0.36359321729796357 and parameters: {'max_iter': 30, 'max_samples': 40000, 'max_features': 6, 'bootstrap': False, 'bootstrap_features': True}. Best is trial 0 with value: 0.0264062521618683.\u001B[0m\n"
     ]
    },
    {
     "name": "stdout",
     "output_type": "stream",
     "text": [
      "model: BaggingRegressor test dataset error: 0.0264062521618683 best_params: {'bootstrap': False, 'bootstrap_features': False, 'max_features': 10, 'max_iter': 30, 'max_samples': 20000}\n"
     ]
    }
   ],
   "source": [
    "from sklearn.multioutput import MultiOutputRegressor\n",
    "from sklearn.ensemble import BaggingRegressor\n",
    "\n",
    "def objective(trial):\n",
    "    phase = min((trial.number // 30), 4)\n",
    "    \n",
    "    training_sizes = (0.1, 0.1, 0.3, 1.0)\n",
    "    training_max_duration_s = (240, 360, 600, 1200)\n",
    "    \n",
    "    training_size = int(training_sizes[phase] * X_train_scaled.shape[0])\n",
    "    max_duration_s = training_max_duration_s[phase]\n",
    "    \n",
    "    trial_params = {}\n",
    "    \n",
    "    trial_params[\"n_estimators\"] = trial.suggest_int(\"max_iter\", 10, 110, step=20)\n",
    "    trial_params[\"max_samples\"] = trial.suggest_int(\"max_samples\", 10000, (training_size // 10000) * 10000, step=10000)\n",
    "    trial_params[\"max_features\"] = trial.suggest_int(\"max_features\", 1, X_train_scaled.shape[1])\n",
    "    trial_params[\"bootstrap\"] = trial.suggest_categorical(\"bootstrap\", [True, False])\n",
    "    if trial_params[\"bootstrap\"]:\n",
    "        trial_params[\"oob_score\"] = trial.suggest_categorical(\"oob_score\", [True, False])\n",
    "    trial_params[\"bootstrap_features\"] = trial.suggest_categorical(\"bootstrap_features\", [True, False])\n",
    "    \n",
    "    trial.set_user_attr(\"training_size\", training_size)\n",
    "    trial.set_user_attr(\"max_duration_s\", max_duration_s)\n",
    "    trial.set_user_attr(\"model_params\", {\n",
    "        \"n_jobs\": -1,\n",
    "        \"random_state\": 42,\n",
    "        **trial_params\n",
    "    })\n",
    "    \n",
    "    model = MultiOutputRegressor(BaggingRegressor(**trial.user_attrs[\"model_params\"]))\n",
    "    \n",
    "    try:\n",
    "        signal.alarm(max_duration_s)\n",
    "        model.fit(X_train_scaled[:training_size,:], Y_train_pca[:training_size,:])\n",
    "        signal.alarm(0)\n",
    "        error = mse_on_test_dataset(model)\n",
    "        save_best_model(model, error, trial)\n",
    "    except KeyboardInterrupt as e:\n",
    "        raise e\n",
    "    except Exception as e:\n",
    "        print(e)\n",
    "        raise optuna.exceptions.TrialPruned()\n",
    "    return error\n",
    "\n",
    "# try:\n",
    "#     optuna.delete_study(study_name=\"BaggingRegressor\", storage='sqlite:///../final/optuna.db')\n",
    "# except:\n",
    "#     pass\n",
    "\n",
    "study = optuna.create_study(study_name=\"BaggingRegressor\", storage='sqlite:///../final/optuna.db', load_if_exists=True)\n",
    "trials_due = 100 * RUN_ITERATIONS_PERCENT // 100 - len(study.trials)\n",
    "if trials_due > 0:\n",
    "    study.optimize(objective, n_trials=trials_due)\n",
    "    \n",
    "print(f\"model: {study.study_name} test dataset error: {study.best_value} best_params: {study.best_params}\")"
   ]
  },
  {
   "cell_type": "code",
   "execution_count": 21,
   "metadata": {},
   "outputs": [
    {
     "name": "stderr",
     "output_type": "stream",
     "text": [
      "\u001B[32m[I 2023-03-21 15:38:45,101]\u001B[0m A new study created in RDB with name: RandomForrest\u001B[0m\n",
      "\u001B[32m[I 2023-03-21 15:38:47,416]\u001B[0m Trial 0 finished with value: 0.08256820963993508 and parameters: {'n_estimators': 110, 'criterion': 'friedman_mse', 'min_samples_split': 5, 'bootstrap': True, 'max_samples': 0.16416466786708495, 'max_features': 4}. Best is trial 0 with value: 0.08256820963993508.\u001B[0m\n",
      "\u001B[32m[I 2023-03-21 15:38:49,866]\u001B[0m Trial 1 finished with value: 0.21567392329663992 and parameters: {'n_estimators': 150, 'criterion': 'friedman_mse', 'min_samples_split': 2, 'bootstrap': True, 'max_samples': 0.16066807110964088, 'max_features': 1}. Best is trial 0 with value: 0.08256820963993508.\u001B[0m\n",
      "\u001B[32m[I 2023-03-21 15:38:51,082]\u001B[0m Trial 2 finished with value: 0.14419035653802095 and parameters: {'n_estimators': 10, 'criterion': 'friedman_mse', 'min_samples_split': 3, 'bootstrap': True, 'max_samples': 0.06841821675777426, 'max_features': 4}. Best is trial 0 with value: 0.08256820963993508.\u001B[0m\n",
      "\u001B[32m[I 2023-03-21 15:39:33,463]\u001B[0m Trial 3 finished with value: 0.18388863762388521 and parameters: {'n_estimators': 170, 'criterion': 'absolute_error', 'min_samples_split': 5, 'bootstrap': True, 'max_samples': 0.060344164129804416, 'max_features': 2}. Best is trial 0 with value: 0.08256820963993508.\u001B[0m\n",
      "\u001B[32m[I 2023-03-21 15:39:40,675]\u001B[0m Trial 4 finished with value: 0.13885770487278068 and parameters: {'n_estimators': 10, 'criterion': 'absolute_error', 'min_samples_split': 3, 'bootstrap': True, 'max_samples': 0.11278957174281629, 'max_features': 3}. Best is trial 0 with value: 0.08256820963993508.\u001B[0m\n",
      "\u001B[32m[I 2023-03-21 15:39:51,780]\u001B[0m Trial 5 finished with value: 0.2757435852706501 and parameters: {'n_estimators': 40, 'criterion': 'absolute_error', 'min_samples_split': 5, 'bootstrap': True, 'max_samples': 0.059447973001844706, 'max_features': 1}. Best is trial 0 with value: 0.08256820963993508.\u001B[0m\n",
      "\u001B[32m[I 2023-03-21 15:40:30,098]\u001B[0m Trial 6 finished with value: 0.2711633696034436 and parameters: {'n_estimators': 150, 'criterion': 'absolute_error', 'min_samples_split': 5, 'bootstrap': True, 'max_samples': 0.061875346690706025, 'max_features': 1}. Best is trial 0 with value: 0.08256820963993508.\u001B[0m\n",
      "\u001B[32m[I 2023-03-21 15:41:45,919]\u001B[0m Trial 7 finished with value: 0.09188812805453059 and parameters: {'n_estimators': 150, 'criterion': 'absolute_error', 'min_samples_split': 4, 'bootstrap': True, 'max_samples': 0.11275456227158343, 'max_features': 5}. Best is trial 0 with value: 0.08256820963993508.\u001B[0m\n",
      "\u001B[32m[I 2023-03-21 15:41:47,332]\u001B[0m Trial 8 finished with value: 0.49380043797318096 and parameters: {'n_estimators': 10, 'criterion': 'friedman_mse', 'min_samples_split': 5, 'bootstrap': True, 'max_samples': 0.0195167625031351, 'max_features': 1}. Best is trial 0 with value: 0.08256820963993508.\u001B[0m\n",
      "\u001B[32m[I 2023-03-21 15:43:48,002]\u001B[0m Trial 9 pruned. \u001B[0m\n"
     ]
    },
    {
     "name": "stdout",
     "output_type": "stream",
     "text": [
      "model: RandomForrest test dataset error: 0.08256820963993508 best_params: {'bootstrap': True, 'criterion': 'friedman_mse', 'max_features': 4, 'max_samples': 0.16416466786708495, 'min_samples_split': 5, 'n_estimators': 110}\n"
     ]
    }
   ],
   "source": [
    "from sklearn.ensemble import RandomForestRegressor\n",
    "\n",
    "def objective(trial):\n",
    "    phase = min((trial.number // 30), 4)\n",
    "\n",
    "    training_sizes = (0.01, 0.03, 0.1, 0.3, 1.0)\n",
    "    training_max_duration_s = (120, 180, 360, 600, 1200)\n",
    "    training_size = int(training_sizes[phase] * X_train_scaled.shape[0])\n",
    "    max_duration_s = training_max_duration_s[phase]\n",
    "    \n",
    "    trial.set_user_attr(\"training_size\", training_size)\n",
    "    trial.set_user_attr(\"max_duration_s\", max_duration_s)\n",
    "    trial.set_user_attr(\"model_params\", {\n",
    "      \"n_estimators\": trial.suggest_int(\"n_estimators\", 10, 200, step=10),\n",
    "      \"criterion\": trial.suggest_categorical(\"criterion\", [\"squared_error\", \"absolute_error\", \"friedman_mse\"]),\n",
    "      \"min_samples_split\": trial.suggest_int(\"min_samples_split\", 2, 5),\n",
    "      \"bootstrap\": trial.suggest_categorical(\"bootstrap\", [True]),\n",
    "      \"max_samples\": trial.suggest_float(\"max_samples\", 0.0, 0.2),\n",
    "      \"max_features\": trial.suggest_int(\"max_features\", 1, X_train_scaled.shape[1] // 2),\n",
    "      \"n_jobs\": -1,\n",
    "      \"random_state\": 42\n",
    "    })\n",
    "    \n",
    "    model = RandomForestRegressor(**trial.user_attrs[\"model_params\"])\n",
    "    \n",
    "    try:\n",
    "        signal.alarm(max_duration_s)\n",
    "        model.fit(X_train_scaled[:training_size,:], Y_train_pca[:training_size,:])\n",
    "        Y_predict_pca = model.predict(X_test_scaled)\n",
    "        Y_predict = pca.inverse_transform(Y_predict_pca)\n",
    "        error = mean_squared_error(Y_test, Y_predict)\n",
    "        signal.alarm(0)\n",
    "    except KeyboardInterrupt as e:\n",
    "        raise e\n",
    "    except:\n",
    "        raise optuna.exceptions.TrialPruned()\n",
    "    return error\n",
    "\n",
    "study = optuna.create_study(study_name=\"RandomForrest\", storage='sqlite:///../final/optuna.db', load_if_exists=True)\n",
    "trials_due = 100 * RUN_ITERATIONS_PERCENT // 100 - len(study.trials)\n",
    "if trials_due > 0:\n",
    "    study.optimize(objective, n_trials=trials_due)\n",
    "\n",
    "print(f\"model: {study.study_name} test dataset error: {study.best_value} best_params: {study.best_params}\")"
   ]
  },
  {
   "cell_type": "code",
   "execution_count": 25,
   "metadata": {},
   "outputs": [
    {
     "name": "stderr",
     "output_type": "stream",
     "text": [
      "\u001B[32m[I 2023-03-21 16:06:15,586]\u001B[0m A new study created in RDB with name: ExtraTreesRegressor\u001B[0m\n"
     ]
    },
    {
     "name": "stdout",
     "output_type": "stream",
     "text": [
      "Updating ExtraTreesRegressor.pickle\n"
     ]
    },
    {
     "name": "stderr",
     "output_type": "stream",
     "text": [
      "\u001B[32m[I 2023-03-21 16:06:17,671]\u001B[0m Trial 0 finished with value: 0.1855282981273701 and parameters: {'n_estimators': 49, 'criterion': 'friedman_mse', 'min_samples_split': 4, 'bootstrap': True, 'max_samples': 0.18224843178696704, 'max_features': 2}. Best is trial 0 with value: 0.1855282981273701.\u001B[0m\n"
     ]
    },
    {
     "name": "stdout",
     "output_type": "stream",
     "text": [
      "Updating ExtraTreesRegressor.pickle\n"
     ]
    },
    {
     "name": "stderr",
     "output_type": "stream",
     "text": [
      "\u001B[32m[I 2023-03-21 16:07:08,445]\u001B[0m Trial 1 finished with value: 0.10852403962715776 and parameters: {'n_estimators': 83, 'criterion': 'absolute_error', 'min_samples_split': 4, 'bootstrap': True, 'max_samples': 0.1343839267224416, 'max_features': 5}. Best is trial 1 with value: 0.10852403962715776.\u001B[0m\n",
      "\u001B[32m[I 2023-03-21 16:07:10,827]\u001B[0m Trial 2 finished with value: 0.1962629449947672 and parameters: {'n_estimators': 122, 'criterion': 'friedman_mse', 'min_samples_split': 3, 'bootstrap': True, 'max_samples': 0.13128280327545178, 'max_features': 2}. Best is trial 1 with value: 0.10852403962715776.\u001B[0m\n",
      "\u001B[32m[I 2023-03-21 16:07:12,583]\u001B[0m Trial 3 finished with value: 0.3824555826922991 and parameters: {'n_estimators': 66, 'criterion': 'friedman_mse', 'min_samples_split': 5, 'bootstrap': True, 'max_samples': 0.052000913115526085, 'max_features': 1}. Best is trial 1 with value: 0.10852403962715776.\u001B[0m\n",
      "\u001B[32m[I 2023-03-21 16:07:14,935]\u001B[0m Trial 4 finished with value: 0.17325219363605562 and parameters: {'n_estimators': 144, 'criterion': 'friedman_mse', 'min_samples_split': 5, 'bootstrap': True, 'max_samples': 0.08185053252670865, 'max_features': 3}. Best is trial 1 with value: 0.10852403962715776.\u001B[0m\n",
      "\u001B[32m[I 2023-03-21 16:07:16,214]\u001B[0m Trial 5 finished with value: 0.29931109069473505 and parameters: {'n_estimators': 34, 'criterion': 'squared_error', 'min_samples_split': 2, 'bootstrap': True, 'max_samples': 0.1992733135278512, 'max_features': 1}. Best is trial 1 with value: 0.10852403962715776.\u001B[0m\n",
      "\u001B[32m[I 2023-03-21 16:09:16,669]\u001B[0m Trial 6 pruned. \u001B[0m\n",
      "\u001B[32m[I 2023-03-21 16:09:19,785]\u001B[0m Trial 7 finished with value: 0.3827701124239432 and parameters: {'n_estimators': 40, 'criterion': 'friedman_mse', 'min_samples_split': 2, 'bootstrap': True, 'max_samples': 0.03279695553516424, 'max_features': 1}. Best is trial 1 with value: 0.10852403962715776.\u001B[0m\n",
      "\u001B[32m[I 2023-03-21 16:09:22,841]\u001B[0m Trial 8 finished with value: 0.3062673769089622 and parameters: {'n_estimators': 96, 'criterion': 'squared_error', 'min_samples_split': 2, 'bootstrap': True, 'max_samples': 0.0923269630539862, 'max_features': 1}. Best is trial 1 with value: 0.10852403962715776.\u001B[0m\n",
      "\u001B[32m[I 2023-03-21 16:09:25,804]\u001B[0m Trial 9 finished with value: 0.12231905677985683 and parameters: {'n_estimators': 81, 'criterion': 'friedman_mse', 'min_samples_split': 4, 'bootstrap': True, 'max_samples': 0.18096986704047144, 'max_features': 3}. Best is trial 1 with value: 0.10852403962715776.\u001B[0m\n"
     ]
    },
    {
     "name": "stdout",
     "output_type": "stream",
     "text": [
      "model: ExtraTreesRegressor test dataset error: 0.10852403962715776 best_params: {'bootstrap': True, 'criterion': 'absolute_error', 'max_features': 5, 'max_samples': 0.1343839267224416, 'min_samples_split': 4, 'n_estimators': 83}\n"
     ]
    }
   ],
   "source": [
    "from sklearn.ensemble import ExtraTreesRegressor\n",
    "\n",
    "def objective(trial):\n",
    "    phase = min((trial.number // 30), 4)\n",
    "\n",
    "    training_sizes = (0.01, 0.03, 0.1, 0.3, 1.0)\n",
    "    training_max_duration_s = (120, 180, 360, 600, 1200)\n",
    "    training_size = int(training_sizes[phase] * X_train_scaled.shape[0])\n",
    "    max_duration_s = training_max_duration_s[phase]\n",
    "    trial.set_user_attr(\"training_size\", training_size)\n",
    "    trial.set_user_attr(\"max_duration_s\", max_duration_s)\n",
    "    \n",
    "    trial.set_user_attr(\"model_params\", {\n",
    "      \"n_estimators\": trial.suggest_int(\"n_estimators\", 10, 200),\n",
    "      \"criterion\": trial.suggest_categorical(\"criterion\", [\"squared_error\", \"absolute_error\", \"friedman_mse\"]),\n",
    "      \"min_samples_split\": trial.suggest_int(\"min_samples_split\", 2, 5),\n",
    "      \"bootstrap\": trial.suggest_categorical(\"bootstrap\", [True]),\n",
    "      \"max_samples\": trial.suggest_float(\"max_samples\", 0.0, 0.2),\n",
    "      \"max_features\": trial.suggest_int(\"max_features\", 1, X_train_scaled.shape[1] // 2),\n",
    "      \"n_jobs\": -1,\n",
    "      \"random_state\": 42\n",
    "    })\n",
    "    \n",
    "    model = ExtraTreesRegressor(**trial.user_attrs[\"model_params\"])\n",
    "    \n",
    "    try:\n",
    "        signal.alarm(max_duration_s)\n",
    "        model.fit(X_train_scaled[:training_size,:], Y_train_pca[:training_size,:])\n",
    "        signal.alarm(0)\n",
    "        error = mse_on_test_dataset(model)\n",
    "        save_best_model(model, error, trial)\n",
    "    except KeyboardInterrupt as e:\n",
    "        raise e\n",
    "    except:\n",
    "        raise optuna.exceptions.TrialPruned()\n",
    "    return error\n",
    "\n",
    "study = optuna.create_study(study_name=\"ExtraTreesRegressor\", storage='sqlite:///../final/optuna.db', load_if_exists=True)\n",
    "trials_due = 100 * RUN_ITERATIONS_PERCENT // 100 - len(study.trials)\n",
    "if trials_due > 0:\n",
    "    study.optimize(objective, n_trials=trials_due)\n",
    "    \n",
    "print(f\"model: {study.study_name} test dataset error: {study.best_value} best_params: {study.best_params}\")"
   ]
  },
  {
   "cell_type": "code",
   "execution_count": 22,
   "metadata": {},
   "outputs": [
    {
     "name": "stderr",
     "output_type": "stream",
     "text": [
      "\u001B[32m[I 2023-03-21 15:43:48,684]\u001B[0m A new study created in RDB with name: KNeighborsRegressor\u001B[0m\n",
      "\u001B[32m[I 2023-03-21 15:44:06,034]\u001B[0m Trial 0 finished with value: 0.18742825016871414 and parameters: {'n_neighbors': 26, 'weights': 'uniform', 'algorithm': 'brute', 'p': 3}. Best is trial 0 with value: 0.18742825016871414.\u001B[0m\n",
      "\u001B[32m[I 2023-03-21 15:44:56,533]\u001B[0m Trial 1 finished with value: 0.22331666645013348 and parameters: {'n_neighbors': 100, 'weights': 'uniform', 'algorithm': 'kd_tree', 'leaf_size': 42, 'p': 2}. Best is trial 0 with value: 0.18742825016871414.\u001B[0m\n",
      "\u001B[32m[I 2023-03-21 15:46:15,761]\u001B[0m Trial 2 finished with value: 0.20575789214344845 and parameters: {'n_neighbors': 53, 'weights': 'distance', 'algorithm': 'kd_tree', 'leaf_size': 19, 'p': 3}. Best is trial 0 with value: 0.18742825016871414.\u001B[0m\n",
      "\u001B[32m[I 2023-03-21 15:47:13,638]\u001B[0m Trial 3 finished with value: 0.1923036806813801 and parameters: {'n_neighbors': 70, 'weights': 'uniform', 'algorithm': 'ball_tree', 'leaf_size': 33, 'p': 1}. Best is trial 0 with value: 0.18742825016871414.\u001B[0m\n",
      "\u001B[32m[I 2023-03-21 15:48:19,888]\u001B[0m Trial 4 finished with value: 0.15948482728059055 and parameters: {'n_neighbors': 25, 'weights': 'uniform', 'algorithm': 'kd_tree', 'leaf_size': 50, 'p': 1}. Best is trial 4 with value: 0.15948482728059055.\u001B[0m\n",
      "\u001B[32m[I 2023-03-21 15:48:34,865]\u001B[0m Trial 5 finished with value: 0.20030235175466998 and parameters: {'n_neighbors': 24, 'weights': 'uniform', 'algorithm': 'brute', 'p': 5}. Best is trial 4 with value: 0.15948482728059055.\u001B[0m\n",
      "\u001B[32m[I 2023-03-21 15:50:23,895]\u001B[0m Trial 6 finished with value: 0.2070954296496016 and parameters: {'n_neighbors': 55, 'weights': 'distance', 'algorithm': 'ball_tree', 'leaf_size': 32, 'p': 3}. Best is trial 4 with value: 0.15948482728059055.\u001B[0m\n",
      "\u001B[32m[I 2023-03-21 15:50:39,486]\u001B[0m Trial 7 finished with value: 0.23119262201256544 and parameters: {'n_neighbors': 66, 'weights': 'uniform', 'algorithm': 'brute', 'p': 4}. Best is trial 4 with value: 0.15948482728059055.\u001B[0m\n",
      "\u001B[32m[I 2023-03-21 15:52:04,003]\u001B[0m Trial 8 finished with value: 0.24837278659744436 and parameters: {'n_neighbors': 96, 'weights': 'distance', 'algorithm': 'kd_tree', 'leaf_size': 42, 'p': 5}. Best is trial 4 with value: 0.15948482728059055.\u001B[0m\n",
      "\u001B[32m[I 2023-03-21 15:52:21,031]\u001B[0m Trial 9 finished with value: 0.22532244357893944 and parameters: {'n_neighbors': 85, 'weights': 'distance', 'algorithm': 'brute', 'p': 3}. Best is trial 4 with value: 0.15948482728059055.\u001B[0m\n"
     ]
    },
    {
     "name": "stdout",
     "output_type": "stream",
     "text": [
      "model: KNeighborsRegressor test dataset error: 0.15948482728059055 best_params: {'algorithm': 'kd_tree', 'leaf_size': 50, 'n_neighbors': 25, 'p': 1, 'weights': 'uniform'}\n"
     ]
    }
   ],
   "source": [
    "from sklearn.neighbors import KNeighborsRegressor\n",
    "\n",
    "common_params = {\n",
    "    \"n_jobs\": -1\n",
    "}\n",
    "\n",
    "def objective(trial):\n",
    "    phase = min((trial.number // 30), 4)\n",
    "\n",
    "    training_sizes = (0.01, 0.03, 0.1, 0.3, 1.0)\n",
    "    training_max_duration_s = (120, 180, 360, 600, 1200)\n",
    "    training_size = int(training_sizes[phase] * X_train_scaled.shape[0])\n",
    "    max_duration_s = training_max_duration_s[phase]\n",
    "    \n",
    "    trial_params = {}\n",
    "    trial_params[\"n_neighbors\"] = trial.suggest_int(\"n_neighbors\", 1, 100)\n",
    "    trial_params[\"weights\"] = trial.suggest_categorical(\"weights\", [\"uniform\", \"distance\"])\n",
    "    trial_params[\"algorithm\"] = trial.suggest_categorical(\"algorithm\", [\"ball_tree\", \"kd_tree\", \"brute\"])\n",
    "    if trial_params[\"algorithm\"] != \"brute\":\n",
    "        trial_params[\"leaf_size\"] = trial.suggest_int(\"leaf_size\", 10, 50)\n",
    "    trial_params[\"p\"] = trial.suggest_int(\"p\", 1, 5)\n",
    "    \n",
    "    model_params = {\n",
    "        **trial_params,\n",
    "        **common_params\n",
    "    }\n",
    "    trial.set_user_attr(\"model_params\", model_params)\n",
    "    model = KNeighborsRegressor(**trial.user_attrs[\"model_params\"])\n",
    "    \n",
    "    try:\n",
    "        signal.alarm(max_duration_s)\n",
    "        model.fit(X_train_scaled[:training_size,:], Y_train_pca[:training_size,:])\n",
    "        error = mse_on_test_dataset(model)\n",
    "        signal.alarm(0)\n",
    "    except KeyboardInterrupt as e:\n",
    "        raise e\n",
    "    except Exception as e:\n",
    "        print(e)\n",
    "        raise optuna.exceptions.TrialPruned()\n",
    "    return error\n",
    "\n",
    "study = optuna.create_study(study_name=\"KNeighborsRegressor\", storage='sqlite:///../final/optuna.db', load_if_exists=True)\n",
    "trials_due = 100 * RUN_ITERATIONS_PERCENT // 100 - len(study.trials)\n",
    "if trials_due > 0:\n",
    "    study.optimize(objective, n_trials=trials_due)\n",
    "    \n",
    "print(f\"model: {study.study_name} test dataset error: {study.best_value} best_params: {study.best_params}\")"
   ]
  },
  {
   "cell_type": "code",
   "execution_count": null,
   "metadata": {},
   "outputs": [],
   "source": []
  }
 ],
 "metadata": {
  "kernelspec": {
   "display_name": "Python 3 (ipykernel)",
   "language": "python",
   "name": "python3"
  },
  "language_info": {
   "codemirror_mode": {
    "name": "ipython",
    "version": 3
   },
   "file_extension": ".py",
   "mimetype": "text/x-python",
   "name": "python",
   "nbconvert_exporter": "python",
   "pygments_lexer": "ipython3",
   "version": "3.11.2"
  }
 },
 "nbformat": 4,
 "nbformat_minor": 4
}
